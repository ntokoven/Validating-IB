{
 "cells": [
  {
   "cell_type": "code",
   "execution_count": 1,
   "metadata": {},
   "outputs": [
    {
     "name": "stdout",
     "output_type": "stream",
     "text": [
      "Populating the interactive namespace from numpy and matplotlib\n"
     ]
    }
   ],
   "source": [
    "%pylab inline\n",
    "import torch\n",
    "\n",
    "# Flag to enable execution on GPU\n",
    "cuda = True if torch.cuda.is_available() else False"
   ]
  },
  {
   "cell_type": "markdown",
   "metadata": {},
   "source": [
    "# Dataset"
   ]
  },
  {
   "cell_type": "code",
   "execution_count": 2,
   "metadata": {},
   "outputs": [],
   "source": [
    "from torchvision.datasets import MNIST\n",
    "from torchvision.transforms import ToTensor\n",
    "\n",
    "# Loading the MNIST dataset\n",
    "train_set = MNIST('./data/MNIST', download=True, train=True, transform=ToTensor())\n",
    "test_set = MNIST('./data/MNIST', download=True, train=True, transform=ToTensor())"
   ]
  },
  {
   "cell_type": "code",
   "execution_count": 3,
   "metadata": {},
   "outputs": [],
   "source": [
    "from torchvision.transforms import Compose, RandomAffine, ToTensor\n",
    "from data_utils import PixelCorruption\n",
    "\n",
    "# Defining the augmentations\n",
    "t = Compose([\n",
    "    RandomAffine(degrees=15,\n",
    "                 translate=[0.1, 0.1],\n",
    "                 scale=[0.9, 1.1],\n",
    "                 shear=15), # Small affine transformations\n",
    "    ToTensor(),             # Conversion to torch tensor\n",
    "    PixelCorruption(0.8)    # PixelCorruption with keep probability 80%\n",
    "])"
   ]
  },
  {
   "cell_type": "code",
   "execution_count": 4,
   "metadata": {},
   "outputs": [
    {
     "data": {
      "image/png": "[encoded data removed]",
      "text/plain": [
       "<Figure size 432x288 with 2 Axes>"
      ]
     },
     "metadata": {
      "needs_background": "light"
     },
     "output_type": "display_data"
    }
   ],
   "source": [
    "from data_utils import AugmentedDataset\n",
    "\n",
    "# Creating the multi-view dataset\n",
    "mv_train_set = AugmentedDataset(MNIST('./data/MNIST', train=True), t)\n",
    "\n",
    "# Visualization of one example\n",
    "f, ax = plt.subplots(1,2)\n",
    "\n",
    "idx = 0\n",
    "v_1, v_2, y = mv_train_set[idx]\n",
    "f.suptitle('Label: %d'%y,size=15)\n",
    "ax[0].imshow(v_1[0].data.numpy())\n",
    "ax[1].imshow(v_2[0].data.numpy())\n",
    "ax[0].axis('off')\n",
    "ax[1].axis('off');"
   ]
  },
  {
   "cell_type": "code",
   "execution_count": 5,
   "metadata": {},
   "outputs": [],
   "source": [
    "from torch.utils.data import DataLoader\n",
    "\n",
    "batch_size = 64\n",
    "\n",
    "# Initialization of the data loader\n",
    "train_loader = DataLoader(mv_train_set, batch_size=batch_size, shuffle=True, num_workers=8 if cuda else 1)"
   ]
  },
  {
   "cell_type": "markdown",
   "metadata": {},
   "source": [
    "# Defining the architectures"
   ]
  },
  {
   "cell_type": "code",
   "execution_count": 6,
   "metadata": {},
   "outputs": [],
   "source": [
    "import torch.nn as nn\n",
    "from torch.distributions import Normal, Independent\n",
    "from torch.nn.functional import softplus\n",
    "\n",
    "# Encoder architecture\n",
    "class Encoder(nn.Module):\n",
    "    def __init__(self, z_dim):\n",
    "        super(Encoder, self).__init__()\n",
    "        \n",
    "        self.z_dim = z_dim\n",
    "        \n",
    "        # Vanilla MLP\n",
    "        self.net = nn.Sequential(\n",
    "            nn.Linear(28*28, 1024),\n",
    "            nn.ReLU(True),\n",
    "            nn.Linear(1024, 1024),\n",
    "            nn.ReLU(True),\n",
    "            nn.Linear(1024, z_dim*2),\n",
    "        )\n",
    "        \n",
    "    def forward(self, x):\n",
    "        x = x.view(x.size(0),-1) # Flatten the input\n",
    "        params = self.net(x)\n",
    "        \n",
    "        mu, sigma = params[:,:self.z_dim], params[:,self.z_dim:]\n",
    "        sigma = softplus(sigma) + 1e-7  # Make sigma always positive\n",
    "        \n",
    "        return Independent(Normal(loc=mu, scale=sigma), 1) # Return a factorized Normal distribution\n",
    "\n",
    "# Auxiliary network for mutual information estimation\n",
    "class MIEstimator(nn.Module):\n",
    "    def __init__(self, size1, size2):\n",
    "        super(MIEstimator, self).__init__()\n",
    "        \n",
    "        # Vanilla MLP\n",
    "        self.net = nn.Sequential(\n",
    "            nn.Linear(size1 + size2, 1024),\n",
    "            nn.ReLU(True),\n",
    "            nn.Linear(1024, 1024),\n",
    "            nn.ReLU(True),\n",
    "            nn.Linear(1024, 1),\n",
    "        )\n",
    "    \n",
    "    # Gradient for JSD mutual information estimation and EB-based estimation\n",
    "    def forward(self, x1, x2):\n",
    "        pos = self.net(torch.cat([x1, x2], 1)) #Positive Samples \n",
    "        neg = self.net(torch.cat([torch.roll(x1, 1, 0), x2], 1)) #Predictions for shuffled (negative) samples from p(z1)p(z2)\n",
    "        #breakpoint()\n",
    "        return -softplus(-pos).mean() - softplus(neg).mean(), pos.mean() - neg.exp().mean() + 1\n",
    "    \n"
   ]
  },
  {
   "cell_type": "code",
   "execution_count": 7,
   "metadata": {},
   "outputs": [],
   "source": [
    "# Size of the representation\n",
    "z_dim = 64\n",
    "\n",
    "# Intialization of the encoder(s)\n",
    "encoder_v_1 = Encoder(z_dim)\n",
    "encoder_v_2 = encoder_v_1 # Full parameter sharing for the two encoders\n",
    "\n",
    "# Initialization of the mutual information estimation network\n",
    "mi_estimator = MIEstimator(z_dim, z_dim) \n",
    "\n",
    "# Moving the models to the GPU\n",
    "if cuda:\n",
    "    encoder_v_1 = encoder_v_1.cuda()\n",
    "    encoder_v_2 = encoder_v_2.cuda()\n",
    "    mi_estimator = mi_estimator.cuda()"
   ]
  },
  {
   "cell_type": "code",
   "execution_count": 8,
   "metadata": {},
   "outputs": [],
   "source": [
    "from torch.optim import Adam\n",
    "\n",
    "# Defining the optimizer\n",
    "opt = Adam([\n",
    "    {'params': encoder_v_1.parameters(), 'lr':1e-4},\n",
    "#     {'params': encoder_v_2.parameters(), 'lr':1e-4}, # There is only one encoder in this example\n",
    "    {'params': mi_estimator.parameters(), 'lr':1e-4},\n",
    "])"
   ]
  },
  {
   "cell_type": "markdown",
   "metadata": {},
   "source": [
    "# Evaluation"
   ]
  },
  {
   "cell_type": "code",
   "execution_count": 9,
   "metadata": {},
   "outputs": [],
   "source": [
    "from evaluation import evaluate, split\n",
    "\n",
    "\n",
    "# Select a subset (100 samples per label ~0.17 %) of labeled train points\n",
    "train_subset = split(train_set, 10, 'Balanced') "
   ]
  },
  {
   "cell_type": "markdown",
   "metadata": {},
   "source": [
    "# Training procedure"
   ]
  },
  {
   "cell_type": "code",
   "execution_count": 10,
   "metadata": {},
   "outputs": [
    {
     "data": {
      "image/png": "[encoded data removed]",
      "text/plain": [
       "<Figure size 432x288 with 1 Axes>"
      ]
     },
     "metadata": {
      "needs_background": "light"
     },
     "output_type": "display_data"
    }
   ],
   "source": [
    "from data_utils import ExponentialScheduler\n",
    "\n",
    "# Defining the schedule for the update of the hyper-parameter over time\n",
    "beta_scheduler = ExponentialScheduler(start_value=1e-3, end_value=1, n_iterations=100, start_iteration=50)\n",
    "# beta_scheduler = ExponentialScheduler(start_value=1e-3, end_value=1, n_iterations=100000, start_iteration=50000)\n",
    "\n",
    "# Visualization of the scheduler behavior\n",
    "iterations = np.arange(250)\n",
    "plt.plot(iterations, [beta_scheduler(iteration) for iteration in iterations])\n",
    "plt.title('$\\\\beta$ Schedule', size=20)\n",
    "plt.yscale('log')\n",
    "plt.xlabel('Iteration', size=15)\n",
    "plt.ylabel('$\\\\beta$', size=15);"
   ]
  },
  {
   "cell_type": "code",
   "execution_count": 11,
   "metadata": {},
   "outputs": [],
   "source": [
    "from tqdm import tqdm_notebook as tqdm\n",
    "\n",
    "# Training parameters\n",
    "# Increase number of epochs and delay the beta increment for better performances\n",
    "epochs = 300\n",
    "iterations = 0\n",
    "plot_every = 20\n",
    "mi_over_time = []\n",
    "skl_over_time = []"
   ]
  },
  {
   "cell_type": "code",
   "execution_count": 33,
   "metadata": {},
   "outputs": [
    {
     "data": {
      "application/vnd.jupyter.widget-view+json": {
       "model_id": "515f2d1ac3a24a4fb4bbba9649479b6d",
       "version_major": 2,
       "version_minor": 0
      },
      "text/plain": [
       "HBox(children=(IntProgress(value=0, max=300), HTML(value='')))"
      ]
     },
     "metadata": {},
     "output_type": "display_data"
    },
    {
     "name": "stderr",
     "output_type": "stream",
     "text": [
      "Traceback (most recent call last):\n",
      "  File \"/Users/ntokoven/miniconda3/envs/py37/lib/python3.7/multiprocessing/queues.py\", line 242, in _feed\n",
      "    send_bytes(obj)\n",
      "  File \"/Users/ntokoven/miniconda3/envs/py37/lib/python3.7/multiprocessing/connection.py\", line 200, in send_bytes\n",
      "    self._send_bytes(m[offset:offset + size])\n",
      "  File \"/Users/ntokoven/miniconda3/envs/py37/lib/python3.7/multiprocessing/connection.py\", line 404, in _send_bytes\n",
      "    self._send(header + buf)\n",
      "  File \"/Users/ntokoven/miniconda3/envs/py37/lib/python3.7/multiprocessing/connection.py\", line 368, in _send\n",
      "    n = write(self._handle, buf)\n",
      "BrokenPipeError: [Errno 32] Broken pipe\n"
     ]
    },
    {
     "ename": "KeyboardInterrupt",
     "evalue": "",
     "output_type": "error",
     "traceback": [
      "\u001b[0;31m---------------------------------------------------------------------------\u001b[0m",
      "\u001b[0;31mKeyboardInterrupt\u001b[0m                         Traceback (most recent call last)",
      "\u001b[0;32m<ipython-input-33-8425d841a63f>\u001b[0m in \u001b[0;36m<module>\u001b[0;34m\u001b[0m\n\u001b[1;32m     38\u001b[0m         \u001b[0;31m# Backward pass and update\u001b[0m\u001b[0;34m\u001b[0m\u001b[0;34m\u001b[0m\u001b[0;34m\u001b[0m\u001b[0m\n\u001b[1;32m     39\u001b[0m         \u001b[0mopt\u001b[0m\u001b[0;34m.\u001b[0m\u001b[0mzero_grad\u001b[0m\u001b[0;34m(\u001b[0m\u001b[0;34m)\u001b[0m\u001b[0;34m\u001b[0m\u001b[0;34m\u001b[0m\u001b[0m\n\u001b[0;32m---> 40\u001b[0;31m         \u001b[0mloss\u001b[0m\u001b[0;34m.\u001b[0m\u001b[0mbackward\u001b[0m\u001b[0;34m(\u001b[0m\u001b[0;34m)\u001b[0m\u001b[0;34m\u001b[0m\u001b[0;34m\u001b[0m\u001b[0m\n\u001b[0m\u001b[1;32m     41\u001b[0m         \u001b[0mopt\u001b[0m\u001b[0;34m.\u001b[0m\u001b[0mstep\u001b[0m\u001b[0;34m(\u001b[0m\u001b[0;34m)\u001b[0m\u001b[0;34m\u001b[0m\u001b[0;34m\u001b[0m\u001b[0m\n\u001b[1;32m     42\u001b[0m \u001b[0;34m\u001b[0m\u001b[0m\n",
      "\u001b[0;32m~/miniconda3/envs/py37/lib/python3.7/site-packages/torch/tensor.py\u001b[0m in \u001b[0;36mbackward\u001b[0;34m(self, gradient, retain_graph, create_graph)\u001b[0m\n\u001b[1;32m    105\u001b[0m                 \u001b[0mproducts\u001b[0m\u001b[0;34m.\u001b[0m \u001b[0mDefaults\u001b[0m \u001b[0mto\u001b[0m\u001b[0;31m \u001b[0m\u001b[0;31m`\u001b[0m\u001b[0;31m`\u001b[0m\u001b[0;32mFalse\u001b[0m\u001b[0;31m`\u001b[0m\u001b[0;31m`\u001b[0m\u001b[0;34m.\u001b[0m\u001b[0;34m\u001b[0m\u001b[0;34m\u001b[0m\u001b[0m\n\u001b[1;32m    106\u001b[0m         \"\"\"\n\u001b[0;32m--> 107\u001b[0;31m         \u001b[0mtorch\u001b[0m\u001b[0;34m.\u001b[0m\u001b[0mautograd\u001b[0m\u001b[0;34m.\u001b[0m\u001b[0mbackward\u001b[0m\u001b[0;34m(\u001b[0m\u001b[0mself\u001b[0m\u001b[0;34m,\u001b[0m \u001b[0mgradient\u001b[0m\u001b[0;34m,\u001b[0m \u001b[0mretain_graph\u001b[0m\u001b[0;34m,\u001b[0m \u001b[0mcreate_graph\u001b[0m\u001b[0;34m)\u001b[0m\u001b[0;34m\u001b[0m\u001b[0;34m\u001b[0m\u001b[0m\n\u001b[0m\u001b[1;32m    108\u001b[0m \u001b[0;34m\u001b[0m\u001b[0m\n\u001b[1;32m    109\u001b[0m     \u001b[0;32mdef\u001b[0m \u001b[0mregister_hook\u001b[0m\u001b[0;34m(\u001b[0m\u001b[0mself\u001b[0m\u001b[0;34m,\u001b[0m \u001b[0mhook\u001b[0m\u001b[0;34m)\u001b[0m\u001b[0;34m:\u001b[0m\u001b[0;34m\u001b[0m\u001b[0;34m\u001b[0m\u001b[0m\n",
      "\u001b[0;32m~/miniconda3/envs/py37/lib/python3.7/site-packages/torch/autograd/__init__.py\u001b[0m in \u001b[0;36mbackward\u001b[0;34m(tensors, grad_tensors, retain_graph, create_graph, grad_variables)\u001b[0m\n\u001b[1;32m     91\u001b[0m     Variable._execution_engine.run_backward(\n\u001b[1;32m     92\u001b[0m         \u001b[0mtensors\u001b[0m\u001b[0;34m,\u001b[0m \u001b[0mgrad_tensors\u001b[0m\u001b[0;34m,\u001b[0m \u001b[0mretain_graph\u001b[0m\u001b[0;34m,\u001b[0m \u001b[0mcreate_graph\u001b[0m\u001b[0;34m,\u001b[0m\u001b[0;34m\u001b[0m\u001b[0;34m\u001b[0m\u001b[0m\n\u001b[0;32m---> 93\u001b[0;31m         allow_unreachable=True)  # allow_unreachable flag\n\u001b[0m\u001b[1;32m     94\u001b[0m \u001b[0;34m\u001b[0m\u001b[0m\n\u001b[1;32m     95\u001b[0m \u001b[0;34m\u001b[0m\u001b[0m\n",
      "\u001b[0;31mKeyboardInterrupt\u001b[0m: "
     ]
    }
   ],
   "source": [
    "# Training loop (approx 1h on GPU)\n",
    "for epoch in tqdm(range(epochs)):\n",
    "    for v_1, v_2, _ in train_loader:\n",
    "        \n",
    "        if cuda:\n",
    "            v_1 = v_1.cuda()\n",
    "            v_2 = v_2.cuda()\n",
    "        \n",
    "        # Encode a batch of data\n",
    "        p_z_1_given_v_1 = encoder_v_1(v_1)\n",
    "        p_z_2_given_v_2 = encoder_v_2(v_2)\n",
    "        \n",
    "        # Sample from the posteriors with reparametrization\n",
    "        z_1 = p_z_1_given_v_1.rsample()\n",
    "        z_2 = p_z_2_given_v_2.rsample()\n",
    "        \n",
    "        # Mutual information estimation\n",
    "        mi_gradient, mi_estimation = mi_estimator(z_1,z_2)\n",
    "        mi_gradient = mi_gradient.mean()\n",
    "        mi_estimation = mi_estimation.mean()\n",
    "        #print(mi_estimation)\n",
    "        # Symmetrized Kullback-Leibler divergence\n",
    "        kl_1_2 = p_z_1_given_v_1.log_prob(z_1) - p_z_2_given_v_2.log_prob(z_1)\n",
    "        kl_2_1 = p_z_2_given_v_2.log_prob(z_2) - p_z_1_given_v_1.log_prob(z_2)\n",
    "        skl = (kl_1_2 + kl_2_1).mean()/ 2.\n",
    "\n",
    "        # Update the value of beta according to the policy\n",
    "        beta = beta_scheduler(iterations)\n",
    "        iterations +=1\n",
    "        \n",
    "        # Computing the loss function\n",
    "        loss = - mi_gradient + beta * skl\n",
    "        \n",
    "        # Logging\n",
    "        mi_over_time.append(mi_estimation.item())\n",
    "        skl_over_time.append(skl.item())\n",
    "        \n",
    "        # Backward pass and update\n",
    "        opt.zero_grad()\n",
    "        loss.backward()\n",
    "        opt.step()   \n",
    "    \n",
    "    # Plot the loss components every 5 epochs\n",
    "    if epoch % plot_every == 0:\n",
    "        f, ax = plt.subplots(1,2, figsize=(8,3))\n",
    "        ax[0].set_title('$I(z_1;z_2)$')\n",
    "        ax[1].set_title('$D_{SKL}(p(z_1|v_1)||p(z_2|v_2))$')\n",
    "        ax[1].set_yscale('log')\n",
    "        ax[0].plot(mi_over_time, '.', alpha=0.1)\n",
    "        ax[1].plot(skl_over_time, '.r', alpha=0.1)\n",
    "        ax[0].set_ylim(0,8)\n",
    "        ax[1].set_ylim(1e-3)\n",
    "        \n",
    "        f.suptitle('Epoch: %d'%epoch, fontsize=15)\n",
    "        plt.show()\n",
    "        \n",
    "        # Compute train and test_accuracy of a logistic regression\n",
    "        train_accuracy, test_accuracy = evaluate(encoder=encoder_v_1, train_on=train_subset, test_on=test_set, cuda=cuda)\n",
    "        print('Train Accuracy: %f'% train_accuracy)\n",
    "        print('Test Accuracy: %f'% test_accuracy)\n",
    "        \n",
    "    "
   ]
  },
  {
   "cell_type": "code",
   "execution_count": 2,
   "metadata": {},
   "outputs": [
    {
     "ename": "NameError",
     "evalue": "name 'split' is not defined",
     "output_type": "error",
     "traceback": [
      "\u001b[0;31m---------------------------------------------------------------------------\u001b[0m",
      "\u001b[0;31mNameError\u001b[0m                                 Traceback (most recent call last)",
      "\u001b[0;32m<ipython-input-2-ff9c9fcdc722>\u001b[0m in \u001b[0;36m<module>\u001b[0;34m\u001b[0m\n\u001b[1;32m      1\u001b[0m \u001b[0;31m# Testing with 1 sample per label (~0.0017 % of labeled train points)\u001b[0m\u001b[0;34m\u001b[0m\u001b[0;34m\u001b[0m\u001b[0;34m\u001b[0m\u001b[0m\n\u001b[0;32m----> 2\u001b[0;31m \u001b[0mtrain_smallest_subset\u001b[0m \u001b[0;34m=\u001b[0m \u001b[0msplit\u001b[0m\u001b[0;34m(\u001b[0m\u001b[0mtrain_set\u001b[0m\u001b[0;34m,\u001b[0m \u001b[0;36m10\u001b[0m\u001b[0;34m,\u001b[0m \u001b[0;34m'Balanced'\u001b[0m\u001b[0;34m)\u001b[0m\u001b[0;34m\u001b[0m\u001b[0;34m\u001b[0m\u001b[0m\n\u001b[0m\u001b[1;32m      3\u001b[0m \u001b[0mprint\u001b[0m\u001b[0;34m(\u001b[0m\u001b[0mtrain_smallest_subset\u001b[0m\u001b[0;34m)\u001b[0m\u001b[0;34m\u001b[0m\u001b[0;34m\u001b[0m\u001b[0m\n\u001b[1;32m      4\u001b[0m \u001b[0mtrain_accuracy\u001b[0m\u001b[0;34m,\u001b[0m \u001b[0mtest_accuracy\u001b[0m \u001b[0;34m=\u001b[0m \u001b[0mevaluate\u001b[0m\u001b[0;34m(\u001b[0m\u001b[0mencoder\u001b[0m\u001b[0;34m=\u001b[0m\u001b[0mencoder_v_1\u001b[0m\u001b[0;34m,\u001b[0m \u001b[0mtrain_on\u001b[0m\u001b[0;34m=\u001b[0m\u001b[0mtrain_smallest_subset\u001b[0m\u001b[0;34m,\u001b[0m \u001b[0mtest_on\u001b[0m\u001b[0;34m=\u001b[0m\u001b[0mtest_set\u001b[0m\u001b[0;34m,\u001b[0m \u001b[0mcuda\u001b[0m\u001b[0;34m=\u001b[0m\u001b[0mcuda\u001b[0m\u001b[0;34m)\u001b[0m\u001b[0;34m\u001b[0m\u001b[0;34m\u001b[0m\u001b[0m\n\u001b[1;32m      5\u001b[0m \u001b[0mprint\u001b[0m\u001b[0;34m(\u001b[0m\u001b[0;34m'Train Accuracy: %f'\u001b[0m\u001b[0;34m%\u001b[0m \u001b[0mtrain_accuracy\u001b[0m\u001b[0;34m)\u001b[0m\u001b[0;34m\u001b[0m\u001b[0;34m\u001b[0m\u001b[0m\n",
      "\u001b[0;31mNameError\u001b[0m: name 'split' is not defined"
     ]
    }
   ],
   "source": [
    "# Testing with 1 sample per label (~0.0017 % of labeled train points)\n",
    "train_smallest_subset = split(train_set, 10, 'Balanced') \n",
    "print(train_smallest_subset)\n",
    "train_accuracy, test_accuracy = evaluate(encoder=encoder_v_1, train_on=train_smallest_subset, test_on=test_set, cuda=cuda)\n",
    "print('Train Accuracy: %f'% train_accuracy)\n",
    "print('Test Accuracy: %f'% test_accuracy)"
   ]
  },
  {
   "cell_type": "code",
   "execution_count": null,
   "metadata": {},
   "outputs": [],
   "source": []
  }
 ],
 "metadata": {
  "kernelspec": {
   "display_name": "Python 3",
   "language": "python",
   "name": "python3"
  },
  "language_info": {
   "codemirror_mode": {
    "name": "ipython",
    "version": 3
   },
   "file_extension": ".py",
   "mimetype": "text/x-python",
   "name": "python",
   "nbconvert_exporter": "python",
   "pygments_lexer": "ipython3",
   "version": "3.7.3"
  }
 },
 "nbformat": 4,
 "nbformat_minor": 2
}
