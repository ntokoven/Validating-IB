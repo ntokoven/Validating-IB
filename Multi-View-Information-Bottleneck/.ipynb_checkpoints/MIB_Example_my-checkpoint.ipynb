{
 "cells": [
  {
   "cell_type": "code",
   "execution_count": 1,
   "metadata": {},
   "outputs": [
    {
     "name": "stdout",
     "output_type": "stream",
     "text": [
      "Populating the interactive namespace from numpy and matplotlib\n"
     ]
    }
   ],
   "source": [
    "%pylab inline\n",
    "import torch\n",
    "\n",
    "# Flag to enable execution on GPU\n",
    "cuda = True if torch.cuda.is_available() else False"
   ]
  },
  {
   "cell_type": "markdown",
   "metadata": {},
   "source": [
    "# Dataset"
   ]
  },
  {
   "cell_type": "code",
   "execution_count": 2,
   "metadata": {},
   "outputs": [],
   "source": [
    "from torchvision.datasets import MNIST\n",
    "from torchvision.transforms import ToTensor\n",
    "\n",
    "# Loading the MNIST dataset\n",
    "train_set = MNIST('./data/MNIST', download=True, train=True, transform=ToTensor())\n",
    "test_set = MNIST('./data/MNIST', download=True, train=True, transform=ToTensor())"
   ]
  },
  {
   "cell_type": "code",
   "execution_count": 3,
   "metadata": {},
   "outputs": [],
   "source": [
    "from torchvision.transforms import Compose, RandomAffine, ToTensor\n",
    "from data_utils import PixelCorruption\n",
    "\n",
    "# Defining the augmentations\n",
    "t = Compose([\n",
    "    RandomAffine(degrees=15,\n",
    "                 translate=[0.1, 0.1],\n",
    "                 scale=[0.9, 1.1],\n",
    "                 shear=15), # Small affine transformations\n",
    "    ToTensor(),             # Conversion to torch tensor\n",
    "    PixelCorruption(0.8)    # PixelCorruption with keep probability 80%\n",
    "])"
   ]
  },
  {
   "cell_type": "code",
   "execution_count": 4,
   "metadata": {},
   "outputs": [
    {
     "data": {
      "image/png": "[encoded data removed]",
      "text/plain": [
       "<Figure size 432x288 with 2 Axes>"
      ]
     },
     "metadata": {
      "needs_background": "light"
     },
     "output_type": "display_data"
    }
   ],
   "source": [
    "from data_utils import AugmentedDataset\n",
    "\n",
    "# Creating the multi-view dataset\n",
    "mv_train_set = AugmentedDataset(MNIST('./data/MNIST', train=True), t)\n",
    "\n",
    "# Visualization of one example\n",
    "f, ax = plt.subplots(1,2)\n",
    "\n",
    "idx = 0\n",
    "v_1, v_2, y = mv_train_set[idx]\n",
    "f.suptitle('Label: %d'%y,size=15)\n",
    "ax[0].imshow(v_1[0].data.numpy())\n",
    "ax[1].imshow(v_2[0].data.numpy())\n",
    "ax[0].axis('off')\n",
    "ax[1].axis('off');"
   ]
  },
  {
   "cell_type": "code",
   "execution_count": 5,
   "metadata": {},
   "outputs": [],
   "source": [
    "from torch.utils.data import DataLoader\n",
    "\n",
    "batch_size = 64\n",
    "\n",
    "# Initialization of the data loader\n",
    "train_loader = DataLoader(mv_train_set, batch_size=batch_size, shuffle=True, num_workers=8 if cuda else 1)"
   ]
  },
  {
   "cell_type": "markdown",
   "metadata": {},
   "source": [
    "# Defining the architectures"
   ]
  },
  {
   "cell_type": "code",
   "execution_count": 6,
   "metadata": {},
   "outputs": [],
   "source": [
    "import torch.nn as nn\n",
    "from torch.distributions import Normal, Independent\n",
    "from torch.nn.functional import softplus\n",
    "\n",
    "# Encoder architecture\n",
    "class Encoder(nn.Module):\n",
    "    def __init__(self, z_dim):\n",
    "        super(Encoder, self).__init__()\n",
    "        \n",
    "        self.z_dim = z_dim\n",
    "        \n",
    "        # Vanilla MLP\n",
    "        self.net = nn.Sequential(\n",
    "            nn.Linear(28*28, 1024),\n",
    "            nn.ReLU(True),\n",
    "            nn.Linear(1024, 1024),\n",
    "            nn.ReLU(True),\n",
    "            nn.Linear(1024, z_dim*2),\n",
    "        )\n",
    "        \n",
    "    def forward(self, x):\n",
    "        x = x.view(x.size(0),-1) # Flatten the input\n",
    "        params = self.net(x)\n",
    "        \n",
    "        mu, sigma = params[:,:self.z_dim], params[:,self.z_dim:]\n",
    "        sigma = softplus(sigma) + 1e-7  # Make sigma always positive\n",
    "        \n",
    "        return Independent(Normal(loc=mu, scale=sigma), 1) # Return a factorized Normal distribution\n",
    "\n",
    "# Auxiliary network for mutual information estimation\n",
    "class MIEstimator(nn.Module):\n",
    "    def __init__(self, size1, size2):\n",
    "        super(MIEstimator, self).__init__()\n",
    "        self.size1 = size1\n",
    "        self.size2 = size2\n",
    "        # Vanilla MLP\n",
    "        self.net = nn.Sequential(\n",
    "            nn.Linear(size1 + size2, 1024),\n",
    "            #nn.Linear(2 * np.max([size1, size2]), 1024),\n",
    "            nn.ReLU(True),\n",
    "            nn.Linear(1024, 1024),\n",
    "            nn.ReLU(True),\n",
    "            nn.Linear(1024, 1),\n",
    "        )\n",
    "    \n",
    "    # Gradient for JSD mutual information estimation and EB-based estimation\n",
    "    def forward(self, x1, x2):\n",
    "        #Shape cast\n",
    "        #x2 = nn.ReLU(True)(nn.Linear(x2.size(-1), x1.size(-1))(x2))\n",
    "        \n",
    "        pos = self.net(torch.cat([x1, x2], 1)) #Positive Samples\n",
    "        neg = self.net(torch.cat([torch.roll(x1, 1, 0), x2], 1))\n",
    "        return -softplus(-pos).mean() - softplus(neg).mean(), pos.mean() - neg.exp().mean() + 1\n",
    "    \n"
   ]
  },
  {
   "cell_type": "code",
   "execution_count": 7,
   "metadata": {},
   "outputs": [],
   "source": [
    "# Size of the representation\n",
    "z_dim = 64\n",
    "x_dim = 28*28\n",
    "y_dim = 10\n",
    "\n",
    "# Intialization of the encoder(s)\n",
    "encoder_v_1 = Encoder(z_dim)\n",
    "encoder_v_2 = encoder_v_1 # Full parameter sharing for the two encoders\n",
    "\n",
    "# Initialization of the mutual information estimation network\n",
    "mi_estimator_X = MIEstimator(x_dim, z_dim) \n",
    "mi_estimator_Y = MIEstimator(z_dim, y_dim)\n",
    "\n",
    "# Moving the models to the GPU\n",
    "if cuda:\n",
    "    encoder_v_1 = encoder_v_1.cuda()\n",
    "    encoder_v_2 = encoder_v_2.cuda()\n",
    "    mi_estimator_X = mi_estimator_X.cuda()\n",
    "    mi_estimator_Y = mi_estimator_Y.cuda()\n",
    "\n",
    "from torch.optim import Adam\n",
    "\n",
    "# Defining the optimizer\n",
    "opt = Adam([\n",
    "    {'params': encoder_v_1.parameters(), 'lr':1e-4},\n",
    "#     {'params': encoder_v_2.parameters(), 'lr':1e-4}, # There is only one encoder in this example\n",
    "    {'params': mi_estimator_X.parameters(), 'lr':1e-4},\n",
    "    {'params': mi_estimator_Y.parameters(), 'lr':1e-4},\n",
    "])"
   ]
  },
  {
   "cell_type": "markdown",
   "metadata": {},
   "source": [
    "# Evaluation"
   ]
  },
  {
   "cell_type": "code",
   "execution_count": 29,
   "metadata": {},
   "outputs": [],
   "source": [
    "from evaluation import evaluate, split\n",
    "\n",
    "\n",
    "# Select a subset (100 samples per label ~0.17 %) of labeled train points\n",
    "train_subset = split(train_set, 10, 'Balanced') "
   ]
  },
  {
   "cell_type": "code",
   "execution_count": 9,
   "metadata": {},
   "outputs": [
    {
     "ename": "NameError",
     "evalue": "name 'n_train_samples' is not defined",
     "output_type": "error",
     "traceback": [
      "\u001b[0;31m---------------------------------------------------------------------------\u001b[0m",
      "\u001b[0;31mNameError\u001b[0m                                 Traceback (most recent call last)",
      "\u001b[0;32m<ipython-input-9-91b0f3b0b055>\u001b[0m in \u001b[0;36m<module>\u001b[0;34m\u001b[0m\n\u001b[1;32m     14\u001b[0m \u001b[0;34m\u001b[0m\u001b[0m\n\u001b[1;32m     15\u001b[0m \u001b[0;34m\u001b[0m\u001b[0m\n\u001b[0;32m---> 16\u001b[0;31m \u001b[0mx_train\u001b[0m\u001b[0;34m,\u001b[0m \u001b[0my_train\u001b[0m\u001b[0;34m,\u001b[0m \u001b[0mx_train_int\u001b[0m \u001b[0;34m=\u001b[0m \u001b[0mgenerate_samples\u001b[0m\u001b[0;34m(\u001b[0m\u001b[0mn_train_samples\u001b[0m\u001b[0;34m)\u001b[0m \u001b[0;31m# training dataset\u001b[0m\u001b[0;34m\u001b[0m\u001b[0;34m\u001b[0m\u001b[0m\n\u001b[0m\u001b[1;32m     17\u001b[0m \u001b[0mx_test\u001b[0m\u001b[0;34m,\u001b[0m \u001b[0my_test\u001b[0m\u001b[0;34m,\u001b[0m \u001b[0m_\u001b[0m \u001b[0;34m=\u001b[0m \u001b[0mgenerate_samples\u001b[0m\u001b[0;34m(\u001b[0m\u001b[0mn_test_samples\u001b[0m\u001b[0;34m)\u001b[0m \u001b[0;31m# testing dataset\u001b[0m\u001b[0;34m\u001b[0m\u001b[0;34m\u001b[0m\u001b[0m\n\u001b[1;32m     18\u001b[0m \u001b[0;34m\u001b[0m\u001b[0m\n",
      "\u001b[0;31mNameError\u001b[0m: name 'n_train_samples' is not defined"
     ]
    }
   ],
   "source": [
    "def generate_samples(n_samples):\n",
    "    x_data = np.zeros((n_samples, 10)) # inputs\n",
    "    x_int = np.zeros(n_samples) # integers representing the inputs\n",
    "    y_data = np.zeros((n_samples, 2)) # outputs\n",
    "    \n",
    "    for i in range(n_samples):\n",
    "        random_int = randint(0, 1023)\n",
    "        x_data[i,:] = [int(b) for b in list(\"{0:b}\".format(random_int).zfill(10))]\n",
    "        x_int[i] = random_int\n",
    "        y_data[i,0] = groups[random_int % 16]\n",
    "        y_data[i,1] = 1 - y_data[i,0]\n",
    "        \n",
    "    return x_data, y_data, x_int\n",
    "\n",
    "\n",
    "x_train, y_train, x_train_int = generate_samples(n_train_samples) # training dataset\n",
    "x_test, y_test, _ = generate_samples(n_test_samples) # testing dataset\n",
    "\n",
    "train_set = torch.utils.data.TensorDataset(torch.Tensor(x_train).to(device), torch.Tensor(y_train).to(device)) \n",
    "test_set = torch.utils.data.TensorDataset(torch.Tensor(x_test).to(device), torch.Tensor(y_test).to(device))\n",
    "\n",
    "train_subset = split(train_set, 10, 'Balanced') "
   ]
  },
  {
   "cell_type": "markdown",
   "metadata": {},
   "source": [
    "# Training procedure"
   ]
  },
  {
   "cell_type": "code",
   "execution_count": 30,
   "metadata": {},
   "outputs": [
    {
     "data": {
      "image/png": "[encoded data removed]",
      "text/plain": [
       "<Figure size 432x288 with 1 Axes>"
      ]
     },
     "metadata": {
      "needs_background": "light"
     },
     "output_type": "display_data"
    }
   ],
   "source": [
    "from data_utils import ExponentialScheduler\n",
    "\n",
    "# Defining the schedule for the update of the hyper-parameter over time\n",
    "beta_scheduler = ExponentialScheduler(start_value=1e-3, end_value=1, n_iterations=100000, start_iteration=50000)\n",
    "\n",
    "# Visualization of the scheduler behavior\n",
    "iterations = np.arange(250000)\n",
    "plt.plot(iterations, [beta_scheduler(iteration) for iteration in iterations])\n",
    "plt.title('$\\\\beta$ Schedule', size=20)\n",
    "plt.yscale('log')\n",
    "plt.xlabel('Iteration', size=15)\n",
    "plt.ylabel('$\\\\beta$', size=15);"
   ]
  },
  {
   "cell_type": "code",
   "execution_count": 31,
   "metadata": {},
   "outputs": [],
   "source": [
    "from tqdm import tqdm_notebook as tqdm\n",
    "\n",
    "# Training parameters\n",
    "# Increase number of epochs and delay the beta increment for better performances\n",
    "epochs = 300\n",
    "plot_every = 1\n",
    "mi_over_time = {'X':[], 'Y':[]}\n",
    "#skl_over_time = []"
   ]
  },
  {
   "cell_type": "code",
   "execution_count": 36,
   "metadata": {},
   "outputs": [
    {
     "data": {
      "application/vnd.jupyter.widget-view+json": {
       "model_id": "426b3b09058d4b9ba108d1be0e3fc7e6",
       "version_major": 2,
       "version_minor": 0
      },
      "text/plain": [
       "HBox(children=(IntProgress(value=0, max=300), HTML(value='')))"
      ]
     },
     "metadata": {},
     "output_type": "display_data"
    },
    {
     "name": "stdout",
     "output_type": "stream",
     "text": [
      "tensor(0.0017, grad_fn=<MeanBackward0>) tensor(-0.0022, grad_fn=<MeanBackward0>)\n",
      "tensor(-0.0040, grad_fn=<MeanBackward0>) tensor(-0.0011, grad_fn=<MeanBackward0>)\n"
     ]
    },
    {
     "name": "stderr",
     "output_type": "stream",
     "text": [
      "/Users/ntokoven/miniconda3/envs/py37/lib/python3.7/site-packages/ipykernel_launcher.py:56: UserWarning: torch.nn.utils.clip_grad_norm is now deprecated in favor of torch.nn.utils.clip_grad_norm_.\n",
      "/Users/ntokoven/miniconda3/envs/py37/lib/python3.7/site-packages/ipykernel_launcher.py:57: UserWarning: torch.nn.utils.clip_grad_norm is now deprecated in favor of torch.nn.utils.clip_grad_norm_.\n"
     ]
    },
    {
     "name": "stdout",
     "output_type": "stream",
     "text": [
      "tensor(-0.0016, grad_fn=<MeanBackward0>) tensor(-0.0040, grad_fn=<MeanBackward0>)\n",
      "tensor(-0.0022, grad_fn=<MeanBackward0>) tensor(-0.0106, grad_fn=<MeanBackward0>)\n",
      "tensor(-0.0016, grad_fn=<MeanBackward0>) tensor(-0.0169, grad_fn=<MeanBackward0>)\n",
      "tensor(-0.0031, grad_fn=<MeanBackward0>) tensor(-0.0241, grad_fn=<MeanBackward0>)\n",
      "tensor(-0.0025, grad_fn=<MeanBackward0>) tensor(-0.0380, grad_fn=<MeanBackward0>)\n",
      "tensor(0.0013, grad_fn=<MeanBackward0>) tensor(-0.0550, grad_fn=<MeanBackward0>)\n",
      "tensor(0.0010, grad_fn=<MeanBackward0>) tensor(-0.0771, grad_fn=<MeanBackward0>)\n",
      "tensor(0.0011, grad_fn=<MeanBackward0>) tensor(-0.1229, grad_fn=<MeanBackward0>)\n",
      "tensor(-0.0009, grad_fn=<MeanBackward0>) tensor(-0.1577, grad_fn=<MeanBackward0>)\n",
      "tensor(-0.0036, grad_fn=<MeanBackward0>) tensor(-0.1902, grad_fn=<MeanBackward0>)\n",
      "tensor(-0.0020, grad_fn=<MeanBackward0>) tensor(-0.2523, grad_fn=<MeanBackward0>)\n",
      "tensor(0.0012, grad_fn=<MeanBackward0>) tensor(-0.3027, grad_fn=<MeanBackward0>)\n",
      "tensor(0.0024, grad_fn=<MeanBackward0>) tensor(-0.3894, grad_fn=<MeanBackward0>)\n",
      "tensor(-0.0026, grad_fn=<MeanBackward0>) tensor(-0.4631, grad_fn=<MeanBackward0>)\n",
      "tensor(0.0027, grad_fn=<MeanBackward0>) tensor(-0.5766, grad_fn=<MeanBackward0>)\n",
      "tensor(0.0002, grad_fn=<MeanBackward0>) tensor(-0.6941, grad_fn=<MeanBackward0>)\n",
      "tensor(0.0010, grad_fn=<MeanBackward0>) tensor(-0.8162, grad_fn=<MeanBackward0>)\n",
      "tensor(0.0024, grad_fn=<MeanBackward0>) tensor(-0.9404, grad_fn=<MeanBackward0>)\n",
      "tensor(0.0011, grad_fn=<MeanBackward0>) tensor(-1.0356, grad_fn=<MeanBackward0>)\n",
      "tensor(-0.0008, grad_fn=<MeanBackward0>) tensor(-1.2077, grad_fn=<MeanBackward0>)\n",
      "tensor(0.0024, grad_fn=<MeanBackward0>) tensor(-1.3469, grad_fn=<MeanBackward0>)\n",
      "tensor(-0.0007, grad_fn=<MeanBackward0>) tensor(-1.4680, grad_fn=<MeanBackward0>)\n",
      "tensor(0.0011, grad_fn=<MeanBackward0>) tensor(-1.6558, grad_fn=<MeanBackward0>)\n",
      "tensor(0.0028, grad_fn=<MeanBackward0>) tensor(-1.8246, grad_fn=<MeanBackward0>)\n",
      "tensor(0.0011, grad_fn=<MeanBackward0>) tensor(-2.0488, grad_fn=<MeanBackward0>)\n",
      "tensor(0.0021, grad_fn=<MeanBackward0>) tensor(-2.1864, grad_fn=<MeanBackward0>)\n",
      "tensor(0.0017, grad_fn=<MeanBackward0>) tensor(-2.4700, grad_fn=<MeanBackward0>)\n",
      "tensor(0.0009, grad_fn=<MeanBackward0>) tensor(-2.5895, grad_fn=<MeanBackward0>)\n",
      "tensor(0.0045, grad_fn=<MeanBackward0>) tensor(-2.9069, grad_fn=<MeanBackward0>)\n",
      "tensor(-0.0011, grad_fn=<MeanBackward0>) tensor(-3.0353, grad_fn=<MeanBackward0>)\n",
      "tensor(0.0015, grad_fn=<MeanBackward0>) tensor(-3.3396, grad_fn=<MeanBackward0>)\n",
      "tensor(0.0010, grad_fn=<MeanBackward0>) tensor(-3.6576, grad_fn=<MeanBackward0>)\n",
      "tensor(0.0013, grad_fn=<MeanBackward0>) tensor(-3.9063, grad_fn=<MeanBackward0>)\n",
      "tensor(0.0028, grad_fn=<MeanBackward0>) tensor(-4.2319, grad_fn=<MeanBackward0>)\n",
      "tensor(-0.0029, grad_fn=<MeanBackward0>) tensor(-4.4339, grad_fn=<MeanBackward0>)\n",
      "tensor(0.0022, grad_fn=<MeanBackward0>) tensor(-4.7798, grad_fn=<MeanBackward0>)\n",
      "tensor(0.0036, grad_fn=<MeanBackward0>) tensor(-4.9994, grad_fn=<MeanBackward0>)\n",
      "tensor(8.4162e-05, grad_fn=<MeanBackward0>) tensor(-5.3853, grad_fn=<MeanBackward0>)\n",
      "tensor(0.0016, grad_fn=<MeanBackward0>) tensor(-5.6690, grad_fn=<MeanBackward0>)\n",
      "tensor(0.0032, grad_fn=<MeanBackward0>) tensor(-6.0917, grad_fn=<MeanBackward0>)\n",
      "tensor(0.0003, grad_fn=<MeanBackward0>) tensor(-6.4592, grad_fn=<MeanBackward0>)\n",
      "tensor(0.0039, grad_fn=<MeanBackward0>) tensor(-6.7461, grad_fn=<MeanBackward0>)\n",
      "tensor(-0.0009, grad_fn=<MeanBackward0>) tensor(-7.2061, grad_fn=<MeanBackward0>)\n",
      "tensor(0.0060, grad_fn=<MeanBackward0>) tensor(-7.5605, grad_fn=<MeanBackward0>)\n",
      "tensor(0.0004, grad_fn=<MeanBackward0>) tensor(-8.1939, grad_fn=<MeanBackward0>)\n",
      "tensor(0.0005, grad_fn=<MeanBackward0>) tensor(-8.4257, grad_fn=<MeanBackward0>)\n",
      "tensor(0.0041, grad_fn=<MeanBackward0>) tensor(-9.1738, grad_fn=<MeanBackward0>)\n",
      "tensor(0.0038, grad_fn=<MeanBackward0>) tensor(-9.6593, grad_fn=<MeanBackward0>)\n",
      "tensor(-0.0007, grad_fn=<MeanBackward0>) tensor(-10.6388, grad_fn=<MeanBackward0>)\n",
      "tensor(0.0084, grad_fn=<MeanBackward0>) tensor(-10.4118, grad_fn=<MeanBackward0>)\n",
      "tensor(0.0053, grad_fn=<MeanBackward0>) tensor(-11.7846, grad_fn=<MeanBackward0>)\n",
      "tensor(0.0017, grad_fn=<MeanBackward0>) tensor(-12.2023, grad_fn=<MeanBackward0>)\n",
      "tensor(0.0044, grad_fn=<MeanBackward0>) tensor(-13.2306, grad_fn=<MeanBackward0>)\n",
      "tensor(0.0074, grad_fn=<MeanBackward0>) tensor(-15.0702, grad_fn=<MeanBackward0>)\n",
      "tensor(0.0045, grad_fn=<MeanBackward0>) tensor(-15.3338, grad_fn=<MeanBackward0>)\n",
      "tensor(0.0049, grad_fn=<MeanBackward0>) tensor(-16.8625, grad_fn=<MeanBackward0>)\n",
      "tensor(0.0081, grad_fn=<MeanBackward0>) tensor(-18.8028, grad_fn=<MeanBackward0>)\n",
      "tensor(0.0110, grad_fn=<MeanBackward0>) tensor(-21.2542, grad_fn=<MeanBackward0>)\n",
      "tensor(0.0076, grad_fn=<MeanBackward0>) tensor(-22.9188, grad_fn=<MeanBackward0>)\n",
      "tensor(0.0045, grad_fn=<MeanBackward0>) tensor(-25.7854, grad_fn=<MeanBackward0>)\n",
      "tensor(0.0090, grad_fn=<MeanBackward0>) tensor(-28.7485, grad_fn=<MeanBackward0>)\n",
      "tensor(0.0113, grad_fn=<MeanBackward0>) tensor(-33.3681, grad_fn=<MeanBackward0>)\n",
      "tensor(0.0110, grad_fn=<MeanBackward0>) tensor(-36.5651, grad_fn=<MeanBackward0>)\n",
      "tensor(0.0087, grad_fn=<MeanBackward0>) tensor(-43.9915, grad_fn=<MeanBackward0>)\n",
      "tensor(0.0074, grad_fn=<MeanBackward0>) tensor(-49.8564, grad_fn=<MeanBackward0>)\n",
      "tensor(0.0128, grad_fn=<MeanBackward0>) tensor(-59.0769, grad_fn=<MeanBackward0>)\n",
      "tensor(0.0024, grad_fn=<MeanBackward0>) tensor(-68.3365, grad_fn=<MeanBackward0>)\n",
      "tensor(0.0006, grad_fn=<MeanBackward0>) tensor(-77.4355, grad_fn=<MeanBackward0>)\n",
      "tensor(0.0078, grad_fn=<MeanBackward0>) tensor(-86.0961, grad_fn=<MeanBackward0>)\n",
      "tensor(0.0072, grad_fn=<MeanBackward0>) tensor(-109.3165, grad_fn=<MeanBackward0>)\n",
      "tensor(0.0062, grad_fn=<MeanBackward0>) tensor(-125.0053, grad_fn=<MeanBackward0>)\n",
      "tensor(0.0068, grad_fn=<MeanBackward0>) tensor(-146.1461, grad_fn=<MeanBackward0>)\n",
      "tensor(0.0053, grad_fn=<MeanBackward0>) tensor(-185.1503, grad_fn=<MeanBackward0>)\n",
      "tensor(0.0024, grad_fn=<MeanBackward0>) tensor(-217.4713, grad_fn=<MeanBackward0>)\n",
      "tensor(0.0089, grad_fn=<MeanBackward0>) tensor(-251.6205, grad_fn=<MeanBackward0>)\n",
      "tensor(0.0042, grad_fn=<MeanBackward0>) tensor(-271.9440, grad_fn=<MeanBackward0>)\n",
      "tensor(0.0035, grad_fn=<MeanBackward0>) tensor(-340.3436, grad_fn=<MeanBackward0>)\n",
      "tensor(-0.0031, grad_fn=<MeanBackward0>) tensor(-407.6797, grad_fn=<MeanBackward0>)\n",
      "tensor(-0.0139, grad_fn=<MeanBackward0>) tensor(-453.1328, grad_fn=<MeanBackward0>)\n",
      "tensor(-0.0030, grad_fn=<MeanBackward0>) tensor(-548.2761, grad_fn=<MeanBackward0>)\n",
      "tensor(-0.0275, grad_fn=<MeanBackward0>) tensor(-656.8145, grad_fn=<MeanBackward0>)\n",
      "tensor(-0.0502, grad_fn=<MeanBackward0>) tensor(-752.6428, grad_fn=<MeanBackward0>)\n",
      "tensor(-0.0071, grad_fn=<MeanBackward0>) tensor(-902.7328, grad_fn=<MeanBackward0>)\n",
      "tensor(-0.0295, grad_fn=<MeanBackward0>) tensor(-957.4758, grad_fn=<MeanBackward0>)\n",
      "tensor(-0.0175, grad_fn=<MeanBackward0>) tensor(-1034.8680, grad_fn=<MeanBackward0>)\n",
      "tensor(-0.0239, grad_fn=<MeanBackward0>) tensor(-1294.0420, grad_fn=<MeanBackward0>)\n",
      "tensor(-0.0432, grad_fn=<MeanBackward0>) tensor(-1430.8114, grad_fn=<MeanBackward0>)\n",
      "tensor(-0.0276, grad_fn=<MeanBackward0>) tensor(-1706.6150, grad_fn=<MeanBackward0>)\n",
      "tensor(-0.0170, grad_fn=<MeanBackward0>) tensor(-1943.5845, grad_fn=<MeanBackward0>)\n",
      "tensor(-0.0370, grad_fn=<MeanBackward0>) tensor(-2088.6716, grad_fn=<MeanBackward0>)\n",
      "tensor(-0.0584, grad_fn=<MeanBackward0>) tensor(-2416.7568, grad_fn=<MeanBackward0>)\n",
      "tensor(-0.0318, grad_fn=<MeanBackward0>) tensor(-2860.2646, grad_fn=<MeanBackward0>)\n",
      "tensor(-0.0622, grad_fn=<MeanBackward0>) tensor(-3057.2944, grad_fn=<MeanBackward0>)\n",
      "tensor(-0.0823, grad_fn=<MeanBackward0>) tensor(-3720.3872, grad_fn=<MeanBackward0>)\n",
      "tensor(-0.4494, grad_fn=<MeanBackward0>) tensor(-4174.7407, grad_fn=<MeanBackward0>)\n",
      "tensor(-0.2892, grad_fn=<MeanBackward0>) tensor(-4390.5981, grad_fn=<MeanBackward0>)\n",
      "tensor(-0.0773, grad_fn=<MeanBackward0>) tensor(-5021.8804, grad_fn=<MeanBackward0>)\n",
      "tensor(-0.8848, grad_fn=<MeanBackward0>) tensor(-5735.2861, grad_fn=<MeanBackward0>)\n",
      "tensor(-0.1942, grad_fn=<MeanBackward0>) tensor(-6253.9321, grad_fn=<MeanBackward0>)\n",
      "tensor(-0.0943, grad_fn=<MeanBackward0>) tensor(-7110.1655, grad_fn=<MeanBackward0>)\n"
     ]
    },
    {
     "name": "stdout",
     "output_type": "stream",
     "text": [
      "tensor(-1.2357, grad_fn=<MeanBackward0>) tensor(-8134.1001, grad_fn=<MeanBackward0>)\n",
      "tensor(-0.1702, grad_fn=<MeanBackward0>) tensor(-9272.2803, grad_fn=<MeanBackward0>)\n",
      "tensor(-0.2570, grad_fn=<MeanBackward0>) tensor(-10406.8848, grad_fn=<MeanBackward0>)\n",
      "tensor(-3.8269, grad_fn=<MeanBackward0>) tensor(-12465.4375, grad_fn=<MeanBackward0>)\n",
      "tensor(-0.2592, grad_fn=<MeanBackward0>) tensor(-11683.9268, grad_fn=<MeanBackward0>)\n",
      "tensor(-0.4901, grad_fn=<MeanBackward0>) tensor(-14453.2910, grad_fn=<MeanBackward0>)\n",
      "tensor(-1.5134, grad_fn=<MeanBackward0>) tensor(-14935.5889, grad_fn=<MeanBackward0>)\n",
      "tensor(-0.4486, grad_fn=<MeanBackward0>) tensor(-18208.2461, grad_fn=<MeanBackward0>)\n",
      "tensor(-0.6443, grad_fn=<MeanBackward0>) tensor(-19034.2188, grad_fn=<MeanBackward0>)\n",
      "tensor(-0.3873, grad_fn=<MeanBackward0>) tensor(-21739.7930, grad_fn=<MeanBackward0>)\n",
      "tensor(-2.1085, grad_fn=<MeanBackward0>) tensor(-22525.6211, grad_fn=<MeanBackward0>)\n",
      "tensor(-0.5397, grad_fn=<MeanBackward0>) tensor(-26890.9668, grad_fn=<MeanBackward0>)\n",
      "tensor(-0.2890, grad_fn=<MeanBackward0>) tensor(-29933.6641, grad_fn=<MeanBackward0>)\n",
      "tensor(-1.8906, grad_fn=<MeanBackward0>) tensor(-32561.5898, grad_fn=<MeanBackward0>)\n",
      "tensor(-1.2164, grad_fn=<MeanBackward0>) tensor(-34420.2812, grad_fn=<MeanBackward0>)\n",
      "tensor(-1.9672, grad_fn=<MeanBackward0>) tensor(-39871.7930, grad_fn=<MeanBackward0>)\n",
      "tensor(-4.2307, grad_fn=<MeanBackward0>) tensor(-40765.2461, grad_fn=<MeanBackward0>)\n",
      "tensor(-0.8454, grad_fn=<MeanBackward0>) tensor(-44168.7969, grad_fn=<MeanBackward0>)\n",
      "tensor(-2.2073, grad_fn=<MeanBackward0>) tensor(-51154.5195, grad_fn=<MeanBackward0>)\n",
      "tensor(-2.5548, grad_fn=<MeanBackward0>) tensor(-60770.8164, grad_fn=<MeanBackward0>)\n",
      "tensor(-1.1859, grad_fn=<MeanBackward0>) tensor(-58133.8945, grad_fn=<MeanBackward0>)\n",
      "tensor(-32.8881, grad_fn=<MeanBackward0>) tensor(-68260.0938, grad_fn=<MeanBackward0>)\n",
      "tensor(-0.8613, grad_fn=<MeanBackward0>) tensor(-71831.6016, grad_fn=<MeanBackward0>)\n",
      "tensor(-1.0924, grad_fn=<MeanBackward0>) tensor(-76025.4062, grad_fn=<MeanBackward0>)\n",
      "tensor(-60.0505, grad_fn=<MeanBackward0>) tensor(-90788.6953, grad_fn=<MeanBackward0>)\n",
      "tensor(-2.2043, grad_fn=<MeanBackward0>) tensor(-92047.6953, grad_fn=<MeanBackward0>)\n",
      "tensor(-0.9732, grad_fn=<MeanBackward0>) tensor(-98707., grad_fn=<MeanBackward0>)\n",
      "tensor(-85406.9688, grad_fn=<MeanBackward0>) tensor(-118032.8125, grad_fn=<MeanBackward0>)\n",
      "tensor(-1.0766, grad_fn=<MeanBackward0>) tensor(-116640.9688, grad_fn=<MeanBackward0>)\n",
      "tensor(-1.8892, grad_fn=<MeanBackward0>) tensor(-122887.6562, grad_fn=<MeanBackward0>)\n",
      "tensor(-295.5145, grad_fn=<MeanBackward0>) tensor(-125652.6719, grad_fn=<MeanBackward0>)\n",
      "tensor(-15.9761, grad_fn=<MeanBackward0>) tensor(-148747.0938, grad_fn=<MeanBackward0>)\n",
      "tensor(-3.7545, grad_fn=<MeanBackward0>) tensor(-158394.8281, grad_fn=<MeanBackward0>)\n",
      "tensor(-1.8855, grad_fn=<MeanBackward0>) tensor(-170859.6250, grad_fn=<MeanBackward0>)\n",
      "tensor(-2662.3743, grad_fn=<MeanBackward0>) tensor(-188212.5000, grad_fn=<MeanBackward0>)\n",
      "tensor(-19.8668, grad_fn=<MeanBackward0>) tensor(-216704.0469, grad_fn=<MeanBackward0>)\n",
      "tensor(-5.8782, grad_fn=<MeanBackward0>) tensor(-214605.7188, grad_fn=<MeanBackward0>)\n",
      "tensor(-2.5280, grad_fn=<MeanBackward0>) tensor(-244670.7344, grad_fn=<MeanBackward0>)\n",
      "tensor(-625991.9375, grad_fn=<MeanBackward0>) tensor(-253735.3750, grad_fn=<MeanBackward0>)\n",
      "tensor(-1422778.6250, grad_fn=<MeanBackward0>) tensor(-277308.9375, grad_fn=<MeanBackward0>)\n",
      "tensor(-1.9493, grad_fn=<MeanBackward0>) tensor(-302210.5000, grad_fn=<MeanBackward0>)\n",
      "tensor(-3.8810, grad_fn=<MeanBackward0>) tensor(-314575.3125, grad_fn=<MeanBackward0>)\n",
      "tensor(-12.5774, grad_fn=<MeanBackward0>) tensor(-329006.5312, grad_fn=<MeanBackward0>)\n",
      "tensor(-3894.0205, grad_fn=<MeanBackward0>) tensor(-344183.4688, grad_fn=<MeanBackward0>)\n",
      "tensor(-1.8440, grad_fn=<MeanBackward0>) tensor(-387217.9062, grad_fn=<MeanBackward0>)\n",
      "tensor(-2.4848, grad_fn=<MeanBackward0>) tensor(-400303.6250, grad_fn=<MeanBackward0>)\n",
      "tensor(-16121.2998, grad_fn=<MeanBackward0>) tensor(-462130.1875, grad_fn=<MeanBackward0>)\n",
      "tensor(-6.8726, grad_fn=<MeanBackward0>) tensor(-470296.7812, grad_fn=<MeanBackward0>)\n",
      "tensor(-12.4118, grad_fn=<MeanBackward0>) tensor(-471301.0625, grad_fn=<MeanBackward0>)\n",
      "tensor(-5.4398, grad_fn=<MeanBackward0>) tensor(-526468.0625, grad_fn=<MeanBackward0>)\n",
      "tensor(-25.4553, grad_fn=<MeanBackward0>) tensor(-608135.5000, grad_fn=<MeanBackward0>)\n",
      "tensor(-1.5199, grad_fn=<MeanBackward0>) tensor(-566425.8125, grad_fn=<MeanBackward0>)\n",
      "tensor(-13013.3076, grad_fn=<MeanBackward0>) tensor(-613401., grad_fn=<MeanBackward0>)\n",
      "tensor(-2.8623, grad_fn=<MeanBackward0>) tensor(-677859., grad_fn=<MeanBackward0>)\n",
      "tensor(-137.3873, grad_fn=<MeanBackward0>) tensor(-682320.1875, grad_fn=<MeanBackward0>)\n",
      "tensor(-2.2020, grad_fn=<MeanBackward0>) tensor(-827471.8125, grad_fn=<MeanBackward0>)\n",
      "tensor(-75581.6328, grad_fn=<MeanBackward0>) tensor(-820764.0625, grad_fn=<MeanBackward0>)\n",
      "tensor(-3.0113, grad_fn=<MeanBackward0>) tensor(-896175., grad_fn=<MeanBackward0>)\n",
      "tensor(-2852.7087, grad_fn=<MeanBackward0>) tensor(-951939.2500, grad_fn=<MeanBackward0>)\n",
      "tensor(-3.0821, grad_fn=<MeanBackward0>) tensor(-954034.3750, grad_fn=<MeanBackward0>)\n",
      "tensor(-121304.4531, grad_fn=<MeanBackward0>) tensor(-1145232., grad_fn=<MeanBackward0>)\n",
      "tensor(-2.8650, grad_fn=<MeanBackward0>) tensor(-1141003.1250, grad_fn=<MeanBackward0>)\n",
      "tensor(-78.2596, grad_fn=<MeanBackward0>) tensor(-1164190.5000, grad_fn=<MeanBackward0>)\n",
      "tensor(-53.5753, grad_fn=<MeanBackward0>) tensor(-1354036.6250, grad_fn=<MeanBackward0>)\n",
      "tensor(-5.1629, grad_fn=<MeanBackward0>) tensor(-1233173.2500, grad_fn=<MeanBackward0>)\n",
      "tensor(-62721.7422, grad_fn=<MeanBackward0>) tensor(-1343613.2500, grad_fn=<MeanBackward0>)\n",
      "tensor(-7.1351, grad_fn=<MeanBackward0>) tensor(-1466815.3750, grad_fn=<MeanBackward0>)\n",
      "tensor(-419.5479, grad_fn=<MeanBackward0>) tensor(-1653128.3750, grad_fn=<MeanBackward0>)\n",
      "tensor(-349.9238, grad_fn=<MeanBackward0>) tensor(-1640548.5000, grad_fn=<MeanBackward0>)\n",
      "tensor(-11.9557, grad_fn=<MeanBackward0>) tensor(-1733097., grad_fn=<MeanBackward0>)\n",
      "tensor(-4.6085, grad_fn=<MeanBackward0>) tensor(-1909505.2500, grad_fn=<MeanBackward0>)\n",
      "tensor(-6.0375e+18, grad_fn=<MeanBackward0>) tensor(-2215352.2500, grad_fn=<MeanBackward0>)\n",
      "tensor(-1.1326e+21, grad_fn=<MeanBackward0>) tensor(-2139294.7500, grad_fn=<MeanBackward0>)\n",
      "tensor(-10.2505, grad_fn=<MeanBackward0>) tensor(-2188356., grad_fn=<MeanBackward0>)\n",
      "tensor(-18.5802, grad_fn=<MeanBackward0>) tensor(-2106167.5000, grad_fn=<MeanBackward0>)\n",
      "tensor(-17.7087, grad_fn=<MeanBackward0>) tensor(-2439145.2500, grad_fn=<MeanBackward0>)\n",
      "tensor(-283491.3438, grad_fn=<MeanBackward0>) tensor(-2557508.2500, grad_fn=<MeanBackward0>)\n",
      "tensor(-35650324., grad_fn=<MeanBackward0>) tensor(-2805375.2500, grad_fn=<MeanBackward0>)\n",
      "tensor(-13.6232, grad_fn=<MeanBackward0>) tensor(-2811293.5000, grad_fn=<MeanBackward0>)\n",
      "tensor(-11.3042, grad_fn=<MeanBackward0>) tensor(-2947442.5000, grad_fn=<MeanBackward0>)\n",
      "tensor(-1.0999e+12, grad_fn=<MeanBackward0>) tensor(-3289879.5000, grad_fn=<MeanBackward0>)\n",
      "tensor(-3.2167e+09, grad_fn=<MeanBackward0>) tensor(-3407848., grad_fn=<MeanBackward0>)\n",
      "tensor(-11.8799, grad_fn=<MeanBackward0>) tensor(-3302501., grad_fn=<MeanBackward0>)\n",
      "tensor(-13.2234, grad_fn=<MeanBackward0>) tensor(-3795539.5000, grad_fn=<MeanBackward0>)\n",
      "tensor(-2689200., grad_fn=<MeanBackward0>) tensor(-3712989.2500, grad_fn=<MeanBackward0>)\n",
      "tensor(-4.5352e+08, grad_fn=<MeanBackward0>) tensor(-4186837.2500, grad_fn=<MeanBackward0>)\n",
      "tensor(-13.7314, grad_fn=<MeanBackward0>) tensor(-4011708., grad_fn=<MeanBackward0>)\n",
      "tensor(-13.6862, grad_fn=<MeanBackward0>) tensor(-4599361., grad_fn=<MeanBackward0>)\n",
      "tensor(-56078644., grad_fn=<MeanBackward0>) tensor(-4593114.5000, grad_fn=<MeanBackward0>)\n",
      "tensor(-5.9661e+09, grad_fn=<MeanBackward0>) tensor(-5013552., grad_fn=<MeanBackward0>)\n",
      "tensor(-12.0614, grad_fn=<MeanBackward0>) tensor(-5331616.5000, grad_fn=<MeanBackward0>)\n",
      "tensor(-8.1569, grad_fn=<MeanBackward0>) tensor(-5278320.5000, grad_fn=<MeanBackward0>)\n",
      "tensor(-1.5385e+15, grad_fn=<MeanBackward0>) tensor(-5573758., grad_fn=<MeanBackward0>)\n",
      "tensor(-1.9017e+12, grad_fn=<MeanBackward0>) tensor(-6065923., grad_fn=<MeanBackward0>)\n"
     ]
    },
    {
     "name": "stdout",
     "output_type": "stream",
     "text": [
      "tensor(-9.9031, grad_fn=<MeanBackward0>) tensor(-6381959., grad_fn=<MeanBackward0>)\n",
      "tensor(-10.5596, grad_fn=<MeanBackward0>) tensor(-6307521., grad_fn=<MeanBackward0>)\n",
      "tensor(-3.2917e+11, grad_fn=<MeanBackward0>) tensor(-6662979., grad_fn=<MeanBackward0>)\n",
      "tensor(-3.5041e+24, grad_fn=<MeanBackward0>) tensor(-7563051., grad_fn=<MeanBackward0>)\n",
      "tensor(-14.3782, grad_fn=<MeanBackward0>) tensor(-6531825., grad_fn=<MeanBackward0>)\n"
     ]
    },
    {
     "ename": "KeyboardInterrupt",
     "evalue": "",
     "output_type": "error",
     "traceback": [
      "\u001b[0;31m---------------------------------------------------------------------------\u001b[0m",
      "\u001b[0;31mKeyboardInterrupt\u001b[0m                         Traceback (most recent call last)",
      "\u001b[0;32m<ipython-input-36-65cb8816718c>\u001b[0m in \u001b[0;36m<module>\u001b[0;34m\u001b[0m\n\u001b[1;32m     78\u001b[0m             \u001b[0mprint\u001b[0m\u001b[0;34m(\u001b[0m\u001b[0;34m'Test Accuracy: %f'\u001b[0m\u001b[0;34m%\u001b[0m \u001b[0mtest_accuracy\u001b[0m\u001b[0;34m)\u001b[0m\u001b[0;34m\u001b[0m\u001b[0;34m\u001b[0m\u001b[0m\n\u001b[1;32m     79\u001b[0m \u001b[0;34m\u001b[0m\u001b[0m\n\u001b[0;32m---> 80\u001b[0;31m \u001b[0mtrain\u001b[0m\u001b[0;34m(\u001b[0m\u001b[0;34m)\u001b[0m\u001b[0;34m\u001b[0m\u001b[0;34m\u001b[0m\u001b[0m\n\u001b[0m",
      "\u001b[0;32m<ipython-input-36-65cb8816718c>\u001b[0m in \u001b[0;36mtrain\u001b[0;34m()\u001b[0m\n\u001b[1;32m     57\u001b[0m             \u001b[0mtorch\u001b[0m\u001b[0;34m.\u001b[0m\u001b[0mnn\u001b[0m\u001b[0;34m.\u001b[0m\u001b[0mutils\u001b[0m\u001b[0;34m.\u001b[0m\u001b[0mclip_grad_norm\u001b[0m\u001b[0;34m(\u001b[0m\u001b[0mmi_estimator_X\u001b[0m\u001b[0;34m.\u001b[0m\u001b[0mparameters\u001b[0m\u001b[0;34m(\u001b[0m\u001b[0;34m)\u001b[0m\u001b[0;34m,\u001b[0m \u001b[0mmax_norm\u001b[0m\u001b[0;34m=\u001b[0m\u001b[0;36m1e+3\u001b[0m\u001b[0;34m)\u001b[0m\u001b[0;34m\u001b[0m\u001b[0;34m\u001b[0m\u001b[0m\n\u001b[1;32m     58\u001b[0m             \u001b[0mloss\u001b[0m\u001b[0;34m.\u001b[0m\u001b[0mbackward\u001b[0m\u001b[0;34m(\u001b[0m\u001b[0;34m)\u001b[0m\u001b[0;34m\u001b[0m\u001b[0;34m\u001b[0m\u001b[0m\n\u001b[0;32m---> 59\u001b[0;31m             \u001b[0mopt\u001b[0m\u001b[0;34m.\u001b[0m\u001b[0mstep\u001b[0m\u001b[0;34m(\u001b[0m\u001b[0;34m)\u001b[0m\u001b[0;34m\u001b[0m\u001b[0;34m\u001b[0m\u001b[0m\n\u001b[0m\u001b[1;32m     60\u001b[0m \u001b[0;34m\u001b[0m\u001b[0m\n\u001b[1;32m     61\u001b[0m         \u001b[0;31m# Plot the loss components every 5 epochs\u001b[0m\u001b[0;34m\u001b[0m\u001b[0;34m\u001b[0m\u001b[0;34m\u001b[0m\u001b[0m\n",
      "\u001b[0;32m~/miniconda3/envs/py37/lib/python3.7/site-packages/torch/optim/adam.py\u001b[0m in \u001b[0;36mstep\u001b[0;34m(self, closure)\u001b[0m\n\u001b[1;32m    105\u001b[0m                 \u001b[0mstep_size\u001b[0m \u001b[0;34m=\u001b[0m \u001b[0mgroup\u001b[0m\u001b[0;34m[\u001b[0m\u001b[0;34m'lr'\u001b[0m\u001b[0;34m]\u001b[0m \u001b[0;34m*\u001b[0m \u001b[0mmath\u001b[0m\u001b[0;34m.\u001b[0m\u001b[0msqrt\u001b[0m\u001b[0;34m(\u001b[0m\u001b[0mbias_correction2\u001b[0m\u001b[0;34m)\u001b[0m \u001b[0;34m/\u001b[0m \u001b[0mbias_correction1\u001b[0m\u001b[0;34m\u001b[0m\u001b[0;34m\u001b[0m\u001b[0m\n\u001b[1;32m    106\u001b[0m \u001b[0;34m\u001b[0m\u001b[0m\n\u001b[0;32m--> 107\u001b[0;31m                 \u001b[0mp\u001b[0m\u001b[0;34m.\u001b[0m\u001b[0mdata\u001b[0m\u001b[0;34m.\u001b[0m\u001b[0maddcdiv_\u001b[0m\u001b[0;34m(\u001b[0m\u001b[0;34m-\u001b[0m\u001b[0mstep_size\u001b[0m\u001b[0;34m,\u001b[0m \u001b[0mexp_avg\u001b[0m\u001b[0;34m,\u001b[0m \u001b[0mdenom\u001b[0m\u001b[0;34m)\u001b[0m\u001b[0;34m\u001b[0m\u001b[0;34m\u001b[0m\u001b[0m\n\u001b[0m\u001b[1;32m    108\u001b[0m \u001b[0;34m\u001b[0m\u001b[0m\n\u001b[1;32m    109\u001b[0m         \u001b[0;32mreturn\u001b[0m \u001b[0mloss\u001b[0m\u001b[0;34m\u001b[0m\u001b[0;34m\u001b[0m\u001b[0m\n",
      "\u001b[0;31mKeyboardInterrupt\u001b[0m: "
     ]
    }
   ],
   "source": [
    "def onehot(y):\n",
    "    y_onehot = torch.FloatTensor(y.shape[0], 10).to('cuda' if cuda else 'cpu')\n",
    "    y_onehot.zero_()\n",
    "    y_onehot.scatter_(1, y.view(y.shape[0], 1), 1)\n",
    "    return y_onehot\n",
    "\n",
    "def train():\n",
    "    iterations = 0\n",
    "    # Training loop (approx 1h on GPU)\n",
    "    for epoch in tqdm(range(epochs)):\n",
    "        for v_1, v_2, label in train_loader:\n",
    "            if cuda:\n",
    "                v_1 = v_1.cuda()\n",
    "                #v_2 = v_2.cuda()\n",
    "\n",
    "            # Encode a batch of data\n",
    "            p_z_1_given_v_1 = encoder_v_1(v_1)\n",
    "            #p_z_2_given_v_2 = encoder_v_2(v_2)\n",
    "\n",
    "            # Sample from the posteriors with reparametrization\n",
    "            z_1 = p_z_1_given_v_1.rsample()\n",
    "            #z_2 = p_z_2_given_v_2.rsample()\n",
    "\n",
    "            # Mutual information estimation\n",
    "            mi_gradient_X, mi_estimation_X = mi_estimator_X(torch.flatten(v_1, start_dim=1), z_1)\n",
    "            mi_gradient_X = mi_gradient_X.mean()\n",
    "            mi_estimation_X = mi_estimation_X.mean()\n",
    "\n",
    "            mi_gradient_Y, mi_estimation_Y = mi_estimator_Y(z_1, onehot(label))\n",
    "            mi_gradient_Y = mi_gradient_Y.mean()\n",
    "            mi_estimation_Y = mi_estimation_Y.mean()\n",
    "\n",
    "            print(mi_estimation_X, mi_estimation_Y)\n",
    "\n",
    "            '''\n",
    "            # Symmetrized Kullback-Leibler divergence\n",
    "            kl_1_2 = p_z_1_given_v_1.log_prob(z_1) - p_z_2_given_v_2.log_prob(z_1)\n",
    "            kl_2_1 = p_z_2_given_v_2.log_prob(z_2) - p_z_1_given_v_1.log_prob(z_2)\n",
    "            skl = (kl_1_2 + kl_2_1).mean()/ 2.\n",
    "            '''\n",
    "\n",
    "            # Update the value of beta according to the policy\n",
    "            beta = beta_scheduler(iterations)\n",
    "            iterations +=1\n",
    "\n",
    "            # Computing the loss function\n",
    "            loss = - mi_gradient_X + beta * mi_gradient_Y#- mi_gradient + beta * skl\n",
    "\n",
    "            # Logging\n",
    "            mi_over_time['X'].append(mi_estimation_X.item())\n",
    "            mi_over_time['Y'].append(mi_estimation_Y.item())\n",
    "            #skl_over_time.append(skl.item())\n",
    "\n",
    "            # Backward pass and update\n",
    "            opt.zero_grad()\n",
    "            torch.nn.utils.clip_grad_norm(mi_estimator_Y.parameters(), max_norm=1e+3)\n",
    "            torch.nn.utils.clip_grad_norm(mi_estimator_X.parameters(), max_norm=1e+3)\n",
    "            loss.backward()\n",
    "            opt.step()   \n",
    "\n",
    "        # Plot the loss components every 5 epochs\n",
    "        if epoch % plot_every == 0:\n",
    "            f, ax = plt.subplots(1,2, figsize=(8,3))\n",
    "            ax[0].set_title('$I(z_1;z_2)$')\n",
    "            ax[1].set_title('$D_{SKL}(p(z_1|v_1)||p(z_2|v_2))$')\n",
    "            ax[1].set_yscale('log')\n",
    "            ax[0].plot(mi_over_time, '.', alpha=0.1)\n",
    "            ax[1].plot(skl_over_time, '.r', alpha=0.1)\n",
    "            ax[0].set_ylim(0,8)\n",
    "            ax[1].set_ylim(1e-3)\n",
    "\n",
    "            f.suptitle('Epoch: %d'%epoch, fontsize=15)\n",
    "            plt.show()\n",
    "\n",
    "            # Compute train and test_accuracy of a logistic regression\n",
    "            train_accuracy, test_accuracy = evaluate(encoder=encoder_v_1, train_on=train_subset, test_on=test_set, cuda=cuda)\n",
    "            print('Train Accuracy: %f'% train_accuracy)\n",
    "            print('Test Accuracy: %f'% test_accuracy)\n",
    "\n",
    "train()"
   ]
  },
  {
   "cell_type": "code",
   "execution_count": 39,
   "metadata": {},
   "outputs": [
    {
     "name": "stdout",
     "output_type": "stream",
     "text": [
      "Train Accuracy: 1.000000\n",
      "Test Accuracy: 0.364350\n"
     ]
    }
   ],
   "source": [
    "# Testing with 1 sample per label (~0.0017 % of labeled train points)\n",
    "train_smallest_subset = split(train_set, 10, 'Balanced') \n",
    "\n",
    "train_accuracy, test_accuracy = evaluate(encoder=encoder_v_1, train_on=train_smallest_subset, test_on=test_set, cuda=cuda)\n",
    "print('Train Accuracy: %f'% train_accuracy)\n",
    "print('Test Accuracy: %f'% test_accuracy)"
   ]
  },
  {
   "cell_type": "code",
   "execution_count": null,
   "metadata": {},
   "outputs": [],
   "source": []
  }
 ],
 "metadata": {
  "kernelspec": {
   "display_name": "Python 3",
   "language": "python",
   "name": "python3"
  },
  "language_info": {
   "codemirror_mode": {
    "name": "ipython",
    "version": 3
   },
   "file_extension": ".py",
   "mimetype": "text/x-python",
   "name": "python",
   "nbconvert_exporter": "python",
   "pygments_lexer": "ipython3",
   "version": "3.7.3"
  }
 },
 "nbformat": 4,
 "nbformat_minor": 2
}
