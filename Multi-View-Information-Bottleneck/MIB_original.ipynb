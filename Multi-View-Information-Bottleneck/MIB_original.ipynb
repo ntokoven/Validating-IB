{
 "cells": [
  {
   "cell_type": "code",
   "execution_count": 1,
   "metadata": {},
   "outputs": [
    {
     "name": "stdout",
     "output_type": "stream",
     "text": [
      "Populating the interactive namespace from numpy and matplotlib\n"
     ]
    }
   ],
   "source": [
    "%pylab inline\n",
    "import torch\n",
    "\n",
    "# Flag to enable execution on GPU\n",
    "cuda = True if torch.cuda.is_available() else False"
   ]
  },
  {
   "cell_type": "markdown",
   "metadata": {},
   "source": [
    "# Dataset"
   ]
  },
  {
   "cell_type": "code",
   "execution_count": 2,
   "metadata": {},
   "outputs": [],
   "source": [
    "from torchvision.datasets import MNIST\n",
    "from torchvision.transforms import ToTensor\n",
    "\n",
    "# Loading the MNIST dataset\n",
    "train_set = MNIST('./data/MNIST', download=True, train=True, transform=ToTensor())\n",
    "test_set = MNIST('./data/MNIST', download=True, train=True, transform=ToTensor())"
   ]
  },
  {
   "cell_type": "code",
   "execution_count": 3,
   "metadata": {},
   "outputs": [],
   "source": [
    "from torchvision.transforms import Compose, RandomAffine, ToTensor\n",
    "from data_utils import PixelCorruption\n",
    "\n",
    "# Defining the augmentations\n",
    "t = Compose([\n",
    "    RandomAffine(degrees=15,\n",
    "                 translate=[0.1, 0.1],\n",
    "                 scale=[0.9, 1.1],\n",
    "                 shear=15), # Small affine transformations\n",
    "    ToTensor(),             # Conversion to torch tensor\n",
    "    PixelCorruption(0.8)    # PixelCorruption with keep probability 80%\n",
    "])"
   ]
  },
  {
   "cell_type": "code",
   "execution_count": 4,
   "metadata": {},
   "outputs": [
    {
     "data": {
      "image/png": "[encoded data removed]",
      "text/plain": [
       "<Figure size 432x288 with 2 Axes>"
      ]
     },
     "metadata": {
      "needs_background": "light"
     },
     "output_type": "display_data"
    }
   ],
   "source": [
    "from data_utils import AugmentedDataset\n",
    "\n",
    "# Creating the multi-view dataset\n",
    "mv_train_set = AugmentedDataset(MNIST('./data/MNIST', train=True), t)\n",
    "\n",
    "# Visualization of one example\n",
    "f, ax = plt.subplots(1,2)\n",
    "\n",
    "idx = 0\n",
    "v_1, v_2, y = mv_train_set[idx]\n",
    "f.suptitle('Label: %d'%y,size=15)\n",
    "ax[0].imshow(v_1[0].data.numpy())\n",
    "ax[1].imshow(v_2[0].data.numpy())\n",
    "ax[0].axis('off')\n",
    "ax[1].axis('off');"
   ]
  },
  {
   "cell_type": "code",
   "execution_count": 5,
   "metadata": {},
   "outputs": [],
   "source": [
    "from torch.utils.data import DataLoader\n",
    "\n",
    "batch_size = 64\n",
    "\n",
    "# Initialization of the data loader\n",
    "train_loader = DataLoader(mv_train_set, batch_size=batch_size, shuffle=True, num_workers=8 if cuda else 1)"
   ]
  },
  {
   "cell_type": "markdown",
   "metadata": {},
   "source": [
    "# Defining the architectures"
   ]
  },
  {
   "cell_type": "code",
   "execution_count": 6,
   "metadata": {},
   "outputs": [],
   "source": [
    "import torch.nn as nn\n",
    "from torch.distributions import Normal, Independent\n",
    "from torch.nn.functional import softplus\n",
    "\n",
    "# Encoder architecture\n",
    "class Encoder(nn.Module):\n",
    "    def __init__(self, z_dim):\n",
    "        super(Encoder, self).__init__()\n",
    "        \n",
    "        self.z_dim = z_dim\n",
    "        \n",
    "        # Vanilla MLP\n",
    "        self.net = nn.Sequential(\n",
    "            nn.Linear(28*28, 1024),\n",
    "            nn.ReLU(True),\n",
    "            nn.Linear(1024, 1024),\n",
    "            nn.ReLU(True),\n",
    "            nn.Linear(1024, z_dim*2),\n",
    "        )\n",
    "        \n",
    "    def forward(self, x):\n",
    "        x = x.view(x.size(0),-1) # Flatten the input\n",
    "        params = self.net(x)\n",
    "        \n",
    "        mu, sigma = params[:,:self.z_dim], params[:,self.z_dim:]\n",
    "        sigma = softplus(sigma) + 1e-7  # Make sigma always positive\n",
    "        \n",
    "        return Independent(Normal(loc=mu, scale=sigma), 1) # Return a factorized Normal distribution\n",
    "\n",
    "# Auxiliary network for mutual information estimation\n",
    "class MIEstimator(nn.Module):\n",
    "    def __init__(self, size1, size2):\n",
    "        super(MIEstimator, self).__init__()\n",
    "        \n",
    "        # Vanilla MLP\n",
    "        self.net = nn.Sequential(\n",
    "            nn.Linear(size1 + size2, 1024),\n",
    "            nn.ReLU(True),\n",
    "            nn.Linear(1024, 1024),\n",
    "            nn.ReLU(True),\n",
    "            nn.Linear(1024, 1),\n",
    "        )\n",
    "    \n",
    "    # Gradient for JSD mutual information estimation and EB-based estimation\n",
    "    def forward(self, x1, x2):\n",
    "        pos = self.net(torch.cat([x1, x2], 1)) #Positive Samples \n",
    "        neg = self.net(torch.cat([torch.roll(x1, 1, 0), x2], 1)) #Predictions for shuffled (negative) samples from p(z1)p(z2)\n",
    "        #breakpoint()\n",
    "        return -softplus(-pos).mean() - softplus(neg).mean(), pos.mean() - neg.exp().mean() + 1\n",
    "    \n"
   ]
  },
  {
   "cell_type": "code",
   "execution_count": 7,
   "metadata": {},
   "outputs": [],
   "source": [
    "# Size of the representation\n",
    "z_dim = 64\n",
    "\n",
    "# Intialization of the encoder(s)\n",
    "encoder_v_1 = Encoder(z_dim)\n",
    "encoder_v_2 = encoder_v_1 # Full parameter sharing for the two encoders\n",
    "\n",
    "# Initialization of the mutual information estimation network\n",
    "mi_estimator = MIEstimator(z_dim, z_dim) \n",
    "\n",
    "# Moving the models to the GPU\n",
    "if cuda:\n",
    "    encoder_v_1 = encoder_v_1.cuda()\n",
    "    encoder_v_2 = encoder_v_2.cuda()\n",
    "    mi_estimator = mi_estimator.cuda()"
   ]
  },
  {
   "cell_type": "code",
   "execution_count": 8,
   "metadata": {},
   "outputs": [],
   "source": [
    "from torch.optim import Adam\n",
    "\n",
    "# Defining the optimizer\n",
    "opt = Adam([\n",
    "    {'params': encoder_v_1.parameters(), 'lr':1e-4},\n",
    "#     {'params': encoder_v_2.parameters(), 'lr':1e-4}, # There is only one encoder in this example\n",
    "    {'params': mi_estimator.parameters(), 'lr':1e-4},\n",
    "])"
   ]
  },
  {
   "cell_type": "markdown",
   "metadata": {},
   "source": [
    "# Evaluation"
   ]
  },
  {
   "cell_type": "code",
   "execution_count": 9,
   "metadata": {},
   "outputs": [],
   "source": [
    "from evaluation import evaluate, split\n",
    "\n",
    "\n",
    "# Select a subset (100 samples per label ~0.17 %) of labeled train points\n",
    "train_subset = split(train_set, 10, 'Balanced') "
   ]
  },
  {
   "cell_type": "code",
   "execution_count": 10,
   "metadata": {},
   "outputs": [
    {
     "data": {
      "text/plain": [
       "<torch.utils.data.dataset.Subset at 0x1a2d03e278>"
      ]
     },
     "execution_count": 10,
     "metadata": {},
     "output_type": "execute_result"
    }
   ],
   "source": [
    "train_subset"
   ]
  },
  {
   "cell_type": "markdown",
   "metadata": {},
   "source": [
    "# Training procedure"
   ]
  },
  {
   "cell_type": "code",
   "execution_count": 13,
   "metadata": {},
   "outputs": [
    {
     "data": {
      "image/png": "[encoded data removed]",
      "text/plain": [
       "<Figure size 432x288 with 1 Axes>"
      ]
     },
     "metadata": {
      "needs_background": "light"
     },
     "output_type": "display_data"
    }
   ],
   "source": [
    "from data_utils import ExponentialScheduler\n",
    "\n",
    "# Defining the schedule for the update of the hyper-parameter over time\n",
    "beta_scheduler = ExponentialScheduler(start_value=1e-3, end_value=1, n_iterations=100, start_iteration=50)\n",
    "# beta_scheduler = ExponentialScheduler(start_value=1e-3, end_value=1, n_iterations=100000, start_iteration=50000)\n",
    "\n",
    "# Visualization of the scheduler behavior\n",
    "iterations = np.arange(250)\n",
    "plt.plot(iterations, [beta_scheduler(iteration) for iteration in iterations])\n",
    "plt.title('$\\\\beta$ Schedule', size=20)\n",
    "plt.yscale('log')\n",
    "plt.xlabel('Iteration', size=15)\n",
    "plt.ylabel('$\\\\beta$', size=15);"
   ]
  },
  {
   "cell_type": "code",
   "execution_count": null,
   "metadata": {},
   "outputs": [],
   "source": [
    "from tqdm import tqdm_notebook as tqdm\n",
    "\n",
    "# Training parameters\n",
    "# Increase number of epochs and delay the beta increment for better performances\n",
    "epochs = 300\n",
    "iterations = 0\n",
    "plot_every = 20\n",
    "mi_over_time = []\n",
    "skl_over_time = []"
   ]
  },
  {
   "cell_type": "code",
   "execution_count": null,
   "metadata": {},
   "outputs": [
    {
     "data": {
      "application/vnd.jupyter.widget-view+json": {
       "model_id": "74fbec8ead83429c9bd981f2c43c7ed4",
       "version_major": 2,
       "version_minor": 0
      },
      "text/plain": [
       "HBox(children=(IntProgress(value=0, max=300), HTML(value='')))"
      ]
     },
     "metadata": {},
     "output_type": "display_data"
    },
    {
     "name": "stdout",
     "output_type": "stream",
     "text": [
      "> <ipython-input-7-17e78d11dfb8>(49)forward()\n",
      "-> return -softplus(-pos).mean() - softplus(neg).mean(), pos.mean() - neg.exp().mean() + 1\n",
      "(Pdb) pos\n",
      "tensor([[-5.1863e-02],\n",
      "        [ 3.0027e-02],\n",
      "        [ 2.3685e-02],\n",
      "        [ 3.1210e-02],\n",
      "        [-1.1133e-02],\n",
      "        [-5.2478e-02],\n",
      "        [-1.3885e-01],\n",
      "        [-4.1310e-02],\n",
      "        [-5.9979e-02],\n",
      "        [-6.0139e-02],\n",
      "        [-6.9977e-02],\n",
      "        [-6.2791e-02],\n",
      "        [-3.2100e-02],\n",
      "        [-2.3803e-02],\n",
      "        [-6.7242e-02],\n",
      "        [-3.5637e-02],\n",
      "        [-9.3962e-02],\n",
      "        [-1.1038e-01],\n",
      "        [-7.0551e-02],\n",
      "        [-4.6513e-02],\n",
      "        [-3.0850e-02],\n",
      "        [-2.4909e-05],\n",
      "        [-2.2548e-02],\n",
      "        [-1.9792e-02],\n",
      "        [-6.8624e-03],\n",
      "        [ 2.2254e-02],\n",
      "        [-1.0465e-01],\n",
      "        [-7.9801e-02],\n",
      "        [-3.5179e-02],\n",
      "        [-4.7278e-02],\n",
      "        [-1.3955e-01],\n",
      "        [-4.5219e-02],\n",
      "        [-5.9680e-02],\n",
      "        [-3.5988e-02],\n",
      "        [-1.8454e-02],\n",
      "        [-2.3996e-02],\n",
      "        [-1.6494e-02],\n",
      "        [-7.1328e-03],\n",
      "        [ 2.3882e-02],\n",
      "        [ 5.8144e-02],\n",
      "        [-3.6985e-02],\n",
      "        [-1.0879e-01],\n",
      "        [-4.4439e-02],\n",
      "        [ 4.5487e-02],\n",
      "        [-1.0386e-01],\n",
      "        [-4.8489e-02],\n",
      "        [-1.0553e-01],\n",
      "        [-1.1055e-02],\n",
      "        [-3.3809e-02],\n",
      "        [-3.4476e-02],\n",
      "        [-8.3874e-02],\n",
      "        [-4.3526e-02],\n",
      "        [-7.0909e-02],\n",
      "        [-8.3462e-03],\n",
      "        [-5.0569e-02],\n",
      "        [-1.1018e-01],\n",
      "        [-3.1164e-03],\n",
      "        [-2.1787e-02],\n",
      "        [ 3.4362e-02],\n",
      "        [ 8.1521e-03],\n",
      "        [-1.4654e-01],\n",
      "        [ 6.1944e-03],\n",
      "        [-8.2605e-02],\n",
      "        [ 6.1158e-03]], grad_fn=<AddmmBackward>)\n",
      "(Pdb) x1\n",
      "tensor([[ 0.6563,  0.1041, -0.7715,  ...,  1.3631, -0.5683, -0.3231],\n",
      "        [-0.3478,  0.9882, -1.0347,  ...,  0.4932,  0.4601,  0.2376],\n",
      "        [-0.4392,  0.4214,  0.0395,  ..., -0.0733, -0.3598,  0.4407],\n",
      "        ...,\n",
      "        [-0.5852, -0.9428, -0.4444,  ..., -0.6143, -0.2062, -0.5761],\n",
      "        [-0.2694,  0.3437, -0.3904,  ...,  0.0260,  0.6843, -1.2249],\n",
      "        [ 1.3405, -0.9414, -0.9611,  ..., -0.6063,  0.6837, -0.4586]],\n",
      "       grad_fn=<AddBackward0>)\n",
      "(Pdb) x1.size()\n",
      "torch.Size([64, 64])\n",
      "(Pdb) pos.size()\n",
      "torch.Size([64, 1])\n",
      "(Pdb) self.net(torch.cat([x1, x2], 1))\n",
      "tensor([[-5.1863e-02],\n",
      "        [ 3.0027e-02],\n",
      "        [ 2.3685e-02],\n",
      "        [ 3.1210e-02],\n",
      "        [-1.1133e-02],\n",
      "        [-5.2478e-02],\n",
      "        [-1.3885e-01],\n",
      "        [-4.1310e-02],\n",
      "        [-5.9979e-02],\n",
      "        [-6.0139e-02],\n",
      "        [-6.9977e-02],\n",
      "        [-6.2791e-02],\n",
      "        [-3.2100e-02],\n",
      "        [-2.3803e-02],\n",
      "        [-6.7242e-02],\n",
      "        [-3.5637e-02],\n",
      "        [-9.3962e-02],\n",
      "        [-1.1038e-01],\n",
      "        [-7.0551e-02],\n",
      "        [-4.6513e-02],\n",
      "        [-3.0850e-02],\n",
      "        [-2.4909e-05],\n",
      "        [-2.2548e-02],\n",
      "        [-1.9792e-02],\n",
      "        [-6.8624e-03],\n",
      "        [ 2.2254e-02],\n",
      "        [-1.0465e-01],\n",
      "        [-7.9801e-02],\n",
      "        [-3.5179e-02],\n",
      "        [-4.7278e-02],\n",
      "        [-1.3955e-01],\n",
      "        [-4.5219e-02],\n",
      "        [-5.9680e-02],\n",
      "        [-3.5988e-02],\n",
      "        [-1.8454e-02],\n",
      "        [-2.3996e-02],\n",
      "        [-1.6494e-02],\n",
      "        [-7.1328e-03],\n",
      "        [ 2.3882e-02],\n",
      "        [ 5.8144e-02],\n",
      "        [-3.6985e-02],\n",
      "        [-1.0879e-01],\n",
      "        [-4.4439e-02],\n",
      "        [ 4.5487e-02],\n",
      "        [-1.0386e-01],\n",
      "        [-4.8489e-02],\n",
      "        [-1.0553e-01],\n",
      "        [-1.1055e-02],\n",
      "        [-3.3809e-02],\n",
      "        [-3.4476e-02],\n",
      "        [-8.3874e-02],\n",
      "        [-4.3526e-02],\n",
      "        [-7.0909e-02],\n",
      "        [-8.3462e-03],\n",
      "        [-5.0569e-02],\n",
      "        [-1.1018e-01],\n",
      "        [-3.1164e-03],\n",
      "        [-2.1787e-02],\n",
      "        [ 3.4362e-02],\n",
      "        [ 8.1521e-03],\n",
      "        [-1.4654e-01],\n",
      "        [ 6.1944e-03],\n",
      "        [-8.2605e-02],\n",
      "        [ 6.1158e-03]], grad_fn=<AddmmBackward>)\n",
      "(Pdb) torch.cat([x1, x2], 1)\n",
      "tensor([[ 0.6563,  0.1041, -0.7715,  ...,  0.2965, -1.0151,  0.0432],\n",
      "        [-0.3478,  0.9882, -1.0347,  ...,  0.3655,  0.6603,  1.0698],\n",
      "        [-0.4392,  0.4214,  0.0395,  ...,  0.1001,  0.7734, -0.2466],\n",
      "        ...,\n",
      "        [-0.5852, -0.9428, -0.4444,  ..., -0.6447,  0.4414,  0.9029],\n",
      "        [-0.2694,  0.3437, -0.3904,  ...,  0.6813, -0.2377,  0.3516],\n",
      "        [ 1.3405, -0.9414, -0.9611,  ...,  0.9155,  0.7456,  0.0326]],\n",
      "       grad_fn=<CatBackward>)\n",
      "(Pdb) x1\n",
      "tensor([[ 0.6563,  0.1041, -0.7715,  ...,  1.3631, -0.5683, -0.3231],\n",
      "        [-0.3478,  0.9882, -1.0347,  ...,  0.4932,  0.4601,  0.2376],\n",
      "        [-0.4392,  0.4214,  0.0395,  ..., -0.0733, -0.3598,  0.4407],\n",
      "        ...,\n",
      "        [-0.5852, -0.9428, -0.4444,  ..., -0.6143, -0.2062, -0.5761],\n",
      "        [-0.2694,  0.3437, -0.3904,  ...,  0.0260,  0.6843, -1.2249],\n",
      "        [ 1.3405, -0.9414, -0.9611,  ..., -0.6063,  0.6837, -0.4586]],\n",
      "       grad_fn=<AddBackward0>)\n",
      "(Pdb) x2\n",
      "tensor([[-0.6954,  0.1191,  0.4388,  ...,  0.2965, -1.0151,  0.0432],\n",
      "        [ 0.3525,  0.9121,  0.0902,  ...,  0.3655,  0.6603,  1.0698],\n",
      "        [-0.7172,  0.4268, -0.4611,  ...,  0.1001,  0.7734, -0.2466],\n",
      "        ...,\n",
      "        [-0.4902,  0.7248, -0.1541,  ..., -0.6447,  0.4414,  0.9029],\n",
      "        [ 0.4789,  0.4146,  0.9695,  ...,  0.6813, -0.2377,  0.3516],\n",
      "        [ 0.6247,  0.3642,  0.1708,  ...,  0.9155,  0.7456,  0.0326]],\n",
      "       grad_fn=<AddBackward0>)\n",
      "(Pdb) torch.cat([x1, x2], 1).size()\n",
      "torch.Size([64, 128])\n",
      "(Pdb) x1\n",
      "tensor([[ 0.6563,  0.1041, -0.7715,  ...,  1.3631, -0.5683, -0.3231],\n",
      "        [-0.3478,  0.9882, -1.0347,  ...,  0.4932,  0.4601,  0.2376],\n",
      "        [-0.4392,  0.4214,  0.0395,  ..., -0.0733, -0.3598,  0.4407],\n",
      "        ...,\n",
      "        [-0.5852, -0.9428, -0.4444,  ..., -0.6143, -0.2062, -0.5761],\n",
      "        [-0.2694,  0.3437, -0.3904,  ...,  0.0260,  0.6843, -1.2249],\n",
      "        [ 1.3405, -0.9414, -0.9611,  ..., -0.6063,  0.6837, -0.4586]],\n",
      "       grad_fn=<AddBackward0>)\n",
      "(Pdb) torch.roll(x1, 1, 0)\n",
      "tensor([[ 1.3405, -0.9414, -0.9611,  ..., -0.6063,  0.6837, -0.4586],\n",
      "        [ 0.6563,  0.1041, -0.7715,  ...,  1.3631, -0.5683, -0.3231],\n",
      "        [-0.3478,  0.9882, -1.0347,  ...,  0.4932,  0.4601,  0.2376],\n",
      "        ...,\n",
      "        [ 0.8249,  0.2960, -0.6908,  ...,  0.3941,  0.9450,  0.2233],\n",
      "        [-0.5852, -0.9428, -0.4444,  ..., -0.6143, -0.2062, -0.5761],\n",
      "        [-0.2694,  0.3437, -0.3904,  ...,  0.0260,  0.6843, -1.2249]],\n",
      "       grad_fn=<RollBackward>)\n"
     ]
    }
   ],
   "source": [
    "# Training loop (approx 1h on GPU)\n",
    "for epoch in tqdm(range(epochs)):\n",
    "    for v_1, v_2, _ in train_loader:\n",
    "        \n",
    "        if cuda:\n",
    "            v_1 = v_1.cuda()\n",
    "            v_2 = v_2.cuda()\n",
    "        \n",
    "        # Encode a batch of data\n",
    "        p_z_1_given_v_1 = encoder_v_1(v_1)\n",
    "        p_z_2_given_v_2 = encoder_v_2(v_2)\n",
    "        \n",
    "        # Sample from the posteriors with reparametrization\n",
    "        z_1 = p_z_1_given_v_1.rsample()\n",
    "        z_2 = p_z_2_given_v_2.rsample()\n",
    "        \n",
    "        # Mutual information estimation\n",
    "        mi_gradient, mi_estimation = mi_estimator(z_1,z_2)\n",
    "        mi_gradient = mi_gradient.mean()\n",
    "        mi_estimation = mi_estimation.mean()\n",
    "        print(mi_estimation)\n",
    "        # Symmetrized Kullback-Leibler divergence\n",
    "        kl_1_2 = p_z_1_given_v_1.log_prob(z_1) - p_z_2_given_v_2.log_prob(z_1)\n",
    "        kl_2_1 = p_z_2_given_v_2.log_prob(z_2) - p_z_1_given_v_1.log_prob(z_2)\n",
    "        skl = (kl_1_2 + kl_2_1).mean()/ 2.\n",
    "\n",
    "        # Update the value of beta according to the policy\n",
    "        beta = beta_scheduler(iterations)\n",
    "        iterations +=1\n",
    "        \n",
    "        # Computing the loss function\n",
    "        loss = - mi_gradient + beta * skl\n",
    "        \n",
    "        # Logging\n",
    "        mi_over_time.append(mi_estimation.item())\n",
    "        skl_over_time.append(skl.item())\n",
    "        \n",
    "        # Backward pass and update\n",
    "        opt.zero_grad()\n",
    "        loss.backward()\n",
    "        opt.step()   \n",
    "    \n",
    "    # Plot the loss components every 5 epochs\n",
    "    if epoch % plot_every == 0:\n",
    "        f, ax = plt.subplots(1,2, figsize=(8,3))\n",
    "        ax[0].set_title('$I(z_1;z_2)$')\n",
    "        ax[1].set_title('$D_{SKL}(p(z_1|v_1)||p(z_2|v_2))$')\n",
    "        ax[1].set_yscale('log')\n",
    "        ax[0].plot(mi_over_time, '.', alpha=0.1)\n",
    "        ax[1].plot(skl_over_time, '.r', alpha=0.1)\n",
    "        ax[0].set_ylim(0,8)\n",
    "        ax[1].set_ylim(1e-3)\n",
    "        \n",
    "        f.suptitle('Epoch: %d'%epoch, fontsize=15)\n",
    "        plt.show()\n",
    "        \n",
    "        # Compute train and test_accuracy of a logistic regression\n",
    "        train_accuracy, test_accuracy = evaluate(encoder=encoder_v_1, train_on=train_subset, test_on=test_set, cuda=cuda)\n",
    "        print('Train Accuracy: %f'% train_accuracy)\n",
    "        print('Test Accuracy: %f'% test_accuracy)\n",
    "        \n",
    "    "
   ]
  },
  {
   "cell_type": "code",
   "execution_count": 27,
   "metadata": {},
   "outputs": [
    {
     "name": "stdout",
     "output_type": "stream",
     "text": [
      "<torch.utils.data.dataset.Subset object at 0x1a36bbeeb8>\n",
      "Train Accuracy: 1.000000\n",
      "Test Accuracy: 0.235450\n"
     ]
    }
   ],
   "source": [
    "# Testing with 1 sample per label (~0.0017 % of labeled train points)\n",
    "train_smallest_subset = split(train_set, 10, 'Balanced') \n",
    "print(train_smallest_subset)\n",
    "train_accuracy, test_accuracy = evaluate(encoder=encoder_v_1, train_on=train_smallest_subset, test_on=test_set, cuda=cuda)\n",
    "print('Train Accuracy: %f'% train_accuracy)\n",
    "print('Test Accuracy: %f'% test_accuracy)"
   ]
  },
  {
   "cell_type": "code",
   "execution_count": null,
   "metadata": {},
   "outputs": [],
   "source": []
  }
 ],
 "metadata": {
  "kernelspec": {
   "display_name": "Python 3",
   "language": "python",
   "name": "python3"
  },
  "language_info": {
   "codemirror_mode": {
    "name": "ipython",
    "version": 3
   },
   "file_extension": ".py",
   "mimetype": "text/x-python",
   "name": "python",
   "nbconvert_exporter": "python",
   "pygments_lexer": "ipython3",
   "version": "3.7.3"
  }
 },
 "nbformat": 4,
 "nbformat_minor": 2
}
