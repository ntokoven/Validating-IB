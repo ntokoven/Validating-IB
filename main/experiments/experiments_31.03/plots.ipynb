{
 "cells": [
  {
   "cell_type": "code",
   "execution_count": 1,
   "metadata": {},
   "outputs": [
    {
     "name": "stdout",
     "output_type": "stream",
     "text": [
      "Populating the interactive namespace from numpy and matplotlib\n"
     ]
    }
   ],
   "source": [
    "%pylab inline \n",
    "import pandas as pd\n",
    "import matplotlib.pyplot as plt\n",
    "import numpy as np\n",
    "import os"
   ]
  },
  {
   "cell_type": "code",
   "execution_count": 2,
   "metadata": {},
   "outputs": [],
   "source": [
    "def get_max_from_df(df):\n",
    "    return df.max(axis=0)['X'], df.max(axis=0)['Y']"
   ]
  },
  {
   "cell_type": "code",
   "execution_count": 3,
   "metadata": {},
   "outputs": [
    {
     "data": {
      "text/html": [
       "<div>\n",
       "<style scoped>\n",
       "    .dataframe tbody tr th:only-of-type {\n",
       "        vertical-align: middle;\n",
       "    }\n",
       "\n",
       "    .dataframe tbody tr th {\n",
       "        vertical-align: top;\n",
       "    }\n",
       "\n",
       "    .dataframe thead th {\n",
       "        text-align: right;\n",
       "    }\n",
       "</style>\n",
       "<table border=\"1\" class=\"dataframe\">\n",
       "  <thead>\n",
       "    <tr style=\"text-align: right;\">\n",
       "      <th></th>\n",
       "      <th>0</th>\n",
       "      <th>1</th>\n",
       "      <th>2</th>\n",
       "    </tr>\n",
       "  </thead>\n",
       "  <tbody>\n",
       "    <tr>\n",
       "      <th>0.001000</th>\n",
       "      <td>(11.788130964713075, 2.3445274845401256)</td>\n",
       "      <td>(11.0006423685788, 2.343377195687091)</td>\n",
       "      <td>(11.275901627201605, 2.346506446176231)</td>\n",
       "    </tr>\n",
       "    <tr>\n",
       "      <th>0.000100</th>\n",
       "      <td>(11.427419411627602, 2.3455625546487022)</td>\n",
       "      <td>(10.190286082679062, 2.3471514119356165)</td>\n",
       "      <td>(10.73224299891865, 2.3513225379148364)</td>\n",
       "    </tr>\n",
       "    <tr>\n",
       "      <th>0.000010</th>\n",
       "      <td>(11.324993161793568, 2.3464037117799883)</td>\n",
       "      <td>(10.879974640941168, 2.346806370392795)</td>\n",
       "      <td>(10.963589394827023, 2.350299199751768)</td>\n",
       "    </tr>\n",
       "    <tr>\n",
       "      <th>0.000001</th>\n",
       "      <td>(11.367563289488661, 2.345736265323738)</td>\n",
       "      <td>(10.985195216409405, 2.3446425349226496)</td>\n",
       "      <td>(12.065866465817132, 2.3528739575526156)</td>\n",
       "    </tr>\n",
       "    <tr>\n",
       "      <th>0.000000</th>\n",
       "      <td>(11.1424207122405, 2.3448912600205407)</td>\n",
       "      <td>(11.642456285196458, 2.345349877225279)</td>\n",
       "      <td>(12.100688300426535, 2.353458126009358)</td>\n",
       "    </tr>\n",
       "  </tbody>\n",
       "</table>\n",
       "</div>"
      ],
      "text/plain": [
       "                                                 0  \\\n",
       "0.001000  (11.788130964713075, 2.3445274845401256)   \n",
       "0.000100  (11.427419411627602, 2.3455625546487022)   \n",
       "0.000010  (11.324993161793568, 2.3464037117799883)   \n",
       "0.000001   (11.367563289488661, 2.345736265323738)   \n",
       "0.000000    (11.1424207122405, 2.3448912600205407)   \n",
       "\n",
       "                                                 1  \\\n",
       "0.001000     (11.0006423685788, 2.343377195687091)   \n",
       "0.000100  (10.190286082679062, 2.3471514119356165)   \n",
       "0.000010   (10.879974640941168, 2.346806370392795)   \n",
       "0.000001  (10.985195216409405, 2.3446425349226496)   \n",
       "0.000000   (11.642456285196458, 2.345349877225279)   \n",
       "\n",
       "                                                 2  \n",
       "0.001000   (11.275901627201605, 2.346506446176231)  \n",
       "0.000100   (10.73224299891865, 2.3513225379148364)  \n",
       "0.000010   (10.963589394827023, 2.350299199751768)  \n",
       "0.000001  (12.065866465817132, 2.3528739575526156)  \n",
       "0.000000   (12.100688300426535, 2.353458126009358)  "
      ]
     },
     "execution_count": 3,
     "metadata": {},
     "output_type": "execute_result"
    }
   ],
   "source": [
    "layers = [0, 1, 2]\n",
    "wd_vals = [1e-3, 1e-4, 1e-5, 1e-6, 0]\n",
    "wd_mie = pd.DataFrame(columns=layers)\n",
    "\n",
    "for layer in layers:\n",
    "    for wd_val in wd_vals:\n",
    "        wd_path = 'weight_decay_mie_values/mie_mlp_train__lLinear%s_w%s_s69.csv' % (layer, 0 if wd_val==0 else int(1/wd_val))\n",
    "        wd_mie.loc[wd_val, layer] = get_max_from_df(pd.read_csv(wd_path, sep=' ', index_col=0))\n",
    "\n",
    "\n",
    "wd_mie"
   ]
  },
  {
   "cell_type": "code",
   "execution_count": 4,
   "metadata": {},
   "outputs": [
    {
     "data": {
      "text/html": [
       "<div>\n",
       "<style scoped>\n",
       "    .dataframe tbody tr th:only-of-type {\n",
       "        vertical-align: middle;\n",
       "    }\n",
       "\n",
       "    .dataframe tbody tr th {\n",
       "        vertical-align: top;\n",
       "    }\n",
       "\n",
       "    .dataframe thead th {\n",
       "        text-align: right;\n",
       "    }\n",
       "</style>\n",
       "<table border=\"1\" class=\"dataframe\">\n",
       "  <thead>\n",
       "    <tr style=\"text-align: right;\">\n",
       "      <th></th>\n",
       "      <th>0</th>\n",
       "      <th>1</th>\n",
       "      <th>2</th>\n",
       "    </tr>\n",
       "  </thead>\n",
       "  <tbody>\n",
       "    <tr>\n",
       "      <th>0.10</th>\n",
       "      <td>(11.008647316440024, 2.3444429186848104)</td>\n",
       "      <td>(10.947228040740388, 2.3426490979737014)</td>\n",
       "      <td>(8.617414702171397, 2.3494997444028543)</td>\n",
       "    </tr>\n",
       "    <tr>\n",
       "      <th>0.25</th>\n",
       "      <td>(11.05828395048024, 2.3440924775543936)</td>\n",
       "      <td>(10.271226713442688, 2.340752098656379)</td>\n",
       "      <td>(6.7578131576284965, 2.3429880324415686)</td>\n",
       "    </tr>\n",
       "    <tr>\n",
       "      <th>0.50</th>\n",
       "      <td>(11.348181359575825, 2.3402250137939267)</td>\n",
       "      <td>(7.88249001288301, 2.3160675103065533)</td>\n",
       "      <td>(4.231245694567241, 2.30631268349304)</td>\n",
       "    </tr>\n",
       "  </tbody>\n",
       "</table>\n",
       "</div>"
      ],
      "text/plain": [
       "                                             0  \\\n",
       "0.10  (11.008647316440024, 2.3444429186848104)   \n",
       "0.25   (11.05828395048024, 2.3440924775543936)   \n",
       "0.50  (11.348181359575825, 2.3402250137939267)   \n",
       "\n",
       "                                             1  \\\n",
       "0.10  (10.947228040740388, 2.3426490979737014)   \n",
       "0.25   (10.271226713442688, 2.340752098656379)   \n",
       "0.50    (7.88249001288301, 2.3160675103065533)   \n",
       "\n",
       "                                             2  \n",
       "0.10   (8.617414702171397, 2.3494997444028543)  \n",
       "0.25  (6.7578131576284965, 2.3429880324415686)  \n",
       "0.50     (4.231245694567241, 2.30631268349304)  "
      ]
     },
     "execution_count": 4,
     "metadata": {},
     "output_type": "execute_result"
    }
   ],
   "source": [
    "layers = [0, 1, 2]\n",
    "do_vals = [0.1, 0.25, 0.5]\n",
    "do_mie = pd.DataFrame(columns=layers)\n",
    "\n",
    "for layer in layers:\n",
    "    for do_val in do_vals:\n",
    "        do_path = 'dropout_mie_values/mie_mlp_train__lLinear%s_w0_s69_d0%s.csv' % (layer, str(do_val).replace('0.', ''))\n",
    "        do_mie.loc[do_val, layer] = get_max_from_df(pd.read_csv(do_path, sep=' ', index_col=0))\n",
    "\n",
    "do_mie"
   ]
  },
  {
   "cell_type": "code",
   "execution_count": 64,
   "metadata": {},
   "outputs": [
    {
     "data": {
      "text/html": [
       "<div>\n",
       "<style scoped>\n",
       "    .dataframe tbody tr th:only-of-type {\n",
       "        vertical-align: middle;\n",
       "    }\n",
       "\n",
       "    .dataframe tbody tr th {\n",
       "        vertical-align: top;\n",
       "    }\n",
       "\n",
       "    .dataframe thead th {\n",
       "        text-align: right;\n",
       "    }\n",
       "</style>\n",
       "<table border=\"1\" class=\"dataframe\">\n",
       "  <thead>\n",
       "    <tr style=\"text-align: right;\">\n",
       "      <th></th>\n",
       "      <th>2</th>\n",
       "    </tr>\n",
       "  </thead>\n",
       "  <tbody>\n",
       "    <tr>\n",
       "      <th>1e-1</th>\n",
       "      <td>(2.2147030251286037, 2.1111897779584496)</td>\n",
       "    </tr>\n",
       "    <tr>\n",
       "      <th>1e-2</th>\n",
       "      <td>(2.5872479629177616, 2.324947485285348)</td>\n",
       "    </tr>\n",
       "    <tr>\n",
       "      <th>1e-3</th>\n",
       "      <td>(3.774134405133848, 2.3471957521416)</td>\n",
       "    </tr>\n",
       "    <tr>\n",
       "      <th>1e-4</th>\n",
       "      <td>(7.481858338789919, 2.350941629771373)</td>\n",
       "    </tr>\n",
       "    <tr>\n",
       "      <th>1e-5</th>\n",
       "      <td>(10.320041737850245, 2.352484049672764)</td>\n",
       "    </tr>\n",
       "  </tbody>\n",
       "</table>\n",
       "</div>"
      ],
      "text/plain": [
       "                                             2\n",
       "1e-1  (2.2147030251286037, 2.1111897779584496)\n",
       "1e-2   (2.5872479629177616, 2.324947485285348)\n",
       "1e-3      (3.774134405133848, 2.3471957521416)\n",
       "1e-4    (7.481858338789919, 2.350941629771373)\n",
       "1e-5   (10.320041737850245, 2.352484049672764)"
      ]
     },
     "execution_count": 64,
     "metadata": {},
     "output_type": "execute_result"
    }
   ],
   "source": [
    "# layers = [0, 1, 2]\n",
    "vib_beta_vals = [1, 2, 3, 4, 5]\n",
    "vib_mie = pd.DataFrame(columns=[2])\n",
    "layers = vib_mie.columns.values\n",
    "\n",
    "for layer in layers:\n",
    "    for vib_val in vib_beta_vals:\n",
    "        vib_path = 'vib_mie_values/1e%s.csv' % vib_val\n",
    "        vib_mie.loc['1e-%s' % vib_val, 2] = get_max_from_df(pd.read_csv(vib_path, sep=' ', index_col=0))\n",
    "\n",
    "vib_mie"
   ]
  },
  {
   "cell_type": "code",
   "execution_count": 68,
   "metadata": {},
   "outputs": [
    {
     "name": "stdout",
     "output_type": "stream",
     "text": [
      "/Users/ntokoven/Dropbox/_Education/_UvA/_Thesis/information-bottleneck/experiments_3103\r\n"
     ]
    }
   ],
   "source": [
    "!pwd"
   ]
  },
  {
   "cell_type": "code",
   "execution_count": 81,
   "metadata": {},
   "outputs": [],
   "source": [
    "def information_plane(mi_df, reg_type):\n",
    "    params_vals = mi_df.index.values\n",
    "    layers = mi_df.columns.values\n",
    "    print(params_vals, layers)\n",
    "    fig, ax = plt.subplots(len(params_vals), 1, sharex=True, sharey=True)\n",
    "    set_legend = True\n",
    "    for i in range(len(params_vals)):\n",
    "        p = params_vals[i]\n",
    "        for j in range(len(layers)):\n",
    "            l = layers[j]\n",
    "            if set_legend:\n",
    "                ax[i].scatter(mi_df.loc[p, l][0], mi_df.loc[p, l][1], color=colors[layers[j]], label='Linear%s' % l)\n",
    "                ax[i].legend(loc='best')\n",
    "            else:\n",
    "                ax[i].scatter(mi_df.loc[p, l][0], mi_df.loc[p, l][1], color=colors[layers[j]])\n",
    "            ax[i].annotate('%s %s' % (reg_type, p), (mi_df.loc[p, l][0]-0.05, mi_df.loc[p, l][1]+0.01))\n",
    "            ax[i].grid()\n",
    "            #ax[i].title.set_text('Weight decay %s' % p)\n",
    "        set_legend = False\n",
    "\n",
    "    fig.text(0.5, 0.04, 'I(X, Z)', ha='center')\n",
    "    fig.text(0.04, 0.5, 'I(Z, Y)', va='center', rotation='vertical')\n",
    "    fig.set_size_inches(10, 7, forward=True)\n",
    "    #fig.suptitle('This is a somewhat long figure title', fontsize=8)\n",
    "    if not os.path.exists('information_planes'):\n",
    "        os.makedirs('information_planes')\n",
    "    fig.show()\n",
    "    fig.savefig('information_planes/%s.png' % reg_type)"
   ]
  },
  {
   "cell_type": "code",
   "execution_count": 82,
   "metadata": {},
   "outputs": [
    {
     "name": "stdout",
     "output_type": "stream",
     "text": [
      "[1.e-03 1.e-04 1.e-05 1.e-06 0.e+00] [0 1 2]\n"
     ]
    },
    {
     "data": {
      "image/png": "[encoded data removed]",
      "text/plain": [
       "<Figure size 720x504 with 5 Axes>"
      ]
     },
     "metadata": {
      "needs_background": "light"
     },
     "output_type": "display_data"
    }
   ],
   "source": [
    "information_plane(wd_mie, 'wd')"
   ]
  },
  {
   "cell_type": "code",
   "execution_count": 83,
   "metadata": {},
   "outputs": [
    {
     "name": "stdout",
     "output_type": "stream",
     "text": [
      "[0.1  0.25 0.5 ] [0 1 2]\n"
     ]
    },
    {
     "data": {
      "image/png": "[encoded data removed]",
      "text/plain": [
       "<Figure size 720x504 with 3 Axes>"
      ]
     },
     "metadata": {
      "needs_background": "light"
     },
     "output_type": "display_data"
    }
   ],
   "source": [
    "information_plane(do_mie, 'do')"
   ]
  },
  {
   "cell_type": "code",
   "execution_count": 80,
   "metadata": {},
   "outputs": [
    {
     "name": "stdout",
     "output_type": "stream",
     "text": [
      "['1e-1' '1e-2' '1e-3' '1e-4' '1e-5'] [2]\n"
     ]
    },
    {
     "data": {
      "image/png": "[encoded data removed]",
      "text/plain": [
       "<Figure size 720x504 with 5 Axes>"
      ]
     },
     "metadata": {
      "needs_background": "light"
     },
     "output_type": "display_data"
    }
   ],
   "source": [
    "information_plane(vib_mie, 'vib')"
   ]
  },
  {
   "cell_type": "code",
   "execution_count": 10,
   "metadata": {},
   "outputs": [
    {
     "name": "stderr",
     "output_type": "stream",
     "text": [
      "/Users/ntokoven/miniconda3/envs/py37/lib/python3.7/site-packages/matplotlib/figure.py:445: UserWarning: Matplotlib is currently using module://ipykernel.pylab.backend_inline, which is a non-GUI backend, so cannot show the figure.\n",
      "  % get_backend())\n"
     ]
    }
   ],
   "source": [
    "seeds = do_vals\n",
    "mi_df = do_mie\n",
    "for i in range(len(seeds)):\n",
    "    for j in range(len(layers)):\n",
    "        if set_legend:\n",
    "            ax2.scatter(mi_df.loc[seeds[i], layers_names[j]][0], mi_df.loc[seeds[i], layers_names[j]][1], color=colors[j], label='Linear%s' % layers_names[j]+' wd:%s'%seeds[i])\n",
    "        else:\n",
    "            ax2.scatter(mi_df.loc[seeds[i], layers_names[j]][0], mi_df.loc[seeds[i], layers_names[j]][1], color=colors[j])\n",
    "        ax2.annotate('  do %d' % seeds[i], (mi_df.loc[seeds[i], layers_names[j]][0], mi_df.loc[seeds[i], layers_names[j]][1]))\n",
    "        ax2.grid()\n",
    "    set_legend = False\n",
    "\n",
    "ax2.set_xlabel('I(X, Z)')\n",
    "ax2.set_ylabel('I(Z, Y)')\n",
    "\n",
    "fig2.legend()\n",
    "fig2.set_size_inches(10, 7, forward=True)\n",
    "fig2.show()\n",
    "fig2.savefig('wd_vs_dropout.png')\n"
   ]
  },
  {
   "cell_type": "code",
   "execution_count": 73,
   "metadata": {},
   "outputs": [
    {
     "name": "stdout",
     "output_type": "stream",
     "text": [
      "                                                0  \\\n",
      "0          (11.1424207122405, 2.3448912600205407)   \n",
      "1000     (11.788130964713075, 2.3445274845401256)   \n",
      "10000    (11.427419411627602, 2.3455625546487022)   \n",
      "99999    (11.324993161793568, 2.3464037117799883)   \n",
      "1000000   (11.367563289488661, 2.345736265323738)   \n",
      "\n",
      "                                                1  \\\n",
      "0         (11.642456285196458, 2.345349877225279)   \n",
      "1000        (11.0006423685788, 2.343377195687091)   \n",
      "10000    (10.190286082679062, 2.3471514119356165)   \n",
      "99999     (10.879974640941168, 2.346806370392795)   \n",
      "1000000  (10.985195216409405, 2.3446425349226496)   \n",
      "\n",
      "                                                2  \n",
      "0         (12.100688300426535, 2.353458126009358)  \n",
      "1000      (11.275901627201605, 2.346506446176231)  \n",
      "10000     (10.73224299891865, 2.3513225379148364)  \n",
      "99999     (10.963589394827023, 2.350299199751768)  \n",
      "1000000  (12.065866465817132, 2.3528739575526156)  \n",
      "[2]\n",
      "0\n",
      "0\n",
      "0\n",
      "0\n",
      "0\n"
     ]
    },
    {
     "data": {
      "image/png": "[encoded data removed]",
      "text/plain": [
       "<Figure size 720x504 with 1 Axes>"
      ]
     },
     "metadata": {
      "needs_background": "light"
     },
     "output_type": "display_data"
    }
   ],
   "source": [
    "mi_df = wd_mie\n",
    "print(mi_df)\n",
    "fig2, ax2 = plt.subplots(1, 1, sharex=True)\n",
    "set_legend = True\n",
    "layers = [2]\n",
    "print(layers)\n",
    "if len(layers) < 8:\n",
    "    colors = ['black', 'blue', 'red', 'green', 'yellow', 'cyan', 'magenta']\n",
    "else:\n",
    "    colors = [rand_color() for _ in range(len(layers))]\n",
    "\n",
    "seeds = wd_vals\n",
    "layers_names = layers\n",
    "mi_df = wd_mie\n",
    "for i in range(len(seeds)):\n",
    "    for j in range(len(layers)):\n",
    "        colors[j] = 'black'\n",
    "        if set_legend:\n",
    "            ax2.scatter(mi_df.loc[seeds[i], layers_names[j]][0], mi_df.loc[seeds[i], layers_names[j]][1], color=colors[j], label='Linear%s' % layers_names[j]+' wd:%s'%seeds[i])\n",
    "        else:\n",
    "            ax2.scatter(mi_df.loc[seeds[i], layers_names[j]][0], mi_df.loc[seeds[i], layers_names[j]][1], color=colors[j])\n",
    "        ax2.annotate('  wd %d' % seeds[i], (mi_df.loc[seeds[i], layers_names[j]][0], mi_df.loc[seeds[i], layers_names[j]][1]))\n",
    "        ax2.grid()\n",
    "    set_legend = False\n",
    "    \n",
    "seeds = do_vals\n",
    "layers_names = layers\n",
    "mi_df = do_mie\n",
    "for i in range(len(seeds)):\n",
    "    for j in range(len(layers)):\n",
    "        colors[j] = 'blue'\n",
    "        if set_legend:\n",
    "            ax2.scatter(mi_df.loc[seeds[i], layers_names[j]][0], mi_df.loc[seeds[i], layers_names[j]][1], color=colors[j], label='Linear%s' % layers_names[j]+' do:%s'%seeds[i])\n",
    "        else:\n",
    "            ax2.scatter(mi_df.loc[seeds[i], layers_names[j]][0], mi_df.loc[seeds[i], layers_names[j]][1], color=colors[j])\n",
    "        ax2.annotate('  do %d' % seeds[i], (mi_df.loc[seeds[i], layers_names[j]][0], mi_df.loc[seeds[i], layers_names[j]][1]))\n",
    "        ax2.grid()\n",
    "    set_legend = False\n",
    "\n",
    "seeds = ['1e-%s' % i for i in vib_beta_vals]\n",
    "layers_names = [0]\n",
    "mi_df = vib_mie\n",
    "\n",
    "for i in range(len(seeds)):\n",
    "    for j in range(len(layers_names)):\n",
    "        print(layers_names[j])\n",
    "        colors[j] = 'red'\n",
    "        if set_legend:\n",
    "            ax2.scatter(mi_df.loc[seeds[i], layers_names[j]][0], mi_df.loc[seeds[i], layers_names[j]][1], color=colors[j], label='Linear%s' % layers_names[j]+' vib:%s'%seeds[i])\n",
    "        else:\n",
    "            ax2.scatter(mi_df.loc[seeds[i], layers_names[j]][0], mi_df.loc[seeds[i], layers_names[j]][1], color=colors[j])\n",
    "        ax2.annotate('  vib %s' % seeds[i], (mi_df.loc[seeds[i], layers_names[j]][0], mi_df.loc[seeds[i], layers_names[j]][1]))\n",
    "        ax2.grid()\n",
    "    set_legend = False\n",
    "\n",
    "ax2.set_xlabel('I(X, Z)')\n",
    "ax2.set_ylabel('I(Z, Y)')\n",
    "\n",
    "fig2.legend()\n",
    "fig2.set_size_inches(10, 7, forward=True)\n",
    "fig2.savefig('all_linear2.png')\n",
    "\n"
   ]
  },
  {
   "cell_type": "code",
   "execution_count": 69,
   "metadata": {},
   "outputs": [
    {
     "data": {
      "text/plain": [
       "['1e1', '1e2', '1e3', '1e4', '1e5']"
      ]
     },
     "execution_count": 69,
     "metadata": {},
     "output_type": "execute_result"
    }
   ],
   "source": [
    "['1e%s' % i for i in seeds]"
   ]
  },
  {
   "cell_type": "code",
   "execution_count": 64,
   "metadata": {},
   "outputs": [
    {
     "data": {
      "text/plain": [
       "1e-1    (2.2147030251286037, 2.1111897779584496)\n",
       "1e-2     (2.5872479629177616, 2.324947485285348)\n",
       "1e-3        (3.774134405133848, 2.3471957521416)\n",
       "1e-4      (7.481858338789919, 2.350941629771373)\n",
       "1e-5     (10.320041737850245, 2.352484049672764)\n",
       "Name: 0, dtype: object"
      ]
     },
     "execution_count": 64,
     "metadata": {},
     "output_type": "execute_result"
    }
   ],
   "source": [
    "vib_mie[0]"
   ]
  },
  {
   "cell_type": "code",
   "execution_count": null,
   "metadata": {},
   "outputs": [],
   "source": []
  }
 ],
 "metadata": {
  "kernelspec": {
   "display_name": "Python [conda env:py37] *",
   "language": "python",
   "name": "conda-env-py37-py"
  },
  "language_info": {
   "codemirror_mode": {
    "name": "ipython",
    "version": 3
   },
   "file_extension": ".py",
   "mimetype": "text/x-python",
   "name": "python",
   "nbconvert_exporter": "python",
   "pygments_lexer": "ipython3",
   "version": "3.7.3"
  }
 },
 "nbformat": 4,
 "nbformat_minor": 2
}
