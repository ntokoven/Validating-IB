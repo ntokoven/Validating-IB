{
 "cells": [
  {
   "cell_type": "code",
   "execution_count": 3,
   "metadata": {},
   "outputs": [],
   "source": [
    "import torch\n",
    "import numpy as np\n",
    "import matplotlib.pyplot as plt\n",
    "import pandas as pd\n",
    "import os\n",
    "import re\n",
    "from collections import Counter, OrderedDict\n",
    "from shapely.geometry import Polygon\n",
    "import json\n",
    "\n",
    "from helper import abc_metric, plot_acc_numlabels, get_colors"
   ]
  },
  {
   "cell_type": "code",
   "execution_count": 4,
   "metadata": {},
   "outputs": [
    {
     "name": "stdout",
     "output_type": "stream",
     "text": [
      "[0.5575, 0.5626, 0.5418, 0.5693, 0.5735, 0.5372, 0.5624, 0.5854, 0.5461, 0.5275, 0.601, 0.5904, 0.5533, 0.5247, 0.5696, 0.5564, 0.5419, 0.581, 0.586, 0.5865, 0.5817, 0.5841, 0.5661, 0.5613, 0.5895, 0.5472, 0.5321, 0.5519, 0.5342, 0.5532, 0.5807, 0.5414, 0.5746, 0.5575, 0.584, 0.537, 0.5568, 0.5236, 0.5883, 0.5845, 0.5456, 0.5482, 0.5373, 0.5643, 0.5809, 0.5186, 0.5662, 0.5576, 0.5157, 0.5767, 0.5666, 0.5635, 0.5791, 0.5697, 0.5339, 0.5472, 0.5536, 0.5487, 0.5459, 0.5717, 0.5661, 0.5692, 0.5447, 0.5924, 0.5689, 0.5612, 0.5731, 0.586, 0.5412, 0.5709, 0.5621, 0.5862, 0.5613, 0.5688, 0.5356, 0.514, 0.5563, 0.5497, 0.5683, 0.5611, 0.5576, 0.5738, 0.5869, 0.5797, 0.5784, 0.5653, 0.578, 0.5344, 0.5476, 0.5369, 0.5818, 0.5786, 0.5801, 0.5603, 0.5184, 0.5791, 0.5702, 0.5795, 0.5513, 0.5362]\n"
     ]
    }
   ],
   "source": [
    "folder = 'experiments_2007/gencap/cifar10/vib/5e-4'\n",
    "\n",
    "acc_df = pd.read_csv(folder+'/acc_track.csv', sep=' ', index_col=0)#.transpose()\n",
    "# print(acc_df.loc[10, 'Linear0'].split(','))\n",
    "\n",
    "a = acc_df.loc[10, 'Linear0']\n",
    "print(json.loads(a))\n",
    "\n",
    "def transform(val_a, val_b, maximum=2.980196957073414, minimum=0):\n",
    "    val_a = val_a / maximum * 100\n",
    "    val_b = val_b / maximum * 100\n",
    "    return val_a, val_b"
   ]
  },
  {
   "cell_type": "code",
   "execution_count": 51,
   "metadata": {},
   "outputs": [
    {
     "name": "stdout",
     "output_type": "stream",
     "text": [
      "10       0.560860\n",
      "20       0.616900\n",
      "40       0.670783\n",
      "80       0.681698\n",
      "160      0.698363\n",
      "320      0.718316\n",
      "640      0.727291\n",
      "1280     0.736931\n",
      "2560     0.741559\n",
      "5120     0.742776\n",
      "10240    0.743047\n",
      "20480    0.745393\n",
      "Name: Linear0, dtype: float64\n"
     ]
    },
    {
     "data": {
      "image/png": "[encoded data removed]",
      "text/plain": [
       "<Figure size 360x252 with 1 Axes>"
      ]
     },
     "metadata": {
      "needs_background": "light"
     },
     "output_type": "display_data"
    }
   ],
   "source": [
    "num_labels_range = [10, 20, 40, 80, 160, 320, 640, 1280, 2560, 5120, 10240, 20480]\n",
    "num_classes = 10\n",
    "layers_names = ['Linear0']\n",
    "best_performance = 1\n",
    "\n",
    "fig1, ax = plt.subplots(len(layers_names), 1, sharex=True)\n",
    "nums = np.array(num_labels_range)/num_classes\n",
    "colors = get_colors(len(layers_names))\n",
    "\n",
    "mean = lambda x: np.mean(x)\n",
    "std = lambda x: np.std(x)\n",
    "abc_metric_values = {}\n",
    "vib_beta = '5e-4'\n",
    "info = 'VIB beta = %s' % vib_beta\n",
    "for i in range(len(layers_names)):\n",
    "    a = acc_df[layers_names[i]].apply(json.loads)\n",
    "    means = a.apply(mean)\n",
    "    stds = a.apply(std)\n",
    "    print(means)\n",
    "    best_performance = means.loc[20480]\n",
    "    abc_metric_values[layers_names[i]] = metric_value = abc_metric(best_performance, a.apply(mean).to_numpy(), nums), abc_metric(best_performance, a.apply(mean).to_numpy(), nums, top=False)\n",
    "    if len(layers_names) != 1:\n",
    "        tx = ax[i]\n",
    "    else:\n",
    "        tx = ax\n",
    "    metric_value = transform(metric_value[0], metric_value[1])\n",
    "    tx.plot(np.log10(nums), means, color=colors[i], label='%s => ABC=(%0.5f, %0.5f)' % (info, metric_value[0], metric_value[1]), linewidth=3)\n",
    "    tx.plot(np.log10(nums), best_performance * np.ones(len(nums)), linewidth=3)\n",
    "#     tx.fill_between(np.log10(nums), means - stds, means + stds, facecolor=colors[i], interpolate=True, alpha=0.25)\n",
    "    tx.grid()\n",
    "    # tx.set_ylim((np.min(acc_df.min().min()), 1))\n",
    "    tx.set_ylim((0, 1))\n",
    "    tx.fill_between(np.log10(nums), means, best_performance * np.ones(len(nums)), facecolor='red', interpolate=True, alpha=1)\n",
    "#     tx.fill_between(np.log10(nums), means, np.ones(len(nums)), facecolor='orange', interpolate=True, alpha=1)\n",
    "\n",
    "\n",
    "\n",
    "\n",
    "tx.set_xlabel('# of labels per class (log10)')\n",
    "tx.set_ylabel('Accuracy')\n",
    "\n",
    "fig1.legend()\n",
    "fig1.set_size_inches(5, 3.5, forward=True)\n",
    "# if not os.path.exists(FLAGS.result_path):\n",
    "#       os.makedirs(FLAGS.result_path)\n",
    "fig1.savefig('thesis_plots/abc1.png')\n",
    "plt.show()\n",
    "plt.close(fig1)"
   ]
  },
  {
   "cell_type": "code",
   "execution_count": 47,
   "metadata": {},
   "outputs": [],
   "source": [
    "!mkdir thesis_plots"
   ]
  },
  {
   "cell_type": "code",
   "execution_count": 51,
   "metadata": {},
   "outputs": [],
   "source": [
    "path = 'experiments_2007/results/cifar10/abc_values/'\n",
    "new_path = 'experiments_2007/results/cifar10/transformed_abc_values/'\n",
    "if not os.path.exists(new_path):\n",
    "    os.mkdir(new_path)\n",
    "clean_data = lambda x: re.sub('[0-1] ', '', x)\n",
    "os.listdir(path)\n",
    "for f in os.listdir(path):\n",
    "    if f != '.DS_Store':\n",
    "        try:\n",
    "            abc_tmp_df = pd.read_csv(path+f, index_col=0, sep=' ')\n",
    "        #     abc_tmp_df['Linear2'] = abc_tmp_df[' Linear2'].apply(clean_data).apply(float)\n",
    "        #     del(abc_tmp_df[' Linear2'])\n",
    "        #     print(abc_tmp_df)\n",
    "            abc_tmp_df.loc[0, 'Linear0'], abc_tmp_df.loc[1, 'Linear0'] = transform(abc_tmp_df.loc[0, 'Linear0'], abc_tmp_df.loc[1, 'Linear0'])\n",
    "            #print(abc_tmp_df, '\\n\\n')\n",
    "            abc_tmp_df.to_csv(new_path+f)\n",
    "        except Exception as e:\n",
    "            print(e)\n",
    "            print(f)\n",
    "    #print(path+f)\n"
   ]
  }
 ],
 "metadata": {
  "kernelspec": {
   "display_name": "Python 3",
   "language": "python",
   "name": "python3"
  },
  "language_info": {
   "codemirror_mode": {
    "name": "ipython",
    "version": 3
   },
   "file_extension": ".py",
   "mimetype": "text/x-python",
   "name": "python",
   "nbconvert_exporter": "python",
   "pygments_lexer": "ipython3",
   "version": "3.7.3"
  }
 },
 "nbformat": 4,
 "nbformat_minor": 2
}
