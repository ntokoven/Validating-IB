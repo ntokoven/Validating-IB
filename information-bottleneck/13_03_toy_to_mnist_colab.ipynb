{
  "nbformat": 4,
  "nbformat_minor": 0,
  "metadata": {
    "accelerator": "GPU",
    "colab": {
      "name": "13.03 toy to mnist colab.ipynb",
      "provenance": [],
      "collapsed_sections": []
    },
    "kernelspec": {
      "display_name": "Python 3",
      "language": "python",
      "name": "python3"
    },
    "language_info": {
      "codemirror_mode": {
        "name": "ipython",
        "version": 3
      },
      "file_extension": ".py",
      "mimetype": "text/x-python",
      "name": "python",
      "nbconvert_exporter": "python",
      "pygments_lexer": "ipython3",
      "version": "3.7.3"
    }
  },
  "cells": [
    {
      "cell_type": "code",
      "metadata": {
        "colab_type": "code",
        "id": "igLHoZPbUwXk",
        "outputId": "2e06ae8c-687c-436f-a263-b829c1ac76ce",
        "colab": {
          "base_uri": "https://localhost:8080/",
          "height": 105
        }
      },
      "source": [
        "%pylab inline\n",
        "\n",
        "import torch\n",
        "import torch.optim as optim\n",
        "import torch.nn as nn\n",
        "import torch.nn.init as init\n",
        "from torch.autograd import Variable\n",
        "\n",
        "import numpy as np\n",
        "from random import randint, seed\n",
        "\n",
        "# Flag to enable execution on GPU\n",
        "# device = torch.device('cpu')\n",
        "device = torch.device('cuda' if torch.cuda.is_available() else 'cpu')\n",
        "cuda = torch.cuda.is_available()"
      ],
      "execution_count": 53,
      "outputs": [
        {
          "output_type": "stream",
          "text": [
            "Populating the interactive namespace from numpy and matplotlib\n"
          ],
          "name": "stdout"
        },
        {
          "output_type": "stream",
          "text": [
            "/usr/local/lib/python3.6/dist-packages/IPython/core/magics/pylab.py:161: UserWarning: pylab import has clobbered these variables: ['randint', 'seed']\n",
            "`%matplotlib` prevents importing * from pylab and numpy\n",
            "  \"\\n`%matplotlib` prevents importing * from pylab and numpy\"\n"
          ],
          "name": "stderr"
        }
      ]
    },
    {
      "cell_type": "code",
      "metadata": {
        "id": "YpfpprCfvc2r",
        "colab_type": "code",
        "outputId": "76ea8989-818c-428a-8edf-ddac5403cb23",
        "colab": {
          "base_uri": "https://localhost:8080/",
          "height": 34
        }
      },
      "source": [
        "device"
      ],
      "execution_count": 70,
      "outputs": [
        {
          "output_type": "execute_result",
          "data": {
            "text/plain": [
              "device(type='cuda')"
            ]
          },
          "metadata": {
            "tags": []
          },
          "execution_count": 70
        }
      ]
    },
    {
      "cell_type": "code",
      "metadata": {
        "id": "emsSbOzJLwCK",
        "colab_type": "code",
        "colab": {}
      },
      "source": [
        "from torchvision.datasets import MNIST\n",
        "from torchvision.transforms import ToTensor\n",
        "\n",
        "# Loading the MNIST dataset\n",
        "train_set = MNIST('./data/MNIST', download=True, train=True, transform=ToTensor())\n",
        "test_set = MNIST('./data/MNIST', download=True, train=False, transform=ToTensor())"
      ],
      "execution_count": 0,
      "outputs": []
    },
    {
      "cell_type": "code",
      "metadata": {
        "colab_type": "code",
        "id": "hTHGDGBxUwXu",
        "colab": {}
      },
      "source": [
        "from torch.utils.data import DataLoader\n",
        "\n",
        "n_train_samples = len(train_set) # number of train samples\n",
        "n_test_samples = len(test_set) # number of test samples\n",
        "\n",
        "np.random.seed(1234)\n",
        "torch.manual_seed(1234)\n",
        "\n",
        "# generate samples\n",
        "seed(1234)\n",
        "\n",
        "batch_size = 64\n",
        "\n",
        "# Initialization of the data loader\n",
        "train_loader = DataLoader(train_set, batch_size=batch_size, shuffle=True, num_workers=1)\n",
        "test_loader = DataLoader(test_set, batch_size=batch_size, shuffle=True, num_workers=1)"
      ],
      "execution_count": 0,
      "outputs": []
    },
    {
      "cell_type": "code",
      "metadata": {
        "colab_type": "code",
        "id": "ZEzcIfE-UwYP",
        "colab": {}
      },
      "source": [
        "from torch.nn.functional import softplus, softmax\n",
        "\n",
        "class MLP(nn.Module):\n",
        "    def __init__(self, n_inputs, n_hidden, n_classes, neg_slope=0.02):\n",
        "        super(MLP, self).__init__()\n",
        "        self.n_inputs = n_inputs,\n",
        "        self.n_hidden = n_hidden,\n",
        "        self.n_classes = n_classes\n",
        "        \n",
        "        self.layers = []\n",
        "        self.num_neurons = [n_inputs] + n_hidden + [n_classes]\n",
        "        self.models = {}\n",
        "        for i in range(len(self.num_neurons) - 2):\n",
        "            self.layers.append(nn.Linear(self.num_neurons[i], self.num_neurons[i+1]))\n",
        "            self.layers.append(nn.LeakyReLU(negative_slope=neg_slope))\n",
        "            self.models['Linear{}'.format(i)] = nn.Sequential(*self.layers)\n",
        "            \n",
        "\n",
        "        self.layers.append(nn.Linear(self.num_neurons[i+1], self.num_neurons[i+2]))\n",
        "        self.models['Output'] = nn.Sequential(*self.layers)\n",
        "        self.full_model = self.models['Output']\n",
        "        \n",
        "        \n",
        "        \n",
        "    def forward(self, x, exitLayer=None): \n",
        "        if exitLayer is not None:\n",
        "            out = self.models[exitLayer](x)\n",
        "        else:\n",
        "            out = self.full_model(x)\n",
        "        return out\n",
        "'''\n",
        "class VAE(nn.Module):\n",
        "    def __init__(self, z_dim):\n",
        "        super(VAE, self).__init__()\n",
        "        \n",
        "        self.z_dim = z_dim\n",
        "        \n",
        "        # Vanilla MLP\n",
        "        self.net = nn.Sequential(\n",
        "            nn.Linear(10, 1024),\n",
        "            nn.ReLU(True),\n",
        "            nn.Linear(1024, 1024),\n",
        "            nn.ReLU(True),\n",
        "            nn.Linear(1024, z_dim*2),\n",
        "        )\n",
        "        \n",
        "    def forward(self, x):\n",
        "        x = x.view(x.size(0),-1) # Flatten the input\n",
        "        params = self.net(x)\n",
        "        \n",
        "        mu, sigma = params[:,:self.z_dim], params[:,self.z_dim:]\n",
        "        sigma = softplus(sigma) + 1e-7  # Make sigma always positive\n",
        "        \n",
        "        return Independent(Normal(loc=mu, scale=sigma), 1) # Return a factorized Normal distribution\n",
        "'''\n",
        "\n",
        "\n",
        "class VAE(nn.Module):\n",
        "\n",
        "    def __init__(self, x_dim, y_dim, z_dim=6):\n",
        "        super(VAE, self).__init__()\n",
        "        self.K = z_dim\n",
        "\n",
        "        self.encode = nn.Sequential(\n",
        "            nn.Linear(x_dim, 1024),\n",
        "            nn.ReLU(True),\n",
        "            nn.Linear(1024, 1024),\n",
        "            nn.ReLU(True),\n",
        "            nn.Linear(1024, 2*self.K))\n",
        "\n",
        "        self.decode = nn.Sequential(\n",
        "                nn.Linear(self.K, y_dim))\n",
        "\n",
        "    def forward(self, x, num_sample=1):\n",
        "        if x.dim() > 2 : x = x.view(x.size(0),-1)\n",
        "\n",
        "        statistics = self.encode(x)\n",
        "        mu = statistics[:,:self.K]\n",
        "        std = softplus(statistics[:,self.K:]-5,beta=1)\n",
        "\n",
        "        encoding = self.reparametrize_n(mu, std, num_sample)\n",
        "        logit = self.decode(encoding)\n",
        "\n",
        "        if num_sample == 1 : pass\n",
        "        elif num_sample > 1 : logit = softmax(logit, dim=2).mean(0)\n",
        "\n",
        "        return (mu, std), logit, encoding\n",
        "\n",
        "    def reparametrize_n(self, mu, std, n=1):\n",
        "        # reference :\n",
        "        # http://pytorch.org/docs/0.3.1/_modules/torch/distributions.html#Distribution.sample_n\n",
        "        def expand(v):\n",
        "            if isinstance(v, Number):\n",
        "                return torch.Tensor([v]).expand(n, 1)\n",
        "            else:\n",
        "                return v.expand(n, *v.size())\n",
        "\n",
        "        if n != 1 :\n",
        "            mu = expand(mu)\n",
        "            std = expand(std)\n",
        "\n",
        "        eps = Variable(std.data.new(std.size()).normal_().to(device))\n",
        "\n",
        "        return mu + eps * std\n",
        "\n",
        "    def weight_init(self):\n",
        "        for m in self._modules:\n",
        "            xavier_init(self._modules[m])\n",
        "\n",
        "\n",
        "def xavier_init(ms):\n",
        "    for m in ms :\n",
        "        if isinstance(m, nn.Linear) or isinstance(m, nn.Conv2d):\n",
        "            nn.init.xavier_uniform(m.weight,gain=nn.init.calculate_gain('relu'))\n",
        "            m.bias.data.zero_()"
      ],
      "execution_count": 0,
      "outputs": []
    },
    {
      "cell_type": "code",
      "metadata": {
        "colab_type": "code",
        "id": "tfwUDM2_UwYV",
        "colab": {}
      },
      "source": [
        "def get_named_layers(net):\n",
        "    conv2d_idx = 0\n",
        "    convT2d_idx = 0\n",
        "    linear_idx = 0\n",
        "    batchnorm2d_idx = 0\n",
        "    named_layers = {}\n",
        "    for mod in net.modules():\n",
        "        if isinstance(mod, torch.nn.Conv2d):\n",
        "            layer_name = 'Conv2d{}_{}-{}'.format(\n",
        "                conv2d_idx, mod.in_channels, mod.out_channels\n",
        "            )\n",
        "            named_layers[layer_name] = mod\n",
        "            conv2d_idx += 1\n",
        "        elif isinstance(mod, torch.nn.ConvTranspose2d):\n",
        "            layer_name = 'ConvT2d{}_{}-{}'.format(\n",
        "                conv2d_idx, mod.in_channels, mod.out_channels\n",
        "            )\n",
        "            named_layers[layer_name] = mod\n",
        "            convT2d_idx += 1\n",
        "        elif isinstance(mod, torch.nn.BatchNorm2d):\n",
        "            layer_name = 'BatchNorm2D{}_{}'.format(\n",
        "                batchnorm2d_idx, mod.num_features)\n",
        "            named_layers[layer_name] = mod\n",
        "            batchnorm2d_idx += 1\n",
        "        elif isinstance(mod, torch.nn.Linear):\n",
        "            layer_name = 'Linear{}_{}-{}'.format(\n",
        "                linear_idx, mod.in_features, mod.out_features\n",
        "            )\n",
        "            named_layers[layer_name] = mod\n",
        "            linear_idx += 1\n",
        "    return named_layers\n",
        "\n",
        "def accuracy(predictions, targets, mnist=True):\n",
        "    if mnist:\n",
        "        accuracy = (predictions.argmax(dim=1) == targets).type(torch.FloatTensor).mean().item()\n",
        "    else:\n",
        "        accuracy = (predictions.argmax(dim=1) == targets.argmax(dim=1)).type(torch.FloatTensor).mean().item()\n",
        "    return accuracy"
      ],
      "execution_count": 0,
      "outputs": []
    },
    {
      "cell_type": "code",
      "metadata": {
        "id": "K_mtR59A78PA",
        "colab_type": "code",
        "outputId": "1cf47c8a-aa1c-482a-905e-6302639a5191",
        "colab": {
          "base_uri": "https://localhost:8080/",
          "height": 71
        }
      },
      "source": [
        "# Single time define the testing set. Keep it fixed until the end\n",
        "xs = []\n",
        "ys = []\n",
        "\n",
        "for x, y in test_loader:\n",
        "    xs.append(x)\n",
        "    ys.append(y)\n",
        "\n",
        "xs = torch.cat(xs, 0)\n",
        "ys = torch.cat(ys, 0)\n",
        "\n",
        "X_test, y_test = torch.tensor(xs, requires_grad=False).flatten(start_dim=1).to(device), torch.tensor(ys, requires_grad=False).type(torch.LongTensor).to(device)"
      ],
      "execution_count": 59,
      "outputs": [
        {
          "output_type": "stream",
          "text": [
            "/usr/local/lib/python3.6/dist-packages/ipykernel_launcher.py:11: UserWarning: To copy construct from a tensor, it is recommended to use sourceTensor.clone().detach() or sourceTensor.clone().detach().requires_grad_(True), rather than torch.tensor(sourceTensor).\n",
            "  # This is added back by InteractiveShellApp.init_path()\n"
          ],
          "name": "stderr"
        }
      ]
    },
    {
      "cell_type": "code",
      "metadata": {
        "colab_type": "code",
        "id": "GeHMyJCMUwYZ",
        "outputId": "e11b6055-6906-420d-eab0-f03772a4430e",
        "colab": {
          "base_uri": "https://localhost:8080/",
          "height": 119
        }
      },
      "source": [
        "dnn_hidden_units = [1024, 512, 256, 128, 64]\n",
        "dnn_input_units = X_test.shape[-1]\n",
        "dnn_output_units = 10 #y.shape[-1] if y.ndim > 1 else 1\n",
        "\n",
        "# MLP_object = VAE(dnn_input_units, dnn_output_units).to(device)\n",
        "MLP_object = MLP(dnn_input_units, dnn_hidden_units, dnn_output_units)\n",
        "get_named_layers(MLP_object)\n",
        "#MLP_object.parameters()\n",
        "#print(MLP_object.models)"
      ],
      "execution_count": 8,
      "outputs": [
        {
          "output_type": "execute_result",
          "data": {
            "text/plain": [
              "{'Linear0_784-1024': Linear(in_features=784, out_features=1024, bias=True),\n",
              " 'Linear1_1024-512': Linear(in_features=1024, out_features=512, bias=True),\n",
              " 'Linear2_512-256': Linear(in_features=512, out_features=256, bias=True),\n",
              " 'Linear3_256-128': Linear(in_features=256, out_features=128, bias=True),\n",
              " 'Linear4_128-64': Linear(in_features=128, out_features=64, bias=True),\n",
              " 'Linear5_64-10': Linear(in_features=64, out_features=10, bias=True)}"
            ]
          },
          "metadata": {
            "tags": []
          },
          "execution_count": 8
        }
      ]
    },
    {
      "cell_type": "code",
      "metadata": {
        "id": "3xr1RbbhZpvu",
        "colab_type": "code",
        "colab": {}
      },
      "source": [
        "from collections import Counter\n",
        "\n",
        "#Calculate real MI throughout training\n",
        "def calc_mutual_information(hidden):\n",
        "    n_neurons = hidden.shape[-1]\n",
        "  \n",
        "    # discretization \n",
        "    n_bins = 30\n",
        "    bins = np.linspace(-1, 1, n_bins+1)\n",
        "    indices = np.digitize(hidden, bins)\n",
        "    \n",
        "    # initialize pdfs\n",
        "    pdf_x = Counter(); pdf_y = Counter(); pdf_t = Counter(); pdf_xt = Counter(); pdf_yt = Counter()\n",
        "\n",
        "    for i in range(n_train_samples):\n",
        "        pdf_x[x_train_int[i]] += 1/float(n_train_samples)\n",
        "        pdf_y[y_train[i,0]] += 1/float(n_train_samples)      \n",
        "        pdf_xt[(x_train_int[i],)+tuple(indices[i,:])] += 1/float(n_train_samples)\n",
        "        pdf_yt[(y_train[i,0],)+tuple(indices[i,:])] += 1/float(n_train_samples)\n",
        "        pdf_t[tuple(indices[i,:])] += 1/float(n_train_samples)\n",
        "    \n",
        "    # calcuate encoder mutual information I(X;T)\n",
        "    mi_xt = 0\n",
        "    for i in pdf_xt:\n",
        "        # P(x,t), P(x) and P(t)\n",
        "        p_xt = pdf_xt[i]; p_x = pdf_x[i[0]]; p_t = pdf_t[i[1:]]\n",
        "        # I(X;T)\n",
        "        mi_xt += p_xt * np.log(p_xt / p_x / p_t)\n",
        " \n",
        "    # calculate decoder mutual information I(T;Y)\n",
        "    mi_ty = 0\n",
        "    for i in pdf_yt:\n",
        "        # P(t,y), P(t) and P(y)\n",
        "        p_yt = pdf_yt[i]; p_t = pdf_t[i[1:]]; p_y = pdf_y[i[0]]\n",
        "        # I(T;Y)\n",
        "        try:\n",
        "          mi_ty += p_yt * np.log(p_yt / p_t / p_y)\n",
        "        except ZeroDivisionError:\n",
        "          mi_ty += p_yt * np.log(p_yt / (p_t + 1e-5) / (p_y + 1e-5))\n",
        "            \n",
        "    return mi_xt, mi_ty\n",
        "\n",
        "# get mutual information for all hidden layers\n",
        "def get_mutual_information(hidden):\n",
        "    mi_xt_list = []; mi_ty_list = []\n",
        "    # for hidden in hiddens:\n",
        "    if True:\n",
        "        mi_xt, mi_ty = calc_mutual_information(hidden)\n",
        "        mi_xt_list.append(mi_xt)\n",
        "        mi_ty_list.append(mi_ty)\n",
        "    return mi_xt_list, mi_ty_list"
      ],
      "execution_count": 0,
      "outputs": []
    },
    {
      "cell_type": "code",
      "metadata": {
        "colab_type": "code",
        "id": "u_OKUCe-UwYf",
        "outputId": "7825deaa-0725-4e33-9e45-fa5e744e572e",
        "colab": {
          "base_uri": "https://localhost:8080/",
          "height": 1000
        }
      },
      "source": [
        "from tqdm import tqdm\n",
        "\n",
        "\n",
        "def train_encoder(z_dim = 6, enc_type='MLP', layer='Linear3', weight_decay=0, num_epochs=10, eval_freq=1, beta=1):\n",
        "  \n",
        "    if enc_type == 'MLP':\n",
        "        Net = MLP(dnn_input_units, dnn_hidden_units, dnn_output_units).to(device)\n",
        "    elif enc_type =='VAE':\n",
        "        Net = VAE(dnn_input_units, dnn_output_units, z_dim).to(device)\n",
        "    criterion = nn.CrossEntropyLoss()\n",
        "    optimizer = optim.Adam(Net.parameters(), lr=3e-3, weight_decay=weight_decay)#, momentum=0.2)\n",
        "\n",
        "    # X_test, Y_test = torch.tensor(x_test, requires_grad=False).float().to(device), torch.tensor(y_test, requires_grad=False).float().to(device)\n",
        "    accuracy_evaluation = {'train': [], 'test': []}\n",
        "    loss_evaluation = {'train': [], 'test': []}\n",
        "    mi_xt_all = []; mi_ty_all = []; epochs = []\n",
        "    start_time = time.time()\n",
        "    max_accuracy = 0\n",
        "\n",
        "    for epoch in range(num_epochs):\n",
        "        for X_train, y_train in train_loader:\n",
        "\n",
        "            X_train, y_train = X_train.flatten(start_dim=1).to(device), y_train.to(device)\n",
        "        \n",
        "            optimizer.zero_grad()\n",
        "            if enc_type =='VAE':\n",
        "                (mu, std), out, z_train = Net(X_train)\n",
        "                class_loss = criterion(out, y_train).div(math.log(2))\n",
        "                info_loss = -0.5 * (1 + 2 * std.log() - mu.pow(2) - std.pow(2)).sum(1).mean().div(math.log(2))\n",
        "                loss = class_loss + beta * info_loss\n",
        "            else:\n",
        "                out = Net(X_train)\n",
        "                loss = criterion(out, y_train)\n",
        "            loss.backward()\n",
        "            optimizer.step()\n",
        "\n",
        "        if epoch % eval_freq == 0 or epoch == num_epochs - 1:\n",
        "\n",
        "                # if enc_type =='MLP':\n",
        "                #     mi_xt, mi_ty = get_mutual_information(Net.models[layer](X_train).cpu().data.numpy())\n",
        "                # else:\n",
        "                #     mi_xt, mi_ty = get_mutual_information(z_train.cpu().data.numpy())\n",
        "                # mi_xt_all.append(mi_xt)\n",
        "                # mi_ty_all.append(mi_ty)\n",
        "\n",
        "                print('\\n'+'#'*30)\n",
        "                print('Training epoch - %d/%d' % (epoch+1, num_epochs))\n",
        "\n",
        "                if enc_type == 'VAE':\n",
        "                    (mu, std), out_test, z_test = Net(X_test)\n",
        "                    test_class_loss = criterion(out, y_train).div(math.log(2))\n",
        "                    test_info_loss = -0.5 * (1 + 2 * std.log() - mu.pow(2) - std.pow(2)).sum(1).mean().div(math.log(2))\n",
        "                    test_loss = test_class_loss + beta * test_info_loss\n",
        "                else:\n",
        "                    out_test = Net(X_test)\n",
        "                    test_loss = criterion(out_test, y_test)\n",
        "                test_accuracy = accuracy(out_test, y_test)\n",
        "                if test_accuracy > max_accuracy:\n",
        "                    max_accuracy = test_accuracy\n",
        "\n",
        "                print('Train: Accuracy - %0.3f, Loss - %0.3f' % (accuracy(out, y_train), loss))\n",
        "                print('Test: Accuracy - %0.3f, Loss - %0.3f' % (test_accuracy, test_loss))\n",
        "                # print('I(X, %s) - %s' % (layer, mi_xt))\n",
        "                # print('I(%s, Y) - %s' % (layer, mi_ty))\n",
        "                print('Elapse time: ', time.time() - start_time)\n",
        "                print('#'*30,'\\n')\n",
        "                if test_accuracy == 1 and test_loss == 0:\n",
        "                    break\n",
        "\n",
        "    return Net, max_accuracy\n",
        "\n",
        "enc_type = 'VAE'\n",
        "Encoder, performance = train_encoder(enc_type=enc_type, beta=1)#, weight_decay=0.01)\n",
        "print('Best achieved performance: ', performance)\n",
        "print(Encoder)"
      ],
      "execution_count": 63,
      "outputs": [
        {
          "output_type": "stream",
          "text": [
            "\n",
            "\n",
            " 57%|█████▋    | 533/938 [00:21<00:06, 63.50it/s]\u001b[A\u001b[A"
          ],
          "name": "stderr"
        },
        {
          "output_type": "stream",
          "text": [
            "\n",
            "##############################\n",
            "Training epoch - 1/10\n",
            "Train: Accuracy - 0.938, Loss - 0.430\n",
            "Test: Accuracy - 0.962, Loss - 0.438\n",
            "Elapse time:  13.203227996826172\n",
            "############################## \n",
            "\n",
            "\n",
            "##############################\n",
            "Training epoch - 2/10\n",
            "Train: Accuracy - 0.969, Loss - 0.281\n",
            "Test: Accuracy - 0.968, Loss - 0.275\n",
            "Elapse time:  26.172807931900024\n",
            "############################## \n",
            "\n",
            "\n",
            "##############################\n",
            "Training epoch - 3/10\n",
            "Train: Accuracy - 0.938, Loss - 0.455\n",
            "Test: Accuracy - 0.969, Loss - 0.458\n",
            "Elapse time:  39.14405846595764\n",
            "############################## \n",
            "\n",
            "\n",
            "##############################\n",
            "Training epoch - 4/10\n",
            "Train: Accuracy - 1.000, Loss - 0.127\n",
            "Test: Accuracy - 0.973, Loss - 0.135\n",
            "Elapse time:  52.232301235198975\n",
            "############################## \n",
            "\n",
            "\n",
            "##############################\n",
            "Training epoch - 5/10\n",
            "Train: Accuracy - 1.000, Loss - 0.162\n",
            "Test: Accuracy - 0.975, Loss - 0.163\n",
            "Elapse time:  65.23678660392761\n",
            "############################## \n",
            "\n",
            "\n",
            "##############################\n",
            "Training epoch - 6/10\n",
            "Train: Accuracy - 1.000, Loss - 0.175\n",
            "Test: Accuracy - 0.971, Loss - 0.177\n",
            "Elapse time:  78.37709927558899\n",
            "############################## \n",
            "\n",
            "\n",
            "##############################\n",
            "Training epoch - 7/10\n",
            "Train: Accuracy - 1.000, Loss - 0.123\n",
            "Test: Accuracy - 0.972, Loss - 0.119\n",
            "Elapse time:  91.25242805480957\n",
            "############################## \n",
            "\n",
            "\n",
            "##############################\n",
            "Training epoch - 8/10\n",
            "Train: Accuracy - 1.000, Loss - 0.132\n",
            "Test: Accuracy - 0.971, Loss - 0.131\n",
            "Elapse time:  104.2206802368164\n",
            "############################## \n",
            "\n",
            "\n",
            "##############################\n",
            "Training epoch - 9/10\n",
            "Train: Accuracy - 1.000, Loss - 0.114\n",
            "Test: Accuracy - 0.970, Loss - 0.121\n",
            "Elapse time:  117.19670128822327\n",
            "############################## \n",
            "\n",
            "\n",
            "##############################\n",
            "Training epoch - 10/10\n",
            "Train: Accuracy - 0.969, Loss - 0.248\n",
            "Test: Accuracy - 0.973, Loss - 0.250\n",
            "Elapse time:  130.19382214546204\n",
            "############################## \n",
            "\n",
            "Best achieved performance:  0.9746999740600586\n",
            "VAE(\n",
            "  (encode): Sequential(\n",
            "    (0): Linear(in_features=784, out_features=1024, bias=True)\n",
            "    (1): ReLU(inplace=True)\n",
            "    (2): Linear(in_features=1024, out_features=1024, bias=True)\n",
            "    (3): ReLU(inplace=True)\n",
            "    (4): Linear(in_features=1024, out_features=12, bias=True)\n",
            "  )\n",
            "  (decode): Sequential(\n",
            "    (0): Linear(in_features=6, out_features=10, bias=True)\n",
            "  )\n",
            ")\n"
          ],
          "name": "stdout"
        }
      ]
    },
    {
      "cell_type": "code",
      "metadata": {
        "colab_type": "code",
        "id": "z3qZ1W8XUwYr",
        "colab": {}
      },
      "source": [
        "# Neural approximation of MI starts here\n",
        "# Auxiliary network for mutual information estimation\n",
        "class MIEstimator(nn.Module):\n",
        "    def __init__(self, size1, size2):\n",
        "        super(MIEstimator, self).__init__()\n",
        "        \n",
        "        # Vanilla MLP\n",
        "        self.net = nn.Sequential(\n",
        "            nn.Linear(size1 + size2, 1024),\n",
        "            nn.ReLU(True),\n",
        "            nn.Linear(1024, 1024),\n",
        "            nn.ReLU(True),\n",
        "            nn.Linear(1024, 1),\n",
        "        )\n",
        "    \n",
        "    # Gradient for JSD mutual information estimation and EB-based estimation\n",
        "    def forward(self, x1, x2):\n",
        "        # breakpoint()\n",
        "        pos = self.net(torch.cat([x1, x2], 1)) #Positive Samples \n",
        "        neg = self.net(torch.cat([torch.roll(x1, 1, 0), x2], 1)) #Predictions for shuffled (negative) samples from p(z1)p(z2)\n",
        "        #breakpoint()\n",
        "        return -softplus(-pos).mean() - softplus(neg).mean(), pos.mean() - neg.exp().mean() + 1"
      ],
      "execution_count": 0,
      "outputs": []
    },
    {
      "cell_type": "code",
      "metadata": {
        "colab_type": "code",
        "id": "4rHCT2r8YuyO",
        "colab": {}
      },
      "source": [
        "from torch.utils.data import Subset\n",
        "from sklearn.linear_model import LogisticRegression\n",
        "from sklearn.preprocessing import MinMaxScaler\n",
        "\n",
        "class Scheduler:\n",
        "    def __call__(self, **kwargs):\n",
        "        raise NotImplemented()\n",
        "\n",
        "class LinearScheduler(Scheduler):\n",
        "    def __init__(self, start_value, end_value, n_iterations, start_iteration=0):\n",
        "        self.start_value = start_value\n",
        "        self.end_value = end_value\n",
        "        self.n_iterations = n_iterations\n",
        "        self.start_iteration = start_iteration\n",
        "        self.m = (end_value - start_value) / n_iterations\n",
        "\n",
        "    def __call__(self, iteration):\n",
        "        if iteration > self.start_iteration + self.n_iterations:\n",
        "            return self.end_value\n",
        "        elif iteration <= self.start_iteration:\n",
        "            return self.start_value\n",
        "        else:\n",
        "            return (iteration - self.start_iteration) * self.m + self.start_value\n",
        "\n",
        "class ExponentialScheduler(LinearScheduler):\n",
        "    def __init__(self, start_value, end_value, n_iterations, start_iteration=0, base=10):\n",
        "        self.base = base\n",
        "\n",
        "        super(ExponentialScheduler, self).__init__(start_value=math.log(start_value, base),\n",
        "                                                   end_value=math.log(end_value, base),\n",
        "                                                   n_iterations=n_iterations,\n",
        "                                                   start_iteration=start_iteration)\n",
        "\n",
        "    def __call__(self, iteration):\n",
        "        linear_value = super(ExponentialScheduler, self).__call__(iteration)\n",
        "        return self.base ** linear_value\n",
        "\n",
        "def split(dataset, size, split_type):\n",
        "    if split_type == 'Random':\n",
        "        data_split, _ = torch.utils.data.random_split(dataset, [size, len(dataset) - size])\n",
        "    elif split_type == 'Balanced':\n",
        "        class_ids = {}\n",
        "        for idx, (_, y) in enumerate(dataset):\n",
        "            if y not in class_ids:\n",
        "                class_ids[y] = []\n",
        "            class_ids[y].append(idx)\n",
        "\n",
        "        ids_per_class = size // len(class_ids)\n",
        "\n",
        "        selected_ids = []\n",
        "\n",
        "        for ids in class_ids.values():\n",
        "            selected_ids += list(np.random.choice(ids, min(ids_per_class, len(ids)), replace=False))\n",
        "        data_split = torch.utils.data.Subset(dataset, selected_ids)\n",
        "\n",
        "    return data_split\n",
        "\n",
        "\n",
        "class EmbeddedDataset:\n",
        "    BLOCK_SIZE = 256\n",
        "\n",
        "    def __init__(self, base_dataset, encoder, enc_type, cuda=True):\n",
        "        if cuda:\n",
        "            encoder = encoder.cuda()\n",
        "        self.means, self.target = self._embed(encoder, base_dataset, cuda)\n",
        "\n",
        "    def _embed(self, encoder, dataset, cuda):\n",
        "        encoder.eval()\n",
        "\n",
        "        data_loader = torch.utils.data.DataLoader(\n",
        "            dataset,\n",
        "            batch_size=self.BLOCK_SIZE,\n",
        "            shuffle=False)\n",
        "\n",
        "        ys = []\n",
        "        reps = []\n",
        "        with torch.no_grad():\n",
        "            for x, y in data_loader:\n",
        "                x = x.flatten(start_dim=1)\n",
        "                if cuda:\n",
        "                    x = x.cuda()\n",
        "                    y = y.cuda()\n",
        "                if enc_type == 'VAE':\n",
        "                    (_, _), _, p_z_given_x = encoder(x)\n",
        "                else: \n",
        "                    p_z_given_x = encoder(x)\n",
        "                reps.append(p_z_given_x.detach())\n",
        "                ys.append(y)\n",
        "            ys = torch.cat(ys, 0)\n",
        "\n",
        "        encoder.train()\n",
        "        return reps, ys\n",
        "\n",
        "    def __getitem__(self, index):\n",
        "        y = self.target[index]\n",
        "        # x = self.means[index][0]\n",
        "        x = self.means[index // self.BLOCK_SIZE][index % self.BLOCK_SIZE]\n",
        "        return x, y\n",
        "\n",
        "    def __len__(self):\n",
        "        return self.target.size(0)\n",
        "\n",
        "def train_and_evaluate_linear_model(train_set, test_set, solver='saga', multi_class='multinomial', tol=.1, C=2):\n",
        "    model = LogisticRegression(solver=solver, multi_class=multi_class, tol=tol, C=C)\n",
        "    scaler = MinMaxScaler()\n",
        "\n",
        "    x_train, y_train = build_matrix(train_set)\n",
        "    x_test, y_test = build_matrix(test_set)\n",
        "    x_train = scaler.fit_transform(x_train)\n",
        "    x_test = scaler.transform(x_test)\n",
        "\n",
        "    model.fit(x_train, y_train)\n",
        "    test_accuracy = model.score(x_test, y_test)\n",
        "    train_accuracy = model.score(x_train, y_train)\n",
        "\n",
        "    return train_accuracy, test_accuracy\n",
        "\n",
        "\n",
        "def build_matrix(dataset):\n",
        "    data_loader = torch.utils.data.DataLoader(dataset, batch_size=256, shuffle=False)\n",
        "\n",
        "    xs = []\n",
        "    ys = []\n",
        "\n",
        "    for x, y in data_loader:\n",
        "        xs.append(x)\n",
        "        ys.append(y)\n",
        "\n",
        "    xs = torch.cat(xs, 0)\n",
        "    ys = torch.cat(ys, 0)\n",
        "\n",
        "    if xs.is_cuda:\n",
        "        xs = xs.cpu()\n",
        "    if ys.is_cuda:\n",
        "        ys = ys.cpu()\n",
        "\n",
        "    return xs.data.numpy(), ys.data.numpy()\n",
        "\n",
        "def evaluate(encoder, enc_type, train_on, test_on, cuda):\n",
        "    embedded_train = EmbeddedDataset(train_on, encoder, enc_type, cuda=cuda)\n",
        "    embedded_test = EmbeddedDataset(test_on, encoder, enc_type, cuda=cuda)\n",
        "    return train_and_evaluate_linear_model(embedded_train, embedded_test)\n",
        "\n",
        "def onehot_encoding(x, num_classes=10):\n",
        "    x_onehot = torch.FloatTensor(x.shape[0], num_classes)\n",
        "    x_onehot.zero_()\n",
        "    x_onehot.scatter_(1, x.view(x.shape[0], 1), 1)\n",
        "    return x_onehot"
      ],
      "execution_count": 0,
      "outputs": []
    },
    {
      "cell_type": "code",
      "metadata": {
        "id": "91duTE0CUrud",
        "colab_type": "code",
        "outputId": "40e76540-44aa-45c8-9086-393bcaf971ba",
        "colab": {
          "base_uri": "https://localhost:8080/",
          "height": 1000
        }
      },
      "source": [
        "import pandas as pd\n",
        "\n",
        "def train_MI(encoder, beta=None, num_epochs=2000, estimate_mi_on_train=True):\n",
        "    \n",
        "    if estimate_mi_on_train:\n",
        "        loader = train_loader\n",
        "    else:\n",
        "        loader = test_loader\n",
        "\n",
        "    if enc_type == 'VAE':\n",
        "       (_, _), _, z_test = encoder(X_test)\n",
        "    else:\n",
        "       z_test = encoder(X_test)\n",
        "    z_test = torch.tensor(z_test, requires_grad=False).to(device)\n",
        "\n",
        "    x_dim, y_dim, z_dim = X_test.shape[-1], dnn_output_units, z_test.shape[-1]\n",
        "    print(x_dim, y_dim, z_dim)\n",
        "    mi_estimator_X = MIEstimator(x_dim, z_dim).to(device)\n",
        "    mi_estimator_Y = MIEstimator(z_dim, y_dim).to(device)\n",
        "\n",
        "    optimizer = optim.Adam([\n",
        "    {'params': mi_estimator_X.parameters(), 'lr':1e-4},\n",
        "    {'params': mi_estimator_Y.parameters(), 'lr':1e-4},\n",
        "    ])\n",
        "    if beta is None:\n",
        "        use_scheduler = True\n",
        "        beta_scheduler = ExponentialScheduler(start_value=1e-9, end_value=1e-1, n_iterations=500, start_iteration=1)\n",
        "    else:\n",
        "        use_scheduler = False\n",
        "\n",
        "    start_time = time.time()\n",
        "    max_MI_x, max_MI_y = 0, 0\n",
        "    mi_mean_est_all = {'X': [], 'Y': []}\n",
        "    \n",
        "    for epoch in range(num_epochs):\n",
        "        if use_scheduler:\n",
        "            beta = beta_scheduler(epoch)\n",
        "        mi_over_epoch = {'X': [], 'Y': []}\n",
        "        for X, y in loader:\n",
        "            y = onehot_encoding(y)\n",
        "            X, y = X.flatten(start_dim=1).to(device), y.float().to(device)\n",
        "\n",
        "            if enc_type == 'VAE':\n",
        "                (_, _), _, z = encoder(X)\n",
        "            else:\n",
        "                z = encoder(X)\n",
        "            optimizer.zero_grad()\n",
        "            mi_gradient_X, mi_estimation_X = mi_estimator_X(X, z)\n",
        "            mi_gradient_X = mi_gradient_X.mean()\n",
        "            mi_estimation_X = mi_estimation_X.mean()\n",
        "\n",
        "            mi_gradient_Y, mi_estimation_Y = mi_estimator_Y(z, y)\n",
        "            mi_gradient_Y = mi_gradient_Y.mean()\n",
        "            mi_estimation_Y = mi_estimation_Y.mean()\n",
        "                    \n",
        "            loss_mi = - mi_gradient_Y - beta * mi_gradient_X\n",
        "            loss_mi.backward()\n",
        "            optimizer.step()\n",
        "            mi_over_epoch['X'].append(mi_estimation_X.item())\n",
        "            mi_over_epoch['Y'].append(mi_estimation_Y.item())\n",
        "            if mi_estimation_X.item() > max_MI_x and epoch > 5:#10:\n",
        "                max_MI_x = mi_estimation_X.item()\n",
        "                max_MI_y = mi_estimation_Y.item()\n",
        "        mi_mean_est_all['X'].append(np.mean(mi_over_epoch['X']))\n",
        "        mi_mean_est_all['Y'].append(np.mean(mi_over_epoch['Y']))\n",
        "        eval_freq = 1\n",
        "            \n",
        "        # if epoch >= 50 and np.mean(mi_est_all['X'][-50]) > max_MI_x - 1e-1:\n",
        "        #     break\n",
        "        if epoch % eval_freq == 0 or epoch == num_epochs - 1:\n",
        "            #if mi_estimation_X.item() > max_MI_x and epoch > 5:\n",
        "            #    max_MI_x = mi_estimation_X.item()\n",
        "            #    max_MI_y = mi_estimation_Y.item()\n",
        "            \n",
        "            # if epoch >= 15 and np.mean(mi_est_all['X'][-10]) > max_MI_x - 1e-1:\n",
        "            #     break\n",
        "\n",
        "            print('#'*30)\n",
        "            print('Step - ', epoch)\n",
        "            print('Beta - ', beta)\n",
        "                \n",
        "            # print('Mean MI X', np.mean(mi_mean_est_all['X']))\n",
        "            # print('Mean MI Y', np.mean(mi_mean_est_all['Y']))\n",
        "            if epoch >= 1:\n",
        "\n",
        "              delta_x = np.abs(mi_mean_est_all['X'][-2] - mi_mean_est_all['X'][-1])\n",
        "              print('Delta X: ', delta_x)\n",
        "              \n",
        "              delta_y = np.abs(mi_mean_est_all['Y'][-2] - mi_mean_est_all['Y'][-1])\n",
        "              print('Delta Y: ', delta_y)\n",
        "              print('\\nMean MI X for last 10', mi_mean_est_all['X'][-10:])\n",
        "              print('Mean MI Y for last 10', mi_mean_est_all['Y'][-10:])\n",
        "              mi_df = pd.DataFrame.from_dict(mi_mean_est_all)\n",
        "              mi_df.to_csv('mi_mlp.csv', sep=' ')\n",
        "            # print('I_est(X, %s) - %s' % (layer, mi_estimation_X.item()))\n",
        "            #print('Grad I_est(X, T)', mi_gradient_X)\n",
        "            # print('I_est(%s, Y) - %s' % (layer, mi_estimation_Y.item()))\n",
        "            # print('Max I_est(X, %s) - %s' % (layer, max_MI_x))\n",
        "            #print('Grad I_est(X, T)', mi_gradient_X)\n",
        "            # print('Max I_est(%s, Y) - %s' % (layer, max_MI_y))\n",
        "            #print('Grad I_est(T, Y)', mi_gradient_Y)\n",
        "            print('Elapsed time training MI for %s: %s' % (layer, time.time() - start_time))\n",
        "            print('#'*30,'\\n')\n",
        "\n",
        "            \n",
        "    return max_MI_x, max_MI_y\n",
        "\n",
        "\n",
        "batch_size = 64\n",
        "\n",
        "# Initialization of the data loader\n",
        "train_loader = DataLoader(train_set, batch_size=batch_size, shuffle=True, num_workers=1)\n",
        "test_loader = DataLoader(test_set, batch_size=batch_size, shuffle=True, num_workers=1)\n",
        "\n",
        "num_classes = 10\n",
        "labels_per_class = [2**i for i in range(0, int(np.log2(n_train_samples/num_classes)))]\n",
        "num_labels_range = num_classes * np.array(labels_per_class)\n",
        "# layers = ['Linear2', 'Linear3', 'Linear4']\n",
        "layers = ['Linear4']\n",
        "if enc_type == 'MLP':   \n",
        "    acc = {layer:{i:[] for i in num_labels_range} for layer in layers}\n",
        "else:\n",
        "    acc = {i:[] for i in num_labels_range}\n",
        "print(num_labels_range)\n",
        "seeds = [9]#, 42, 103, 48, 79]\n",
        "mi_layers = {} #probably make for different seeds as well\n",
        "start_time = time.time()\n",
        "\n",
        "for i in range(len(seeds)):\n",
        "\n",
        "    \n",
        "    print('\\nRunning with seed %d out of %d' % (i+1, len(seeds)))\n",
        "    torch.manual_seed(seeds[i])\n",
        "    np.random.seed(seeds[i])\n",
        "    seed(seeds[i])\n",
        "    \n",
        "    \n",
        "    for layer in layers:\n",
        "        '''\n",
        "        if seeds[i] == 9:\n",
        "            if enc_type == 'MLP':\n",
        "                MI_X, MI_Y = train_MI(Encoder.models[layer], beta=1)\n",
        "            else:\n",
        "                MI_X, MI_Y = train_MI(Encoder, num_epochs=2000)\n",
        "            mi_layers[layer] = (MI_X, MI_Y)\n",
        "            print('MI values for %s - %s, %s' % (layer, MI_X, MI_Y))\n",
        "        '''\n",
        "        # train_set = torch.utils.data.TensorDataset(torch.Tensor(x_train).to(device), torch.Tensor(y_train).to(device)) \n",
        "        # test_set = torch.utils.data.TensorDataset(torch.Tensor(x_test).to(device), torch.Tensor(y_test).to(device))\n",
        "    \n",
        "        for num_labels in num_labels_range:\n",
        "            print('\\n\\nEvaluating for %s (labels per class - %s)' % (layer, num_labels))\n",
        "            #acc[layer].append(train_MI(num_labels, Encoder, num_epochs=2000))\n",
        "            print('Num labels:', num_labels)\n",
        "            train_subset = split(train_set, num_labels, 'Balanced') \n",
        "            print(len(train_subset))\n",
        "            # test_subset = split(train_set, n_test_samples, 'Random') \n",
        "            if enc_type == 'MLP':\n",
        "                train_accuracy, test_accuracy = evaluate(encoder=Encoder.models[layer], enc_type=enc_type, train_on=train_subset, test_on=test_set, cuda=torch.cuda.is_available())\n",
        "            else:\n",
        "                train_accuracy, test_accuracy = evaluate(encoder=Encoder, enc_type=enc_type, train_on=train_subset, test_on=test_set, cuda=torch.cuda.is_available())\n",
        "            #train_accuracy, test_accuracy = train_and_evaluate_linear_model(train_subset, test_set, C=2)\n",
        "            print('Train Accuracy: %f'% train_accuracy)\n",
        "            print('Test Accuracy: %f'% test_accuracy)\n",
        "            if enc_type == 'MLP':\n",
        "                acc[layer][num_labels].append(test_accuracy)\n",
        "            else:\n",
        "                acc[num_labels].append(test_accuracy)\n",
        "\n",
        "    print('Elapsed time - ', time.time() - start_time)"
      ],
      "execution_count": 73,
      "outputs": [
        {
          "output_type": "stream",
          "text": [
            "[   10    20    40    80   160   320   640  1280  2560  5120 10240 20480]\n",
            "\n",
            "Running with seed 1 out of 1\n",
            "\n",
            "\n",
            "Evaluating for Linear4 (labels per class - 10)\n",
            "Num labels: 10\n",
            "10\n",
            "Train Accuracy: 1.000000\n",
            "Test Accuracy: 0.929800\n",
            "\n",
            "\n",
            "Evaluating for Linear4 (labels per class - 20)\n",
            "Num labels: 20\n",
            "20\n",
            "Train Accuracy: 1.000000\n",
            "Test Accuracy: 0.936100\n",
            "\n",
            "\n",
            "Evaluating for Linear4 (labels per class - 40)\n",
            "Num labels: 40\n",
            "40\n",
            "Train Accuracy: 1.000000\n",
            "Test Accuracy: 0.967800\n",
            "\n",
            "\n",
            "Evaluating for Linear4 (labels per class - 80)\n",
            "Num labels: 80\n",
            "80\n",
            "Train Accuracy: 0.987500\n",
            "Test Accuracy: 0.970600\n",
            "\n",
            "\n",
            "Evaluating for Linear4 (labels per class - 160)\n",
            "Num labels: 160\n",
            "160\n",
            "Train Accuracy: 0.993750\n",
            "Test Accuracy: 0.973700\n",
            "\n",
            "\n",
            "Evaluating for Linear4 (labels per class - 320)\n",
            "Num labels: 320\n",
            "320\n",
            "Train Accuracy: 0.993750\n",
            "Test Accuracy: 0.971000\n",
            "\n",
            "\n",
            "Evaluating for Linear4 (labels per class - 640)\n",
            "Num labels: 640\n",
            "640\n",
            "Train Accuracy: 0.992188\n",
            "Test Accuracy: 0.973700\n",
            "\n",
            "\n",
            "Evaluating for Linear4 (labels per class - 1280)\n",
            "Num labels: 1280\n",
            "1280\n",
            "Train Accuracy: 0.993750\n",
            "Test Accuracy: 0.973300\n",
            "\n",
            "\n",
            "Evaluating for Linear4 (labels per class - 2560)\n",
            "Num labels: 2560\n",
            "2560\n",
            "Train Accuracy: 0.992188\n",
            "Test Accuracy: 0.972100\n",
            "\n",
            "\n",
            "Evaluating for Linear4 (labels per class - 5120)\n",
            "Num labels: 5120\n",
            "5120\n",
            "Train Accuracy: 0.990625\n",
            "Test Accuracy: 0.975500\n",
            "\n",
            "\n",
            "Evaluating for Linear4 (labels per class - 10240)\n",
            "Num labels: 10240\n",
            "10240\n",
            "Train Accuracy: 0.993262\n",
            "Test Accuracy: 0.974100\n",
            "\n",
            "\n",
            "Evaluating for Linear4 (labels per class - 20480)\n",
            "Num labels: 20480\n",
            "20480\n",
            "Train Accuracy: 0.993164\n",
            "Test Accuracy: 0.974200\n",
            "Elapsed time -  108.7633318901062\n"
          ],
          "name": "stdout"
        }
      ]
    },
    {
      "cell_type": "code",
      "metadata": {
        "id": "h-P5T0Jg_yEq",
        "colab_type": "code",
        "colab": {
          "base_uri": "https://localhost:8080/",
          "height": 34
        },
        "outputId": "2056727a-0f54-4790-b5f7-334a1b4eedbe"
      },
      "source": [
        "performance"
      ],
      "execution_count": 74,
      "outputs": [
        {
          "output_type": "execute_result",
          "data": {
            "text/plain": [
              "0.9746999740600586"
            ]
          },
          "metadata": {
            "tags": []
          },
          "execution_count": 74
        }
      ]
    },
    {
      "cell_type": "code",
      "metadata": {
        "id": "1YG63TT4AHFf",
        "colab_type": "code",
        "colab": {}
      },
      "source": [
        "def target_metric(best_performance, accuracy):\n",
        "    "
      ],
      "execution_count": 0,
      "outputs": []
    },
    {
      "cell_type": "code",
      "metadata": {
        "id": "MFOs0siAkTKU",
        "colab_type": "code",
        "colab": {}
      },
      "source": [
        "# mi_df_plot = pd.read_csv('mi_mlp.csv', sep=' ', index_col=0)\n",
        "# mi_df_plot[mi_df_plot < 0] = np.nan\n",
        "# plt.plot(np.arange(len(mi_df_plot)), mi_df_plot['X'], label='I(X,Z)')\n",
        "# plt.plot(np.arange(len(mi_df_plot)), mi_df_plot['Y'], label='I(Z,Y)')\n",
        "# plt.legend()\n",
        "# plt.savefig('mi.png')"
      ],
      "execution_count": 0,
      "outputs": []
    },
    {
      "cell_type": "code",
      "metadata": {
        "id": "gHJDUb6tisON",
        "colab_type": "code",
        "outputId": "90b35165-070c-440e-cc00-8fd6f9189f5f",
        "colab": {
          "base_uri": "https://localhost:8080/",
          "height": 34
        }
      },
      "source": [
        ""
      ],
      "execution_count": 0,
      "outputs": [
        {
          "output_type": "execute_result",
          "data": {
            "text/plain": [
              "0"
            ]
          },
          "metadata": {
            "tags": []
          },
          "execution_count": 35
        }
      ]
    },
    {
      "cell_type": "code",
      "metadata": {
        "id": "IDXAwdvsKrz0",
        "colab_type": "code",
        "colab": {}
      },
      "source": [
        "import pandas as pd\n",
        "\n",
        "acc_df = pd.DataFrame.from_dict(acc)\n",
        "plot_data = pd.DataFrame()\n",
        "# acc_df.to_csv('acc_mlp_l2.csv', sep=' ')\n",
        "acc_df = acc_df.transpose()"
      ],
      "execution_count": 0,
      "outputs": []
    },
    {
      "cell_type": "code",
      "metadata": {
        "id": "7Xgel0Y-Cl17",
        "colab_type": "code",
        "colab": {
          "base_uri": "https://localhost:8080/",
          "height": 238
        },
        "outputId": "e75486a5-945b-4afb-a4e8-b05a7243ec71"
      },
      "source": [
        "acc_df[0]"
      ],
      "execution_count": 89,
      "outputs": [
        {
          "output_type": "execute_result",
          "data": {
            "text/plain": [
              "10       0.9298\n",
              "20       0.9361\n",
              "40       0.9678\n",
              "80       0.9706\n",
              "160      0.9737\n",
              "320      0.9710\n",
              "640      0.9737\n",
              "1280     0.9733\n",
              "2560     0.9721\n",
              "5120     0.9755\n",
              "10240    0.9741\n",
              "20480    0.9742\n",
              "Name: 0, dtype: float64"
            ]
          },
          "metadata": {
            "tags": []
          },
          "execution_count": 89
        }
      ]
    },
    {
      "cell_type": "code",
      "metadata": {
        "id": "-L2TlkyAgJis",
        "colab_type": "code",
        "outputId": "3bf42969-2754-4d45-e87c-8f412b316dbc",
        "colab": {
          "base_uri": "https://localhost:8080/",
          "height": 650
        }
      },
      "source": [
        "mean = lambda x: np.mean(x)\n",
        "std = lambda x: np.std(x)\n",
        "acc_df.apply(mean)"
      ],
      "execution_count": 76,
      "outputs": [
        {
          "output_type": "error",
          "ename": "KeyError",
          "evalue": "ignored",
          "traceback": [
            "\u001b[0;31m---------------------------------------------------------------------------\u001b[0m",
            "\u001b[0;31mKeyError\u001b[0m                                  Traceback (most recent call last)",
            "\u001b[0;32m/usr/local/lib/python3.6/dist-packages/pandas/core/indexes/base.py\u001b[0m in \u001b[0;36mget_loc\u001b[0;34m(self, key, method, tolerance)\u001b[0m\n\u001b[1;32m   2896\u001b[0m             \u001b[0;32mtry\u001b[0m\u001b[0;34m:\u001b[0m\u001b[0;34m\u001b[0m\u001b[0;34m\u001b[0m\u001b[0m\n\u001b[0;32m-> 2897\u001b[0;31m                 \u001b[0;32mreturn\u001b[0m \u001b[0mself\u001b[0m\u001b[0;34m.\u001b[0m\u001b[0m_engine\u001b[0m\u001b[0;34m.\u001b[0m\u001b[0mget_loc\u001b[0m\u001b[0;34m(\u001b[0m\u001b[0mkey\u001b[0m\u001b[0;34m)\u001b[0m\u001b[0;34m\u001b[0m\u001b[0;34m\u001b[0m\u001b[0m\n\u001b[0m\u001b[1;32m   2898\u001b[0m             \u001b[0;32mexcept\u001b[0m \u001b[0mKeyError\u001b[0m\u001b[0;34m:\u001b[0m\u001b[0;34m\u001b[0m\u001b[0;34m\u001b[0m\u001b[0m\n",
            "\u001b[0;32mpandas/_libs/index.pyx\u001b[0m in \u001b[0;36mpandas._libs.index.IndexEngine.get_loc\u001b[0;34m()\u001b[0m\n",
            "\u001b[0;32mpandas/_libs/index.pyx\u001b[0m in \u001b[0;36mpandas._libs.index.IndexEngine.get_loc\u001b[0;34m()\u001b[0m\n",
            "\u001b[0;32mpandas/_libs/index_class_helper.pxi\u001b[0m in \u001b[0;36mpandas._libs.index.Int64Engine._check_type\u001b[0;34m()\u001b[0m\n",
            "\u001b[0;31mKeyError\u001b[0m: 'Linear4'",
            "\nDuring handling of the above exception, another exception occurred:\n",
            "\u001b[0;31mKeyError\u001b[0m                                  Traceback (most recent call last)",
            "\u001b[0;32m<ipython-input-76-c642f6d484ae>\u001b[0m in \u001b[0;36m<module>\u001b[0;34m()\u001b[0m\n\u001b[1;32m      1\u001b[0m \u001b[0mmean\u001b[0m \u001b[0;34m=\u001b[0m \u001b[0;32mlambda\u001b[0m \u001b[0mx\u001b[0m\u001b[0;34m:\u001b[0m \u001b[0mnp\u001b[0m\u001b[0;34m.\u001b[0m\u001b[0mmean\u001b[0m\u001b[0;34m(\u001b[0m\u001b[0mx\u001b[0m\u001b[0;34m)\u001b[0m\u001b[0;34m\u001b[0m\u001b[0;34m\u001b[0m\u001b[0m\n\u001b[1;32m      2\u001b[0m \u001b[0mstd\u001b[0m \u001b[0;34m=\u001b[0m \u001b[0;32mlambda\u001b[0m \u001b[0mx\u001b[0m\u001b[0;34m:\u001b[0m \u001b[0mnp\u001b[0m\u001b[0;34m.\u001b[0m\u001b[0mstd\u001b[0m\u001b[0;34m(\u001b[0m\u001b[0mx\u001b[0m\u001b[0;34m)\u001b[0m\u001b[0;34m\u001b[0m\u001b[0;34m\u001b[0m\u001b[0m\n\u001b[0;32m----> 3\u001b[0;31m \u001b[0macc_df\u001b[0m\u001b[0;34m[\u001b[0m\u001b[0;34m'Linear4'\u001b[0m\u001b[0;34m]\u001b[0m\u001b[0;34m.\u001b[0m\u001b[0mapply\u001b[0m\u001b[0;34m(\u001b[0m\u001b[0mmean\u001b[0m\u001b[0;34m)\u001b[0m\u001b[0;34m\u001b[0m\u001b[0;34m\u001b[0m\u001b[0m\n\u001b[0m",
            "\u001b[0;32m/usr/local/lib/python3.6/dist-packages/pandas/core/frame.py\u001b[0m in \u001b[0;36m__getitem__\u001b[0;34m(self, key)\u001b[0m\n\u001b[1;32m   2993\u001b[0m             \u001b[0;32mif\u001b[0m \u001b[0mself\u001b[0m\u001b[0;34m.\u001b[0m\u001b[0mcolumns\u001b[0m\u001b[0;34m.\u001b[0m\u001b[0mnlevels\u001b[0m \u001b[0;34m>\u001b[0m \u001b[0;36m1\u001b[0m\u001b[0;34m:\u001b[0m\u001b[0;34m\u001b[0m\u001b[0;34m\u001b[0m\u001b[0m\n\u001b[1;32m   2994\u001b[0m                 \u001b[0;32mreturn\u001b[0m \u001b[0mself\u001b[0m\u001b[0;34m.\u001b[0m\u001b[0m_getitem_multilevel\u001b[0m\u001b[0;34m(\u001b[0m\u001b[0mkey\u001b[0m\u001b[0;34m)\u001b[0m\u001b[0;34m\u001b[0m\u001b[0;34m\u001b[0m\u001b[0m\n\u001b[0;32m-> 2995\u001b[0;31m             \u001b[0mindexer\u001b[0m \u001b[0;34m=\u001b[0m \u001b[0mself\u001b[0m\u001b[0;34m.\u001b[0m\u001b[0mcolumns\u001b[0m\u001b[0;34m.\u001b[0m\u001b[0mget_loc\u001b[0m\u001b[0;34m(\u001b[0m\u001b[0mkey\u001b[0m\u001b[0;34m)\u001b[0m\u001b[0;34m\u001b[0m\u001b[0;34m\u001b[0m\u001b[0m\n\u001b[0m\u001b[1;32m   2996\u001b[0m             \u001b[0;32mif\u001b[0m \u001b[0mis_integer\u001b[0m\u001b[0;34m(\u001b[0m\u001b[0mindexer\u001b[0m\u001b[0;34m)\u001b[0m\u001b[0;34m:\u001b[0m\u001b[0;34m\u001b[0m\u001b[0;34m\u001b[0m\u001b[0m\n\u001b[1;32m   2997\u001b[0m                 \u001b[0mindexer\u001b[0m \u001b[0;34m=\u001b[0m \u001b[0;34m[\u001b[0m\u001b[0mindexer\u001b[0m\u001b[0;34m]\u001b[0m\u001b[0;34m\u001b[0m\u001b[0;34m\u001b[0m\u001b[0m\n",
            "\u001b[0;32m/usr/local/lib/python3.6/dist-packages/pandas/core/indexes/base.py\u001b[0m in \u001b[0;36mget_loc\u001b[0;34m(self, key, method, tolerance)\u001b[0m\n\u001b[1;32m   2897\u001b[0m                 \u001b[0;32mreturn\u001b[0m \u001b[0mself\u001b[0m\u001b[0;34m.\u001b[0m\u001b[0m_engine\u001b[0m\u001b[0;34m.\u001b[0m\u001b[0mget_loc\u001b[0m\u001b[0;34m(\u001b[0m\u001b[0mkey\u001b[0m\u001b[0;34m)\u001b[0m\u001b[0;34m\u001b[0m\u001b[0;34m\u001b[0m\u001b[0m\n\u001b[1;32m   2898\u001b[0m             \u001b[0;32mexcept\u001b[0m \u001b[0mKeyError\u001b[0m\u001b[0;34m:\u001b[0m\u001b[0;34m\u001b[0m\u001b[0;34m\u001b[0m\u001b[0m\n\u001b[0;32m-> 2899\u001b[0;31m                 \u001b[0;32mreturn\u001b[0m \u001b[0mself\u001b[0m\u001b[0;34m.\u001b[0m\u001b[0m_engine\u001b[0m\u001b[0;34m.\u001b[0m\u001b[0mget_loc\u001b[0m\u001b[0;34m(\u001b[0m\u001b[0mself\u001b[0m\u001b[0;34m.\u001b[0m\u001b[0m_maybe_cast_indexer\u001b[0m\u001b[0;34m(\u001b[0m\u001b[0mkey\u001b[0m\u001b[0;34m)\u001b[0m\u001b[0;34m)\u001b[0m\u001b[0;34m\u001b[0m\u001b[0;34m\u001b[0m\u001b[0m\n\u001b[0m\u001b[1;32m   2900\u001b[0m         \u001b[0mindexer\u001b[0m \u001b[0;34m=\u001b[0m \u001b[0mself\u001b[0m\u001b[0;34m.\u001b[0m\u001b[0mget_indexer\u001b[0m\u001b[0;34m(\u001b[0m\u001b[0;34m[\u001b[0m\u001b[0mkey\u001b[0m\u001b[0;34m]\u001b[0m\u001b[0;34m,\u001b[0m \u001b[0mmethod\u001b[0m\u001b[0;34m=\u001b[0m\u001b[0mmethod\u001b[0m\u001b[0;34m,\u001b[0m \u001b[0mtolerance\u001b[0m\u001b[0;34m=\u001b[0m\u001b[0mtolerance\u001b[0m\u001b[0;34m)\u001b[0m\u001b[0;34m\u001b[0m\u001b[0;34m\u001b[0m\u001b[0m\n\u001b[1;32m   2901\u001b[0m         \u001b[0;32mif\u001b[0m \u001b[0mindexer\u001b[0m\u001b[0;34m.\u001b[0m\u001b[0mndim\u001b[0m \u001b[0;34m>\u001b[0m \u001b[0;36m1\u001b[0m \u001b[0;32mor\u001b[0m \u001b[0mindexer\u001b[0m\u001b[0;34m.\u001b[0m\u001b[0msize\u001b[0m \u001b[0;34m>\u001b[0m \u001b[0;36m1\u001b[0m\u001b[0;34m:\u001b[0m\u001b[0;34m\u001b[0m\u001b[0;34m\u001b[0m\u001b[0m\n",
            "\u001b[0;32mpandas/_libs/index.pyx\u001b[0m in \u001b[0;36mpandas._libs.index.IndexEngine.get_loc\u001b[0;34m()\u001b[0m\n",
            "\u001b[0;32mpandas/_libs/index.pyx\u001b[0m in \u001b[0;36mpandas._libs.index.IndexEngine.get_loc\u001b[0;34m()\u001b[0m\n",
            "\u001b[0;32mpandas/_libs/index_class_helper.pxi\u001b[0m in \u001b[0;36mpandas._libs.index.Int64Engine._check_type\u001b[0;34m()\u001b[0m\n",
            "\u001b[0;31mKeyError\u001b[0m: 'Linear4'"
          ]
        }
      ]
    },
    {
      "cell_type": "code",
      "metadata": {
        "id": "EMtPl7e7e1v4",
        "colab_type": "code",
        "outputId": "816c1278-0556-4cbb-9ce9-dcabe99a919e",
        "colab": {
          "base_uri": "https://localhost:8080/",
          "height": 111
        }
      },
      "source": [
        "pd.DataFrame.from_dict(mi_layers)"
      ],
      "execution_count": 0,
      "outputs": [
        {
          "output_type": "execute_result",
          "data": {
            "text/html": [
              "<div>\n",
              "<style scoped>\n",
              "    .dataframe tbody tr th:only-of-type {\n",
              "        vertical-align: middle;\n",
              "    }\n",
              "\n",
              "    .dataframe tbody tr th {\n",
              "        vertical-align: top;\n",
              "    }\n",
              "\n",
              "    .dataframe thead th {\n",
              "        text-align: right;\n",
              "    }\n",
              "</style>\n",
              "<table border=\"1\" class=\"dataframe\">\n",
              "  <thead>\n",
              "    <tr style=\"text-align: right;\">\n",
              "      <th></th>\n",
              "      <th>Linear2</th>\n",
              "      <th>Linear3</th>\n",
              "      <th>Linear4</th>\n",
              "    </tr>\n",
              "  </thead>\n",
              "  <tbody>\n",
              "    <tr>\n",
              "      <th>0</th>\n",
              "      <td>2.838330</td>\n",
              "      <td>2.027251</td>\n",
              "      <td>1.946483</td>\n",
              "    </tr>\n",
              "    <tr>\n",
              "      <th>1</th>\n",
              "      <td>0.697114</td>\n",
              "      <td>0.691475</td>\n",
              "      <td>0.689363</td>\n",
              "    </tr>\n",
              "  </tbody>\n",
              "</table>\n",
              "</div>"
            ],
            "text/plain": [
              "    Linear2   Linear3   Linear4\n",
              "0  2.838330  2.027251  1.946483\n",
              "1  0.697114  0.691475  0.689363"
            ]
          },
          "metadata": {
            "tags": []
          },
          "execution_count": 98
        }
      ]
    },
    {
      "cell_type": "code",
      "metadata": {
        "id": "yUbkkzYOmqI1",
        "colab_type": "code",
        "colab": {
          "base_uri": "https://localhost:8080/",
          "height": 164
        },
        "outputId": "6f652791-b3ce-498d-bfbf-3809c5044945"
      },
      "source": [
        "np.log10(nums)"
      ],
      "execution_count": 78,
      "outputs": [
        {
          "output_type": "error",
          "ename": "NameError",
          "evalue": "ignored",
          "traceback": [
            "\u001b[0;31m---------------------------------------------------------------------------\u001b[0m",
            "\u001b[0;31mNameError\u001b[0m                                 Traceback (most recent call last)",
            "\u001b[0;32m<ipython-input-78-3482eb4cc5cc>\u001b[0m in \u001b[0;36m<module>\u001b[0;34m()\u001b[0m\n\u001b[0;32m----> 1\u001b[0;31m \u001b[0mnp\u001b[0m\u001b[0;34m.\u001b[0m\u001b[0mlog10\u001b[0m\u001b[0;34m(\u001b[0m\u001b[0mnums\u001b[0m\u001b[0;34m)\u001b[0m\u001b[0;34m\u001b[0m\u001b[0;34m\u001b[0m\u001b[0m\n\u001b[0m",
            "\u001b[0;31mNameError\u001b[0m: name 'nums' is not defined"
          ]
        }
      ]
    },
    {
      "cell_type": "code",
      "metadata": {
        "id": "fqS3_Be1nDrG",
        "colab_type": "code",
        "outputId": "e8c538fa-aa3c-43b7-8c1e-a5acac463ff5",
        "colab": {
          "base_uri": "https://localhost:8080/",
          "height": 501
        }
      },
      "source": [
        "from shapely.geometry import Polygon\n",
        "\n",
        "fig1, ax1 = plt.subplots(1, 1, sharex=True)\n",
        "nums = np.array(num_labels_range)\n",
        "colors = ['black', 'blue', 'red']\n",
        "# for i in range(len(layers)):\n",
        "#     means = acc_df[layers[i]].apply(mean)\n",
        "#     stds = acc_df[layers[i]].apply(std)\n",
        "#     ax1[i].plot(np.log10(nums), means, color=colors[i], label=layers[i]+' + L2 (lambda = 0.01)')\n",
        "#     ax1[i].fill_between(np.log10(nums), means - stds, means + stds, facecolor=colors[i], interpolate=True, alpha=0.25)\n",
        "#     ax1[i].grid()\n",
        "\n",
        "for i in range(1):#len(layers)):\n",
        "    means = acc_df[0].apply(mean)\n",
        "    stds = acc_df[0].apply(std)\n",
        "    ax1.plot(np.log10(nums), means, color=colors[i])\n",
        "    ax1.plot(np.log10(nums), performance * np.ones(len(nums)))\n",
        "    #ax1[i].fill_between(np.log10(nums), means - stds, means + stds, facecolor=colors[i], interpolate=True, alpha=0.25)\n",
        "    ax1.fill_between(np.log10(nums), means, performance * np.ones(len(nums)), facecolor=colors[i], interpolate=True, alpha=0.25)\n",
        "    ax1.grid()\n",
        "# ax1[-1].set_xlabel('# Labels')\n",
        "# ax1[1].set_ylabel('Accuracy')\n",
        "\n",
        "fig1.legend()\n",
        "fig1.set_size_inches(10, 7, forward=True)\n",
        "fig1.savefig('acc_beta1.png')"
      ],
      "execution_count": 114,
      "outputs": [
        {
          "output_type": "stream",
          "text": [
            "No handles with labels found to put in legend.\n"
          ],
          "name": "stderr"
        },
        {
          "output_type": "display_data",
          "data": {
            "image/png": "[encoded data removed]",
            "text/plain": [
              "<Figure size 720x504 with 1 Axes>"
            ]
          },
          "metadata": {
            "tags": []
          }
        }
      ]
    },
    {
      "cell_type": "code",
      "metadata": {
        "id": "tLng22crFsJT",
        "colab_type": "code",
        "colab": {
          "base_uri": "https://localhost:8080/",
          "height": 51
        },
        "outputId": "22b62604-a665-4a23-82a8-9f9d0fbdfe9a"
      },
      "source": [
        "acc_df[0].to_numpy()"
      ],
      "execution_count": 109,
      "outputs": [
        {
          "output_type": "execute_result",
          "data": {
            "text/plain": [
              "array([0.9298, 0.9361, 0.9678, 0.9706, 0.9737, 0.971 , 0.9737, 0.9733,\n",
              "       0.9721, 0.9755, 0.9741, 0.9742])"
            ]
          },
          "metadata": {
            "tags": []
          },
          "execution_count": 109
        }
      ]
    },
    {
      "cell_type": "code",
      "metadata": {
        "id": "dmyiiKIoE4z3",
        "colab_type": "code",
        "colab": {
          "base_uri": "https://localhost:8080/",
          "height": 34
        },
        "outputId": "0ce6cd38-8bd2-4f95-bf52-1819fa08a94d"
      },
      "source": [
        "perf = performance * np.ones(len(nums))\n",
        "def target_metric(best_performance, accuracy_over_labels, nums):\n",
        "    perf = best_performance * np.ones(len(nums))\n",
        "    x_y_curve1 = [(np.log10(nums)[i], accuracy_over_labels[i]) for i in range(len(nums))]#[(1,1),(2,1),(3,3),(4,3)] #these are your points for curve 1 \n",
        "    x_y_curve2 = [(np.log10(nums)[i], perf[i]) for i in range(len(nums))] #these are your points for curve 2 \n",
        "\n",
        "    polygon_points = [] #creates a empty list where we will append the points to create the polygon\n",
        "\n",
        "    for xyvalue in x_y_curve1:\n",
        "        polygon_points.append([xyvalue[0],xyvalue[1]]) #append all xy points for curve 1\n",
        "\n",
        "    for xyvalue in x_y_curve2[::-1]:\n",
        "        polygon_points.append([xyvalue[0],xyvalue[1]]) #append all xy points for curve 2 in the reverse order (from last point to first point)\n",
        "\n",
        "    for xyvalue in x_y_curve1[0:1]:\n",
        "        polygon_points.append([xyvalue[0],xyvalue[1]]) #append the first point in curve 1 again, to it \"closes\" the polygon\n",
        "\n",
        "    polygon = Polygon(polygon_points)\n",
        "    area = polygon.area\n",
        "    return area\n",
        "\n",
        "def accuracy_at_percent(percentage):\n",
        "    num_labels = percentage * len(train_set)\n",
        "    print(num_labels)\n",
        "\n",
        "metric_value = target_metric(performance, acc_df[0].to_numpy(), nums)\n",
        "\n"
      ],
      "execution_count": 110,
      "outputs": [
        {
          "output_type": "stream",
          "text": [
            "0.024624167749608718\n"
          ],
          "name": "stdout"
        }
      ]
    },
    {
      "cell_type": "code",
      "metadata": {
        "id": "l-JjG7v4EVKT",
        "colab_type": "code",
        "outputId": "3c4a9290-134e-4169-9c3e-c66fb710134a",
        "colab": {
          "base_uri": "https://localhost:8080/",
          "height": 498
        }
      },
      "source": [
        "mi_df = pd.DataFrame.from_dict(mi_layers)\n",
        "fig2, ax2 = plt.subplots(1, 1, sharex=True)\n",
        "colors = ['black', 'blue', 'red']\n",
        "for i in range(len(layers)):\n",
        "    ax2.scatter(mi_df.loc[0, layers[i]], mi_df.loc[1, layers[i]], color=colors[i], label=layers[i])\n",
        "    \n",
        "    ax2.annotate(layers[i], (mi_df.loc[0, layers[i]], mi_df.loc[1, layers[i]]))\n",
        "    ax2.grid()\n",
        "ax2.set_xlabel('I(X, Z)')\n",
        "ax2.set_ylabel('I(Z, Y)')\n",
        "\n",
        "fig2.legend()\n",
        "fig2.set_size_inches(10, 7, forward=True)\n",
        "fig2.savefig('mi_l2.png')"
      ],
      "execution_count": 0,
      "outputs": [
        {
          "output_type": "display_data",
          "data": {
            "image/png": "[encoded data removed]",
            "text/plain": [
              "<Figure size 720x504 with 1 Axes>"
            ]
          },
          "metadata": {
            "tags": []
          }
        }
      ]
    },
    {
      "cell_type": "code",
      "metadata": {
        "id": "EoFtMDUkoLi5",
        "colab_type": "code",
        "colab": {}
      },
      "source": [
        ""
      ],
      "execution_count": 0,
      "outputs": []
    }
  ]
}